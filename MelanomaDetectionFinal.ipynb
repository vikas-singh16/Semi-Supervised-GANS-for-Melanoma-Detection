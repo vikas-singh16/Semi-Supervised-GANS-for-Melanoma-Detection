{
 "cells": [
  {
   "cell_type": "code",
   "execution_count": 1,
   "metadata": {
    "id": "BgetXBBdDaTb"
   },
   "outputs": [],
   "source": [
    "from keras_preprocessing.image import ImageDataGenerator\n",
    "import os\n",
    "import matplotlib.pyplot as plt\n",
    "from keras.models import Sequential\n",
    "from keras.layers import Input,Conv2D,LeakyReLU,Flatten,Dropout,Dense,Reshape,Conv2DTranspose,BatchNormalization\n",
    "import tensorflow as tf"
   ]
  },
  {
   "cell_type": "code",
   "execution_count": 2,
   "metadata": {},
   "outputs": [],
   "source": [
    "root_dir = \"C:/Users/Mask/Desktop/AIML Projects/Semi -Supervised GANS for Melanoma Detection/MelanomaDetection\""
   ]
  },
  {
   "cell_type": "code",
   "execution_count": 3,
   "metadata": {
    "id": "ESX5nIQuR5G-"
   },
   "outputs": [],
   "source": [
    "unlabeled_data_gen = ImageDataGenerator(rotation_range=90,brightness_range=(0.5,1),horizontal_flip=True,vertical_flip=True,rescale=1.0/255.0)"
   ]
  },
  {
   "cell_type": "code",
   "execution_count": 4,
   "metadata": {
    "colab": {
     "base_uri": "https://localhost:8080/"
    },
    "executionInfo": {
     "elapsed": 52051,
     "status": "ok",
     "timestamp": 1644979000354,
     "user": {
      "displayName": "Axis India Machine Learning",
      "photoUrl": "https://lh3.googleusercontent.com/a-/AOh14Gj-ae171kd--3vHxZ1s3GOc45mMB1L-tiekBKF0pA=s64",
      "userId": "00282416292390226652"
     },
     "user_tz": -330
    },
    "id": "7cxt5_GRTuGt",
    "outputId": "031df9d5-c8fc-4f90-b0a8-0b095142c715"
   },
   "outputs": [
    {
     "name": "stdout",
     "output_type": "stream",
     "text": [
      "Found 7018 images belonging to 1 classes.\n"
     ]
    }
   ],
   "source": [
    "unlabeled_datagen = unlabeled_data_gen.flow_from_directory(directory=root_dir,\n",
    "                                                           target_size=(32,32),classes=['unlabeled'],batch_size=256)"
   ]
  },
  {
   "cell_type": "code",
   "execution_count": 5,
   "metadata": {
    "id": "GSOKI2DRWEmg"
   },
   "outputs": [],
   "source": [
    "def discriminator():\n",
    "\n",
    "  dis = Sequential(name=\"Discriminator\")\n",
    "\n",
    "  dis.add(Conv2D(filters=64,kernel_size=4,strides=2,padding=\"same\",input_shape=(32,32,3),use_bias=False))\n",
    "  dis.add(LeakyReLU(alpha=0.2))\n",
    "\n",
    "  dis.add(Conv2D(filters=128,kernel_size=4,strides=2,padding=\"same\",use_bias=False))\n",
    "  dis.add(BatchNormalization())\n",
    "  dis.add(LeakyReLU(alpha=0.2))\n",
    "\n",
    "  dis.add(Conv2D(filters=256,kernel_size=4,strides=2,padding=\"same\",use_bias=False))\n",
    "  dis.add(BatchNormalization())\n",
    "  dis.add(LeakyReLU(alpha=0.2))\n",
    "\n",
    "  dis.add(Flatten())\n",
    "  dis.add(Dropout(0.4))\n",
    "\n",
    "  dis.add(Dense(units=1,activation=\"sigmoid\"))\n",
    "\n",
    "  return dis"
   ]
  },
  {
   "cell_type": "code",
   "execution_count": 6,
   "metadata": {
    "id": "bbIoKLfVfc3m"
   },
   "outputs": [],
   "source": [
    "def generator():\n",
    "\n",
    "  noise_shape = 100\n",
    "  gen = Sequential(name=\"Generator\")\n",
    "\n",
    "  gen.add(Input(shape=(noise_shape,)))\n",
    "  gen.add(Dense(units=4*4*100))\n",
    "  gen.add(Reshape((4,4,100)))\n",
    "\n",
    "  gen.add(Conv2DTranspose(filters=256,kernel_size=4,strides=1,padding=\"same\",use_bias=False))\n",
    "  gen.add(BatchNormalization())\n",
    "  gen.add(LeakyReLU(alpha=0.2))\n",
    "\n",
    "  gen.add(Conv2DTranspose(filters=128,kernel_size=4,strides=2,padding=\"same\",use_bias=False))\n",
    "  gen.add(BatchNormalization())\n",
    "  gen.add(LeakyReLU(alpha=0.2))\n",
    "\n",
    "  gen.add(Conv2DTranspose(filters=64,kernel_size=4,strides=2,padding=\"same\",use_bias=False))\n",
    "  gen.add(BatchNormalization())\n",
    "  gen.add(LeakyReLU(alpha=0.2))\n",
    "\n",
    "  gen.add(Conv2DTranspose(filters=3,kernel_size=4,strides=2,padding=\"same\",activation=\"tanh\",use_bias=False))\n",
    "\n",
    "  return gen"
   ]
  },
  {
   "cell_type": "code",
   "execution_count": 7,
   "metadata": {
    "id": "YHu1Rmp-mL70"
   },
   "outputs": [],
   "source": [
    "D = discriminator()"
   ]
  },
  {
   "cell_type": "code",
   "execution_count": 8,
   "metadata": {
    "colab": {
     "base_uri": "https://localhost:8080/"
    },
    "executionInfo": {
     "elapsed": 427,
     "status": "ok",
     "timestamp": 1644979016118,
     "user": {
      "displayName": "Axis India Machine Learning",
      "photoUrl": "https://lh3.googleusercontent.com/a-/AOh14Gj-ae171kd--3vHxZ1s3GOc45mMB1L-tiekBKF0pA=s64",
      "userId": "00282416292390226652"
     },
     "user_tz": -330
    },
    "id": "77K3fdT3mWk4",
    "outputId": "0ac839bc-7421-41fd-f3fb-e7d2a01b2a10"
   },
   "outputs": [
    {
     "name": "stdout",
     "output_type": "stream",
     "text": [
      "Model: \"Discriminator\"\n",
      "_________________________________________________________________\n",
      " Layer (type)                Output Shape              Param #   \n",
      "=================================================================\n",
      " conv2d (Conv2D)             (None, 16, 16, 64)        3072      \n",
      "                                                                 \n",
      " leaky_re_lu (LeakyReLU)     (None, 16, 16, 64)        0         \n",
      "                                                                 \n",
      " conv2d_1 (Conv2D)           (None, 8, 8, 128)         131072    \n",
      "                                                                 \n",
      " batch_normalization (BatchN  (None, 8, 8, 128)        512       \n",
      " ormalization)                                                   \n",
      "                                                                 \n",
      " leaky_re_lu_1 (LeakyReLU)   (None, 8, 8, 128)         0         \n",
      "                                                                 \n",
      " conv2d_2 (Conv2D)           (None, 4, 4, 256)         524288    \n",
      "                                                                 \n",
      " batch_normalization_1 (Batc  (None, 4, 4, 256)        1024      \n",
      " hNormalization)                                                 \n",
      "                                                                 \n",
      " leaky_re_lu_2 (LeakyReLU)   (None, 4, 4, 256)         0         \n",
      "                                                                 \n",
      " flatten (Flatten)           (None, 4096)              0         \n",
      "                                                                 \n",
      " dropout (Dropout)           (None, 4096)              0         \n",
      "                                                                 \n",
      " dense (Dense)               (None, 1)                 4097      \n",
      "                                                                 \n",
      "=================================================================\n",
      "Total params: 664,065\n",
      "Trainable params: 663,297\n",
      "Non-trainable params: 768\n",
      "_________________________________________________________________\n"
     ]
    }
   ],
   "source": [
    "D.summary()"
   ]
  },
  {
   "cell_type": "code",
   "execution_count": 9,
   "metadata": {
    "colab": {
     "base_uri": "https://localhost:8080/",
     "height": 1000
    },
    "executionInfo": {
     "elapsed": 1395,
     "status": "ok",
     "timestamp": 1644979020487,
     "user": {
      "displayName": "Axis India Machine Learning",
      "photoUrl": "https://lh3.googleusercontent.com/a-/AOh14Gj-ae171kd--3vHxZ1s3GOc45mMB1L-tiekBKF0pA=s64",
      "userId": "00282416292390226652"
     },
     "user_tz": -330
    },
    "id": "jgUj4y1QmYVp",
    "outputId": "88229d00-cf5f-4694-caca-735cc451f228"
   },
   "outputs": [
    {
     "data": {
      "image/png": "[encoded data removed]",
      "text/plain": [
       "<IPython.core.display.Image object>"
      ]
     },
     "execution_count": 9,
     "metadata": {},
     "output_type": "execute_result"
    }
   ],
   "source": [
    "tf.keras.utils.plot_model(model=D,show_shapes=True)"
   ]
  },
  {
   "cell_type": "code",
   "execution_count": 10,
   "metadata": {
    "id": "5pJzCccnm8Kt"
   },
   "outputs": [],
   "source": [
    "G = generator()"
   ]
  },
  {
   "cell_type": "code",
   "execution_count": 11,
   "metadata": {
    "colab": {
     "base_uri": "https://localhost:8080/"
    },
    "executionInfo": {
     "elapsed": 10,
     "status": "ok",
     "timestamp": 1644979024074,
     "user": {
      "displayName": "Axis India Machine Learning",
      "photoUrl": "https://lh3.googleusercontent.com/a-/AOh14Gj-ae171kd--3vHxZ1s3GOc45mMB1L-tiekBKF0pA=s64",
      "userId": "00282416292390226652"
     },
     "user_tz": -330
    },
    "id": "oSNe9eeGnhlh",
    "outputId": "15854720-faf9-4d08-b1d7-2011538010f4"
   },
   "outputs": [
    {
     "name": "stdout",
     "output_type": "stream",
     "text": [
      "Model: \"Generator\"\n",
      "_________________________________________________________________\n",
      " Layer (type)                Output Shape              Param #   \n",
      "=================================================================\n",
      " dense_1 (Dense)             (None, 1600)              161600    \n",
      "                                                                 \n",
      " reshape (Reshape)           (None, 4, 4, 100)         0         \n",
      "                                                                 \n",
      " conv2d_transpose (Conv2DTra  (None, 4, 4, 256)        409600    \n",
      " nspose)                                                         \n",
      "                                                                 \n",
      " batch_normalization_2 (Batc  (None, 4, 4, 256)        1024      \n",
      " hNormalization)                                                 \n",
      "                                                                 \n",
      " leaky_re_lu_3 (LeakyReLU)   (None, 4, 4, 256)         0         \n",
      "                                                                 \n",
      " conv2d_transpose_1 (Conv2DT  (None, 8, 8, 128)        524288    \n",
      " ranspose)                                                       \n",
      "                                                                 \n",
      " batch_normalization_3 (Batc  (None, 8, 8, 128)        512       \n",
      " hNormalization)                                                 \n",
      "                                                                 \n",
      " leaky_re_lu_4 (LeakyReLU)   (None, 8, 8, 128)         0         \n",
      "                                                                 \n",
      " conv2d_transpose_2 (Conv2DT  (None, 16, 16, 64)       131072    \n",
      " ranspose)                                                       \n",
      "                                                                 \n",
      " batch_normalization_4 (Batc  (None, 16, 16, 64)       256       \n",
      " hNormalization)                                                 \n",
      "                                                                 \n",
      " leaky_re_lu_5 (LeakyReLU)   (None, 16, 16, 64)        0         \n",
      "                                                                 \n",
      " conv2d_transpose_3 (Conv2DT  (None, 32, 32, 3)        3072      \n",
      " ranspose)                                                       \n",
      "                                                                 \n",
      "=================================================================\n",
      "Total params: 1,231,424\n",
      "Trainable params: 1,230,528\n",
      "Non-trainable params: 896\n",
      "_________________________________________________________________\n"
     ]
    }
   ],
   "source": [
    "G.summary()"
   ]
  },
  {
   "cell_type": "code",
   "execution_count": 12,
   "metadata": {
    "colab": {
     "base_uri": "https://localhost:8080/",
     "height": 1000
    },
    "executionInfo": {
     "elapsed": 1521,
     "status": "ok",
     "timestamp": 1644979027142,
     "user": {
      "displayName": "Axis India Machine Learning",
      "photoUrl": "https://lh3.googleusercontent.com/a-/AOh14Gj-ae171kd--3vHxZ1s3GOc45mMB1L-tiekBKF0pA=s64",
      "userId": "00282416292390226652"
     },
     "user_tz": -330
    },
    "id": "JK_ZCuHUnjPB",
    "outputId": "f31c7b19-8556-4626-fc63-8745251e8110",
    "scrolled": true
   },
   "outputs": [
    {
     "data": {
      "image/png": "[encoded data removed]",
      "text/plain": [
       "<IPython.core.display.Image object>"
      ]
     },
     "execution_count": 12,
     "metadata": {},
     "output_type": "execute_result"
    }
   ],
   "source": [
    "tf.keras.utils.plot_model(model=G,show_shapes=True)"
   ]
  },
  {
   "cell_type": "code",
   "execution_count": 13,
   "metadata": {
    "id": "l-9JSxeqn1E8"
   },
   "outputs": [],
   "source": [
    "random_noise = tf.random.normal(shape=(1,100))"
   ]
  },
  {
   "cell_type": "code",
   "execution_count": 14,
   "metadata": {
    "id": "8ouMsq-NoyZN"
   },
   "outputs": [],
   "source": [
    "random_noise = tf.random.normal(shape=(1,100))\n",
    "generated_image = G(random_noise,training=False)"
   ]
  },
  {
   "cell_type": "code",
   "execution_count": 15,
   "metadata": {
    "colab": {
     "base_uri": "https://localhost:8080/",
     "height": 283
    },
    "executionInfo": {
     "elapsed": 442,
     "status": "ok",
     "timestamp": 1644979042827,
     "user": {
      "displayName": "Axis India Machine Learning",
      "photoUrl": "https://lh3.googleusercontent.com/a-/AOh14Gj-ae171kd--3vHxZ1s3GOc45mMB1L-tiekBKF0pA=s64",
      "userId": "00282416292390226652"
     },
     "user_tz": -330
    },
    "id": "9gLxqQ7QpPP9",
    "outputId": "1ed79977-eaae-4fe4-f43b-dbdc6a52c1dc"
   },
   "outputs": [
    {
     "data": {
      "text/plain": [
       "<matplotlib.image.AxesImage at 0x1eecb87f910>"
      ]
     },
     "execution_count": 15,
     "metadata": {},
     "output_type": "execute_result"
    },
    {
     "data": {
      "image/png": "[encoded data removed]",
      "text/plain": [
       "<Figure size 432x288 with 1 Axes>"
      ]
     },
     "metadata": {
      "needs_background": "light"
     },
     "output_type": "display_data"
    }
   ],
   "source": [
    "plt.imshow(generated_image[0,:,:,0],cmap='gray')"
   ]
  },
  {
   "cell_type": "code",
   "execution_count": 16,
   "metadata": {
    "id": "Ohog9TGEpYGx"
   },
   "outputs": [],
   "source": [
    "posterior = D(generated_image)"
   ]
  },
  {
   "cell_type": "code",
   "execution_count": 17,
   "metadata": {
    "colab": {
     "base_uri": "https://localhost:8080/"
    },
    "executionInfo": {
     "elapsed": 2,
     "status": "ok",
     "timestamp": 1644979046705,
     "user": {
      "displayName": "Axis India Machine Learning",
      "photoUrl": "https://lh3.googleusercontent.com/a-/AOh14Gj-ae171kd--3vHxZ1s3GOc45mMB1L-tiekBKF0pA=s64",
      "userId": "00282416292390226652"
     },
     "user_tz": -330
    },
    "id": "vj3CkPoNqjyK",
    "outputId": "b52639b8-ceb3-449f-9204-98db6b42decf"
   },
   "outputs": [
    {
     "name": "stdout",
     "output_type": "stream",
     "text": [
      "tf.Tensor([[0.49943507]], shape=(1, 1), dtype=float32)\n"
     ]
    }
   ],
   "source": [
    "print(posterior)"
   ]
  },
  {
   "cell_type": "code",
   "execution_count": 18,
   "metadata": {
    "id": "XTueewNQqlzr"
   },
   "outputs": [],
   "source": [
    "GAN_epochs = 50\n",
    "noise_shape = 100\n",
    "batch_size = 256"
   ]
  },
  {
   "cell_type": "code",
   "execution_count": 19,
   "metadata": {
    "id": "eaF-gDZlrUIV"
   },
   "outputs": [],
   "source": [
    "import keras\n",
    "from IPython import display\n",
    "import numpy as np"
   ]
  },
  {
   "cell_type": "code",
   "execution_count": 20,
   "metadata": {
    "id": "l_1tinWHrvFk"
   },
   "outputs": [],
   "source": [
    "bce_loss = tf.keras.losses.BinaryCrossentropy(from_logits=False)"
   ]
  },
  {
   "cell_type": "code",
   "execution_count": 21,
   "metadata": {
    "id": "BwoHoUvNr_H8"
   },
   "outputs": [],
   "source": [
    "def D_loss(real_imgs_preds,fake_imgs_preds):\n",
    "\n",
    "  real_imgs_labels = 0.05 * tf.random.uniform(shape=tf.shape(real_imgs_preds)) + tf.ones_like(real_imgs_preds)\n",
    "  fake_imgs_labels = 0.05 * tf.random.uniform(shape=tf.shape(fake_imgs_preds)) + tf.zeros_like(fake_imgs_preds)\n",
    "\n",
    "  real_imgs_bce_loss = bce_loss(y_true=real_imgs_labels,y_pred=real_imgs_preds)\n",
    "  fake_imgs_bce_loss = bce_loss(y_true=fake_imgs_labels,y_pred=fake_imgs_preds)\n",
    "\n",
    "  total_loss = real_imgs_bce_loss + fake_imgs_bce_loss\n",
    "\n",
    "  return total_loss"
   ]
  },
  {
   "cell_type": "code",
   "execution_count": 22,
   "metadata": {
    "id": "HcUr7CJRznd2"
   },
   "outputs": [],
   "source": [
    "def G_loss(fake_imgs_preds):\n",
    "\n",
    "  fake_imgs_labels = tf.ones_like(fake_imgs_preds)\n",
    "\n",
    "  return bce_loss(y_true=fake_imgs_labels,y_pred=fake_imgs_preds)"
   ]
  },
  {
   "cell_type": "code",
   "execution_count": 23,
   "metadata": {
    "id": "NJuXecP1wYRI"
   },
   "outputs": [],
   "source": [
    "D_optimizer = keras.optimizers.adam_v2.Adam(learning_rate=0.0008,beta_1=0.3)\n",
    "G_optimizer = keras.optimizers.adam_v2.Adam(learning_rate=0.0004,beta_1=0.1)"
   ]
  },
  {
   "cell_type": "code",
   "execution_count": 24,
   "metadata": {
    "id": "fm-t8uVnx1p7"
   },
   "outputs": [],
   "source": [
    "GAN_checkpoint_dir = os.path.join(root_dir ,\"Checkpoint\")\n",
    "GAN_checkpoint_prefix = os.path.join(GAN_checkpoint_dir,\"ckpt\")\n",
    "GAN_checkpoint = tf.train.Checkpoint(optimizer=[D_optimizer,G_optimizer],model=[D,G])"
   ]
  },
  {
   "cell_type": "code",
   "execution_count": 25,
   "metadata": {
    "id": "BE7ivK3M1Bxy"
   },
   "outputs": [],
   "source": [
    "@tf.function\n",
    "def training_step(real_imgs_mini_batch):\n",
    "\n",
    "  G.trainable = False\n",
    "  noise = tf.random.normal(shape=(batch_size,noise_shape))\n",
    "  generated_imgs_mini_batch = G(noise,training=False)\n",
    "\n",
    "  D.trainable = True\n",
    "\n",
    "  with tf.GradientTape() as disc_tape, tf.GradientTape() as gen_tape:\n",
    "\n",
    "    real_imgs_preds = D(real_imgs_mini_batch,training=True)\n",
    "    fake_imgs_preds = D(generated_imgs_mini_batch,training=True)\n",
    "\n",
    "    disc_loss = D_loss(real_imgs_preds,fake_imgs_preds)\n",
    "\n",
    "    gradients_of_disc = disc_tape.gradient(disc_loss,D.trainable_variables)\n",
    "    D_optimizer.apply_gradients(zip(gradients_of_disc,D.trainable_variables))\n",
    "\n",
    "    D.trainable = False\n",
    "    G.trainable = True\n",
    "\n",
    "    #noise = tf.random.normal(shape=(batch_size,noise_shape))\n",
    "    #generated_imgs_mini_batch = G(noise,training=True)\n",
    "\n",
    "    #fake_imgs_preds = D(generated_imgs_mini_batch,training=False)\n",
    "\n",
    "    gen_loss = G_loss(fake_imgs_preds)\n",
    "\n",
    "    gradients_of_gen = gen_tape.gradient(gen_loss,G.trainable_variables)\n",
    "    G_optimizer.apply_gradients(zip(gradients_of_gen,G.trainable_variables))\n",
    "\n",
    "    print(\"Ran Training Step\")\n",
    "\n",
    "    return disc_loss,gen_loss"
   ]
  },
  {
   "cell_type": "code",
   "execution_count": 26,
   "metadata": {
    "id": "KBomX2WF-HEW"
   },
   "outputs": [],
   "source": [
    "constant_noise = tf.random.normal(shape=(16,noise_shape))"
   ]
  },
  {
   "cell_type": "code",
   "execution_count": 27,
   "metadata": {
    "id": "OiRHaywRH_Sn"
   },
   "outputs": [],
   "source": [
    "real_imgs_path = os.path.join(root_dir ,\"unlabeled\")"
   ]
  },
  {
   "cell_type": "code",
   "execution_count": 28,
   "metadata": {
    "id": "YugKS7IpBCh7"
   },
   "outputs": [],
   "source": [
    "def generate_and_save_images(generator_model,epoch,test_input):\n",
    "\n",
    "  generated_sample_images = generator_model(test_input,training=False)\n",
    "\n",
    "  fig = plt.figure(figsize=(4,4))\n",
    "\n",
    "  for i in range(generated_sample_images.shape[0]):\n",
    "    plt.subplot(4,4,i+1)\n",
    "    plt.imshow(generated_sample_images[i,:,:,:])\n",
    "    plt.axis(\"off\")\n",
    "\n",
    "  plt.savefig(\"C:/Users/Mask/Desktop/AIML Projects/Semi -Supervised GANS for Melanoma Detection/MelanomaDetection/Generator fig/Images_at_Epoch_{:04d}.png\".format(epoch))\n",
    "  plt.show()"
   ]
  },
  {
   "cell_type": "code",
   "execution_count": 29,
   "metadata": {
    "id": "jmUzSzqbFbE0"
   },
   "outputs": [],
   "source": [
    "def train_gan(real_imgs_datagen,total_epochs):\n",
    "\n",
    "  for epoch in range(total_epochs):\n",
    "\n",
    "    time_step = 1\n",
    "\n",
    "    for image_batch in real_imgs_datagen:\n",
    "\n",
    "      print(\"Time Step: {}, Epoch: {}\".format(time_step,epoch+1))\n",
    "\n",
    "      with tf.GradientTape() as disc_tape, tf.GradientTape() as gen_tape:\n",
    "\n",
    "        G.trainable = False\n",
    "        noise = tf.random.normal(shape=(batch_size,noise_shape))\n",
    "        generated_imgs_mini_batch = G(noise,training=False)\n",
    "\n",
    "        D.trainable = True\n",
    "\n",
    "        real_imgs_preds = D(image_batch[0],training=True)\n",
    "        fake_imgs_preds = D(generated_imgs_mini_batch,training=True)\n",
    "\n",
    "        disc_loss = D_loss(real_imgs_preds,fake_imgs_preds)\n",
    "\n",
    "        gradients_of_disc = disc_tape.gradient(disc_loss,D.trainable_variables)\n",
    "        D_optimizer.apply_gradients(zip(gradients_of_disc,D.trainable_variables))\n",
    "\n",
    "        D.trainable = False\n",
    "        G.trainable = True\n",
    "\n",
    "        #noise = tf.random.normal(shape=(batch_size,noise_shape))\n",
    "        #generated_imgs_mini_batch = G(noise,training=True)\n",
    "\n",
    "        #fake_imgs_preds = D(generated_imgs_mini_batch,training=False)\n",
    "\n",
    "        gen_loss = G_loss(fake_imgs_preds)\n",
    "\n",
    "        gradients_of_gen = gen_tape.gradient(gen_loss,G.trainable_variables)\n",
    "        G_optimizer.apply_gradients(zip(gradients_of_gen,G.trainable_variables))\n",
    "\n",
    "        print(\"Discriminator Loss: {}, Generator Loss: {}\\n\".format(disc_loss,gen_loss))\n",
    "\n",
    "      if time_step > len(os.listdir(real_imgs_path))//batch_size:\n",
    "        break\n",
    "\n",
    "      time_step = time_step + 1\n",
    "\n",
    "    generate_and_save_images(generator_model=G,epoch=epoch+1,test_input=constant_noise)\n",
    "\n",
    "    if (epoch + 1) % 5 == 0:\n",
    "      GAN_checkpoint.save(file_prefix=GAN_checkpoint_prefix)\n",
    "\n",
    "  generate_and_save_images(generator_model=G,epoch=total_epochs,test_input=constant_noise)"
   ]
  },
  {
   "cell_type": "code",
   "execution_count": 31,
   "metadata": {
    "colab": {
     "base_uri": "https://localhost:8080/",
     "height": 1000,
     "output_embedded_package_id": "1WWQB0XBTmD98MHrBj7YcwcqpdU1YrYu4"
    },
    "executionInfo": {
     "elapsed": 1093823,
     "status": "ok",
     "timestamp": 1644962359484,
     "user": {
      "displayName": "Axis India Machine Learning",
      "photoUrl": "https://lh3.googleusercontent.com/a-/AOh14Gj-ae171kd--3vHxZ1s3GOc45mMB1L-tiekBKF0pA=s64",
      "userId": "00282416292390226652"
     },
     "user_tz": -330
    },
    "id": "K2Hq256QLRR5",
    "outputId": "4c5c55d4-c519-4719-fbac-03dce3189781"
   },
   "outputs": [],
   "source": [
    "# train_gan(real_imgs_datagen=unlabeled_datagen,total_epochs=GAN_epochs)"
   ]
  },
  {
   "cell_type": "code",
   "execution_count": 107,
   "metadata": {
    "id": "F69BfNMtLrxu"
   },
   "outputs": [],
   "source": [
    "latest_checkpoint_path = tf.train.latest_checkpoint(os.path.join(root_dir , \"Checkpoint\"))"
   ]
  },
  {
   "cell_type": "code",
   "execution_count": 108,
   "metadata": {
    "colab": {
     "base_uri": "https://localhost:8080/",
     "height": 35
    },
    "executionInfo": {
     "elapsed": 4,
     "status": "ok",
     "timestamp": 1644979098796,
     "user": {
      "displayName": "Axis India Machine Learning",
      "photoUrl": "https://lh3.googleusercontent.com/a-/AOh14Gj-ae171kd--3vHxZ1s3GOc45mMB1L-tiekBKF0pA=s64",
      "userId": "00282416292390226652"
     },
     "user_tz": -330
    },
    "id": "PpPA9-ZGLcaQ",
    "outputId": "7b78ec08-232b-4f43-f06c-b03c9c3cc3d7"
   },
   "outputs": [
    {
     "data": {
      "text/plain": [
       "'C:/Users/Mask/Desktop/AIML Projects/Semi -Supervised GANS for Melanoma Detection/MelanomaDetection\\\\Checkpoint\\\\ckpt-10'"
      ]
     },
     "execution_count": 108,
     "metadata": {},
     "output_type": "execute_result"
    }
   ],
   "source": [
    "latest_checkpoint_path"
   ]
  },
  {
   "cell_type": "code",
   "execution_count": 109,
   "metadata": {
    "colab": {
     "base_uri": "https://localhost:8080/"
    },
    "executionInfo": {
     "elapsed": 2119,
     "status": "ok",
     "timestamp": 1644979103855,
     "user": {
      "displayName": "Axis India Machine Learning",
      "photoUrl": "https://lh3.googleusercontent.com/a-/AOh14Gj-ae171kd--3vHxZ1s3GOc45mMB1L-tiekBKF0pA=s64",
      "userId": "00282416292390226652"
     },
     "user_tz": -330
    },
    "id": "ax6vlivVLeIJ",
    "outputId": "78217b3d-7a93-4ae7-abb8-0fde914a5e35"
   },
   "outputs": [
    {
     "data": {
      "text/plain": [
       "<tensorflow.python.training.tracking.util.CheckpointLoadStatus at 0x1ee8086b2e0>"
      ]
     },
     "execution_count": 109,
     "metadata": {},
     "output_type": "execute_result"
    }
   ],
   "source": [
    "GAN_checkpoint.restore(latest_checkpoint_path)"
   ]
  },
  {
   "cell_type": "code",
   "execution_count": 110,
   "metadata": {
    "id": "gEFEVBVQL4Kn"
   },
   "outputs": [],
   "source": [
    "def generate_and_save_images(generator_model,test_input):\n",
    "\n",
    "  generated_sample_images = generator_model(test_input,training=False)\n",
    "\n",
    "  fig = plt.figure(figsize=(4,4))\n",
    "\n",
    "  for i in range(4):\n",
    "    plt.subplot(2,2,i+1)\n",
    "    plt.imshow(generated_sample_images[i,:,:,:])\n",
    "    plt.axis(\"off\")\n",
    "\n",
    "#   plt.show()"
   ]
  },
  {
   "cell_type": "code",
   "execution_count": 111,
   "metadata": {
    "colab": {
     "base_uri": "https://localhost:8080/",
     "height": 508
    },
    "executionInfo": {
     "elapsed": 1679,
     "status": "ok",
     "timestamp": 1644979120175,
     "user": {
      "displayName": "Axis India Machine Learning",
      "photoUrl": "https://lh3.googleusercontent.com/a-/AOh14Gj-ae171kd--3vHxZ1s3GOc45mMB1L-tiekBKF0pA=s64",
      "userId": "00282416292390226652"
     },
     "user_tz": -330
    },
    "id": "EuvwpX0WMgde",
    "outputId": "29c4629d-ee5a-463c-efb8-b10906632584"
   },
   "outputs": [
    {
     "name": "stderr",
     "output_type": "stream",
     "text": [
      "Clipping input data to the valid range for imshow with RGB data ([0..1] for floats or [0..255] for integers).\n"
     ]
    },
    {
     "data": {
      "image/png": "[encoded data removed]",
      "text/plain": [
       "<Figure size 288x288 with 4 Axes>"
      ]
     },
     "metadata": {
      "needs_background": "light"
     },
     "output_type": "display_data"
    }
   ],
   "source": [
    "generate_and_save_images(generator_model=G,test_input=constant_noise)"
   ]
  },
  {
   "cell_type": "code",
   "execution_count": 112,
   "metadata": {
    "id": "At0xWLYiM_ve"
   },
   "outputs": [],
   "source": [
    "unlbld_imgs_base_path = os.path.join(root_dir ,\"unlabeled\")"
   ]
  },
  {
   "cell_type": "code",
   "execution_count": 113,
   "metadata": {
    "id": "DBXEIAMMP792"
   },
   "outputs": [],
   "source": [
    "from random import randint"
   ]
  },
  {
   "cell_type": "code",
   "execution_count": 114,
   "metadata": {
    "id": "QqPomgSbQJ2V"
   },
   "outputs": [],
   "source": [
    "imgs_names_list = os.listdir(unlbld_imgs_base_path)"
   ]
  },
  {
   "cell_type": "code",
   "execution_count": 115,
   "metadata": {
    "id": "UlTtM2R_QV7M"
   },
   "outputs": [],
   "source": [
    "total_imgs = len(imgs_names_list)"
   ]
  },
  {
   "cell_type": "code",
   "execution_count": 116,
   "metadata": {
    "id": "pZzi7Le7PRZ1"
   },
   "outputs": [],
   "source": [
    "single_img = plt.imread(os.path.join(unlbld_imgs_base_path,imgs_names_list[randint(0,total_imgs-1)]))"
   ]
  },
  {
   "cell_type": "code",
   "execution_count": 117,
   "metadata": {
    "colab": {
     "base_uri": "https://localhost:8080/",
     "height": 283
    },
    "executionInfo": {
     "elapsed": 893,
     "status": "ok",
     "timestamp": 1644979135734,
     "user": {
      "displayName": "Axis India Machine Learning",
      "photoUrl": "https://lh3.googleusercontent.com/a-/AOh14Gj-ae171kd--3vHxZ1s3GOc45mMB1L-tiekBKF0pA=s64",
      "userId": "00282416292390226652"
     },
     "user_tz": -330
    },
    "id": "f3cHZyhWPxqv",
    "outputId": "abbb4a90-eedf-48d6-eb4b-5be0e02a6c38"
   },
   "outputs": [
    {
     "data": {
      "text/plain": [
       "Text(0.5, 1.0, 'Real Unlabeled Image')"
      ]
     },
     "execution_count": 117,
     "metadata": {},
     "output_type": "execute_result"
    },
    {
     "data": {
      "image/png": "[encoded data removed]",
      "text/plain": [
       "<Figure size 432x288 with 1 Axes>"
      ]
     },
     "metadata": {
      "needs_background": "light"
     },
     "output_type": "display_data"
    }
   ],
   "source": [
    "plt.imshow(single_img)\n",
    "plt.title(\"Real Unlabeled Image\")"
   ]
  },
  {
   "cell_type": "code",
   "execution_count": 118,
   "metadata": {},
   "outputs": [
    {
     "data": {
      "image/png": "[encoded data removed]",
      "text/plain": [
       "<Figure size 288x288 with 4 Axes>"
      ]
     },
     "metadata": {
      "needs_background": "light"
     },
     "output_type": "display_data"
    }
   ],
   "source": [
    "plt.figure(figsize=(4,4))\n",
    "image = plt.imread(os.path.join(unlbld_imgs_base_path,imgs_names_list[randint(0,total_imgs-1)]))\n",
    "\n",
    "for i in range(4):\n",
    "#     plt.title(\"Real Image\")\n",
    "    plt.subplot(2,2,i+1)\n",
    "    plt.imshow(plt.imread(os.path.join(unlbld_imgs_base_path,imgs_names_list[randint(0,total_imgs-1)])))\n",
    "    plt.axis(\"off\")"
   ]
  },
  {
   "cell_type": "code",
   "execution_count": 119,
   "metadata": {
    "id": "BZ8RyHszP14h"
   },
   "outputs": [
    {
     "data": {
      "text/plain": [
       "TensorShape([1, 32, 32, 3])"
      ]
     },
     "execution_count": 119,
     "metadata": {},
     "output_type": "execute_result"
    }
   ],
   "source": [
    "single_fake_img = G(tf.random.normal(shape=(1,100)))\n",
    "single_fake_img.shape"
   ]
  },
  {
   "cell_type": "code",
   "execution_count": 120,
   "metadata": {
    "colab": {
     "base_uri": "https://localhost:8080/",
     "height": 283
    },
    "executionInfo": {
     "elapsed": 722,
     "status": "ok",
     "timestamp": 1644979142035,
     "user": {
      "displayName": "Axis India Machine Learning",
      "photoUrl": "https://lh3.googleusercontent.com/a-/AOh14Gj-ae171kd--3vHxZ1s3GOc45mMB1L-tiekBKF0pA=s64",
      "userId": "00282416292390226652"
     },
     "user_tz": -330
    },
    "id": "ye1hw0R-RNUx",
    "outputId": "382b6229-da5e-45bd-e2c2-72e4d701b462"
   },
   "outputs": [
    {
     "name": "stderr",
     "output_type": "stream",
     "text": [
      "Clipping input data to the valid range for imshow with RGB data ([0..1] for floats or [0..255] for integers).\n"
     ]
    },
    {
     "data": {
      "text/plain": [
       "Text(0.5, 1.0, 'Fake Imag Generated by Generator')"
      ]
     },
     "execution_count": 120,
     "metadata": {},
     "output_type": "execute_result"
    },
    {
     "data": {
      "image/png": "[encoded data removed]",
      "text/plain": [
       "<Figure size 432x288 with 1 Axes>"
      ]
     },
     "metadata": {
      "needs_background": "light"
     },
     "output_type": "display_data"
    }
   ],
   "source": [
    "plt.imshow(single_fake_img[0,:,:,:])\n",
    "plt.title(\"Fake Imag Generated by Generator\")"
   ]
  },
  {
   "cell_type": "code",
   "execution_count": 121,
   "metadata": {
    "id": "VHcyDoI9RRGD"
   },
   "outputs": [],
   "source": [
    "def discriminator_base():\n",
    "\n",
    "  input_to_cls = Input(shape=(32,32,3))\n",
    "\n",
    "  disc_base = Sequential(name=\"disc_base\")\n",
    "  disc_base.add(input_to_cls)\n",
    "\n",
    "  for layer in D.layers[0:10]:\n",
    "    disc_base.add(layer)\n",
    "\n",
    "  return disc_base"
   ]
  },
  {
   "cell_type": "code",
   "execution_count": 122,
   "metadata": {
    "id": "QvGt7XGJjQJp"
   },
   "outputs": [],
   "source": [
    "def unsupervised_classifier():\n",
    "\n",
    "  disc_base = discriminator_base()\n",
    "\n",
    "  disc_base.add(Dense(units=1,activation=\"sigmoid\"))\n",
    "\n",
    "  return disc_base"
   ]
  },
  {
   "cell_type": "code",
   "execution_count": 123,
   "metadata": {
    "id": "hnEs4Xd7j1CQ"
   },
   "outputs": [],
   "source": [
    "def supervised_classifier():\n",
    "\n",
    "  disc_base = discriminator_base()\n",
    "\n",
    "  disc_base.add(Dense(units=1,activation=\"sigmoid\"))\n",
    "\n",
    "  return disc_base"
   ]
  },
  {
   "cell_type": "code",
   "execution_count": 124,
   "metadata": {
    "id": "v5xbRhxpkCWj"
   },
   "outputs": [],
   "source": [
    "unsupervised_cls = unsupervised_classifier()\n",
    "supervised_cls = supervised_classifier()"
   ]
  },
  {
   "cell_type": "code",
   "execution_count": 172,
   "metadata": {
    "id": "MPuoTj7EkUGu"
   },
   "outputs": [],
   "source": [
    "unsupervised_cls_optimizer = keras.optimizers.adam_v2.Adam(learning_rate=0.0001,beta_1=0.1)\n",
    "supervised_cls_optimizer = keras.optimizers.adam_v2.Adam(learning_rate=0.000001,beta_1=0.1)"
   ]
  },
  {
   "cell_type": "code",
   "execution_count": 126,
   "metadata": {
    "id": "_VLqjZG0k7ca"
   },
   "outputs": [],
   "source": [
    "supervised_cls_train_acc_metric = tf.keras.metrics.BinaryAccuracy()\n",
    "supervised_cls_cv_acc_metric = tf.keras.metrics.BinaryAccuracy()"
   ]
  },
  {
   "cell_type": "code",
   "execution_count": 127,
   "metadata": {
    "id": "7MQcW5nylcDV"
   },
   "outputs": [],
   "source": [
    "def unsupervised_cls_loss(real_imgs_preds,fake_imgs_preds):\n",
    "    real_imgs_labels = tf.ones_like(real_imgs_preds)\n",
    "    fake_imgs_labels = tf.zeros_like(fake_imgs_preds)\n",
    "\n",
    "    real_imgs_loss = bce_loss(y_true=real_imgs_labels,y_pred=real_imgs_preds)\n",
    "    fake_imgs_loss = bce_loss(y_true=fake_imgs_labels,y_pred=fake_imgs_preds)\n",
    "\n",
    "    total_loss = real_imgs_loss + fake_imgs_loss\n",
    "\n",
    "    return total_loss"
   ]
  },
  {
   "cell_type": "code",
   "execution_count": 128,
   "metadata": {
    "id": "zMjVKyzmmj9M"
   },
   "outputs": [],
   "source": [
    "def supervised_cls_loss(imgs_labels,imgs_preds):\n",
    "    \n",
    "    imgs_label = np.array(imgs_labels)\n",
    "    \n",
    "    imgs_labels = imgs_labels.reshape(imgs_labels.shape[0],1)\n",
    "#     imgs_preds = imgs_preds.reshape(imgs_preds.shape[0],1)\n",
    "    return bce_loss(y_true=imgs_labels,y_pred=imgs_preds)"
   ]
  },
  {
   "cell_type": "code",
   "execution_count": 129,
   "metadata": {
    "id": "WPGg1gBlm9c6"
   },
   "outputs": [],
   "source": [
    "@tf.function\n",
    "def ssl_training_step(labeled_images,unlabeled_images):\n",
    "\n",
    "  G.trainable = False\n",
    "  unsupervised_cls.trainable = True\n",
    "  supervised_cls.trainable = True\n",
    "\n",
    "  with tf.GradientTape() as supervised_cls_tape, tf.GradientTape() as unsupervised_cls_tape, tf.GradientTape() as gen_tape:\n",
    "\n",
    "    labeled_imgs_preds = supervised_cls(labeled_images[0],training=True)\n",
    "    \n",
    "    supervised_loss = supervised_cls_loss(imgs_labels=labeled_images[1],imgs_preds=labeled_imgs_preds)\n",
    "\n",
    "    gradients_of_supervised_cls = supervised_cls_tape.gradient(supervised_loss,supervised_cls.trainable_variables)\n",
    "    supervised_cls_optimizer.apply_gradients(zip(gradients_of_supervised_cls,supervised_cls.trainable_variables))\n",
    "\n",
    "    noise = tf.random.normal(shape=(batch_size,noise_shape))\n",
    "    generated_images = G(noise,training=False)\n",
    "\n",
    "    real_imgs_preds = unsupervised_cls(unlabeled_images,training=True)\n",
    "    fake_imgs_preds = unsupervised_cls(generated_images,training=True)\n",
    "\n",
    "    unsupervised_loss = unsupervised_cls_loss(real_imgs_preds,fake_imgs_preds)\n",
    "\n",
    "    gradients_of_unsupervised_cls = unsupervised_cls_tape.gradient(unsupervised_loss,unsupervised_cls.trainable_variables)\n",
    "    unsupervised_cls_optimizer.apply_gradients(zip(gradients_of_unsupervised_cls,unsupervised_cls.trainable_variables))\n",
    "\n",
    "    supervised_cls.trainable = False\n",
    "    unsupervised_cls.trainable = False\n",
    "\n",
    "  return supervised_loss,labeled_imgs_preds"
   ]
  },
  {
   "cell_type": "code",
   "execution_count": 130,
   "metadata": {
    "id": "2diuTGE3IIQ5"
   },
   "outputs": [],
   "source": [
    "cls_checkpoint_dir = os.path.join(root_dir , \"Finetune_GAN\")\n",
    "checkpoint_prefix = os.path.join(cls_checkpoint_dir,\"ckpt\")\n",
    "cls_checkpoint = tf.train.Checkpoint(optimizer=[supervised_cls_optimizer,unsupervised_cls_optimizer],\n",
    "                                     model=[supervised_cls,unsupervised_cls])"
   ]
  },
  {
   "cell_type": "code",
   "execution_count": 56,
   "metadata": {},
   "outputs": [],
   "source": [
    "# mkdir_Beneign = os.mkdir(os.path.join(root_dir,\"test/Beneign\"))\n",
    "# mkdir_malignant = os.mkdir(os.path.join(root_dir,\"test/Malignant\"))"
   ]
  },
  {
   "cell_type": "code",
   "execution_count": 131,
   "metadata": {},
   "outputs": [],
   "source": [
    "import shutil as s"
   ]
  },
  {
   "cell_type": "code",
   "execution_count": 58,
   "metadata": {},
   "outputs": [],
   "source": [
    "\n",
    "# def segregating_labeled_in_Benign_and_Malignant(path):\n",
    "#     for img in os.listdir(path):\n",
    "#         if img[-5] ==\"0\":\n",
    "#             s.move(os.path.join(path,img),os.path.join(path,\"Beneign\"))\n",
    "#         else:\n",
    "#             s.move(os.path.join(path,img),os.path.join(path,\"Malignant\"))\n",
    "\n",
    "# segregating_labeled_in_Benign_and_Malignant(os.path.join(root_dir,\"test\"))"
   ]
  },
  {
   "cell_type": "code",
   "execution_count": 132,
   "metadata": {
    "id": "Eo0rVDtdJDDO"
   },
   "outputs": [],
   "source": [
    "cls_epochs = 50"
   ]
  },
  {
   "cell_type": "code",
   "execution_count": 133,
   "metadata": {
    "id": "xMfRLfb2JxxQ"
   },
   "outputs": [],
   "source": [
    "cv_data_gen = ImageDataGenerator()"
   ]
  },
  {
   "cell_type": "code",
   "execution_count": 134,
   "metadata": {
    "colab": {
     "base_uri": "https://localhost:8080/"
    },
    "executionInfo": {
     "elapsed": 1068,
     "status": "ok",
     "timestamp": 1644979173629,
     "user": {
      "displayName": "Axis India Machine Learning",
      "photoUrl": "https://lh3.googleusercontent.com/a-/AOh14Gj-ae171kd--3vHxZ1s3GOc45mMB1L-tiekBKF0pA=s64",
      "userId": "00282416292390226652"
     },
     "user_tz": -330
    },
    "id": "gvkPOEOBJ7NW",
    "outputId": "0f5f3956-1f32-46dd-9b67-7de293892a48"
   },
   "outputs": [
    {
     "name": "stdout",
     "output_type": "stream",
     "text": [
      "Found 600 images belonging to 2 classes.\n"
     ]
    }
   ],
   "source": [
    "cv_datagen = cv_data_gen.flow_from_directory(directory=os.path.join(root_dir , \"test\"),\n",
    "                                             target_size=(32,32),\n",
    "                                             classes=os.listdir(os.path.join(root_dir , \"test\")),\n",
    "                                             class_mode=\"binary\",batch_size=300,\n",
    "                                            shuffle=False)"
   ]
  },
  {
   "cell_type": "code",
   "execution_count": 135,
   "metadata": {
    "id": "uBPKt0lULPWL"
   },
   "outputs": [],
   "source": [
    "labeled_data_gen = ImageDataGenerator(rotation_range=90,brightness_range=(0.5,1),horizontal_flip=True,vertical_flip=True,rescale=1.0/255.0)"
   ]
  },
  {
   "cell_type": "code",
   "execution_count": 136,
   "metadata": {
    "colab": {
     "base_uri": "https://localhost:8080/"
    },
    "executionInfo": {
     "elapsed": 1082,
     "status": "ok",
     "timestamp": 1644979178407,
     "user": {
      "displayName": "Axis India Machine Learning",
      "photoUrl": "https://lh3.googleusercontent.com/a-/AOh14Gj-ae171kd--3vHxZ1s3GOc45mMB1L-tiekBKF0pA=s64",
      "userId": "00282416292390226652"
     },
     "user_tz": -330
    },
    "id": "VhsfaiNqLcxc",
    "outputId": "03d33a73-b3ae-44c8-ff05-fd7189d4cfff"
   },
   "outputs": [
    {
     "name": "stdout",
     "output_type": "stream",
     "text": [
      "Found 200 images belonging to 2 classes.\n"
     ]
    }
   ],
   "source": [
    "labeled_datagen = labeled_data_gen.flow_from_directory(directory=os.path.join(root_dir , \"labeled\"),\n",
    "                                                       target_size=(32,32),\n",
    "                                                       classes=os.listdir(os.path.join(root_dir , \"labeled\")),\n",
    "                                                       class_mode=\"binary\",batch_size=7)"
   ]
  },
  {
   "cell_type": "code",
   "execution_count": 144,
   "metadata": {},
   "outputs": [],
   "source": [
    "train_acc = []\n",
    "train_loss =  []\n",
    "cv_acc = []\n",
    "supervised_cls_loss_data = []\n",
    "unsupervised_cls_loss_data = []"
   ]
  },
  {
   "cell_type": "code",
   "execution_count": 145,
   "metadata": {
    "id": "hevA4eY7Kg0w"
   },
   "outputs": [],
   "source": [
    "def train_ssl_classifier(labeled_imgs_datagen,unlabeled_imgs_datagen,cv_imgs_datagen,total_epochs):\n",
    "  \n",
    "  for epoch in range(total_epochs):\n",
    "\n",
    "    time_step = 1\n",
    "\n",
    "    for labeled_images_batch, unlabeled_images_batch in zip(labeled_imgs_datagen,unlabeled_imgs_datagen):\n",
    "\n",
    "      with tf.GradientTape() as supervised_cls_tape, tf.GradientTape() as unsupervised_cls_tape, tf.GradientTape() as gen_tape:\n",
    "\n",
    "        G.trainable = False\n",
    "        unsupervised_cls.trainable = True\n",
    "        supervised_cls.trainable = True\n",
    "\n",
    "        labeled_imgs_preds = supervised_cls(labeled_images_batch[0],training=True)\n",
    "    \n",
    "        supervised_loss = supervised_cls_loss(imgs_labels=labeled_images_batch[1],imgs_preds=labeled_imgs_preds)\n",
    "\n",
    "        gradients_of_supervised_cls = supervised_cls_tape.gradient(supervised_loss,supervised_cls.trainable_variables)\n",
    "        supervised_cls_optimizer.apply_gradients(zip(gradients_of_supervised_cls,supervised_cls.trainable_variables))\n",
    "\n",
    "        noise = tf.random.normal(shape=(batch_size,noise_shape))\n",
    "        generated_images = G(noise,training=False)\n",
    "\n",
    "        real_imgs_preds = unsupervised_cls(unlabeled_images_batch[0],training=True)\n",
    "        fake_imgs_preds = unsupervised_cls(generated_images,training=True)\n",
    "\n",
    "        unsupervised_loss = unsupervised_cls_loss(real_imgs_preds,fake_imgs_preds)\n",
    "\n",
    "        gradients_of_unsupervised_cls = unsupervised_cls_tape.gradient(unsupervised_loss,unsupervised_cls.trainable_variables)\n",
    "        unsupervised_cls_optimizer.apply_gradients(zip(gradients_of_unsupervised_cls,unsupervised_cls.trainable_variables))\n",
    "\n",
    "        supervised_cls.trainable = False\n",
    "        unsupervised_cls.trainable = False\n",
    "        \n",
    "        supervised_cls_loss_data.append(supervised_loss)\n",
    "        unsupervised_cls_loss_data.append(unsupervised_loss)\n",
    "        \n",
    "        \n",
    "      if time_step > len(os.listdir(os.path.join(root_dir , \"unlabeled\")))//batch_size:\n",
    "        break\n",
    "\n",
    "      supervised_cls_train_acc_metric.update_state(labeled_images_batch[1],labeled_imgs_preds)\n",
    "      print(\"Training Loss at Time Step {} of Epoch {} is {}\".format(time_step, epoch+1, float(supervised_loss)))\n",
    "\n",
    "      time_step = time_step + 1\n",
    "\n",
    "    training_accuracy = supervised_cls_train_acc_metric.result()\n",
    "    print(\"\\nTraining Accuracy after Epoch {} is {}\".format(epoch+1,float(training_accuracy)))\n",
    "    train_acc.append(training_accuracy)\n",
    "    train_loss.append(supervised_loss)\n",
    "\n",
    "    supervised_cls_train_acc_metric.reset_states()\n",
    "\n",
    "    cv_time_steps = 0\n",
    "\n",
    "    for X_cv,Y_cv_labels in cv_imgs_datagen:\n",
    "\n",
    "      if cv_time_steps > 300//300:\n",
    "        break\n",
    "\n",
    "      cv_time_steps = cv_time_steps + 1\n",
    "\n",
    "      Y_cv_preds = supervised_cls(X_cv,training=False)\n",
    "      supervised_cls_cv_acc_metric.update_state(Y_cv_labels,Y_cv_preds)\n",
    "\n",
    "    cv_accuracy = supervised_cls_cv_acc_metric.result()\n",
    "    print(\"Cross Validation Accuracy after Epoch {} is {}\\n\".format(epoch+1,float(cv_accuracy)))\n",
    "    cv_acc.append(cv_accuracy)\n",
    "\n",
    "    supervised_cls_cv_acc_metric.reset_states()\n",
    "\n",
    "    cls_checkpoint.save(file_prefix=checkpoint_prefix)\n",
    "    \n",
    "  return supervised_cls_loss, unsupervised_cls_loss, train_loss, train_acc, cv_acc"
   ]
  },
  {
   "cell_type": "code",
   "execution_count": 173,
   "metadata": {
    "colab": {
     "base_uri": "https://localhost:8080/"
    },
    "executionInfo": {
     "elapsed": 1260883,
     "status": "ok",
     "timestamp": 1644980443870,
     "user": {
      "displayName": "Axis India Machine Learning",
      "photoUrl": "https://lh3.googleusercontent.com/a-/AOh14Gj-ae171kd--3vHxZ1s3GOc45mMB1L-tiekBKF0pA=s64",
      "userId": "00282416292390226652"
     },
     "user_tz": -330
    },
    "id": "xT3PzlqyRPAC",
    "outputId": "c4413d0e-f5c6-4a83-ad6a-97865124f6e8"
   },
   "outputs": [
    {
     "name": "stdout",
     "output_type": "stream",
     "text": [
      "Training Loss at Time Step 1 of Epoch 1 is 0.6664904356002808\n",
      "Training Loss at Time Step 2 of Epoch 1 is 0.4378097951412201\n",
      "Training Loss at Time Step 3 of Epoch 1 is 0.5212275981903076\n",
      "Training Loss at Time Step 4 of Epoch 1 is 0.08707885444164276\n",
      "Training Loss at Time Step 5 of Epoch 1 is 0.08633656054735184\n",
      "Training Loss at Time Step 6 of Epoch 1 is 0.31373733282089233\n",
      "Training Loss at Time Step 7 of Epoch 1 is 0.27491337060928345\n",
      "Training Loss at Time Step 8 of Epoch 1 is 0.4104948043823242\n",
      "Training Loss at Time Step 9 of Epoch 1 is 0.4111657738685608\n",
      "Training Loss at Time Step 10 of Epoch 1 is 0.3521304130554199\n",
      "Training Loss at Time Step 11 of Epoch 1 is 0.45625025033950806\n",
      "Training Loss at Time Step 12 of Epoch 1 is 0.13545091450214386\n",
      "Training Loss at Time Step 13 of Epoch 1 is 0.4669798016548157\n",
      "Training Loss at Time Step 14 of Epoch 1 is 0.2083519846200943\n",
      "Training Loss at Time Step 15 of Epoch 1 is 0.8911235928535461\n",
      "Training Loss at Time Step 16 of Epoch 1 is 0.2309674471616745\n",
      "Training Loss at Time Step 17 of Epoch 1 is 0.4852197468280792\n",
      "Training Loss at Time Step 18 of Epoch 1 is 0.09664910286664963\n",
      "Training Loss at Time Step 19 of Epoch 1 is 0.06537377834320068\n",
      "Training Loss at Time Step 20 of Epoch 1 is 0.25361281633377075\n",
      "Training Loss at Time Step 21 of Epoch 1 is 0.07288599759340286\n",
      "Training Loss at Time Step 22 of Epoch 1 is 1.1746501922607422\n",
      "Training Loss at Time Step 23 of Epoch 1 is 0.587432324886322\n",
      "Training Loss at Time Step 24 of Epoch 1 is 0.16971871256828308\n",
      "Training Loss at Time Step 25 of Epoch 1 is 0.5504373908042908\n",
      "Training Loss at Time Step 26 of Epoch 1 is 0.3497714698314667\n",
      "Training Loss at Time Step 27 of Epoch 1 is 0.346351683139801\n",
      "\n",
      "Training Accuracy after Epoch 1 is 0.817460298538208\n",
      "Cross Validation Accuracy after Epoch 1 is 0.7083333730697632\n",
      "\n",
      "Training Loss at Time Step 1 of Epoch 2 is 0.6149735450744629\n",
      "Training Loss at Time Step 2 of Epoch 2 is 0.07411021739244461\n",
      "Training Loss at Time Step 3 of Epoch 2 is 0.33036112785339355\n",
      "Training Loss at Time Step 4 of Epoch 2 is 0.2743109166622162\n",
      "Training Loss at Time Step 5 of Epoch 2 is 0.14736798405647278\n",
      "Training Loss at Time Step 6 of Epoch 2 is 0.09586463868618011\n",
      "Training Loss at Time Step 7 of Epoch 2 is 0.28492867946624756\n",
      "Training Loss at Time Step 8 of Epoch 2 is 0.3177909553050995\n",
      "Training Loss at Time Step 9 of Epoch 2 is 0.20080392062664032\n",
      "Training Loss at Time Step 10 of Epoch 2 is 0.1540977954864502\n",
      "Training Loss at Time Step 11 of Epoch 2 is 0.4168263375759125\n",
      "Training Loss at Time Step 12 of Epoch 2 is 0.18431630730628967\n",
      "Training Loss at Time Step 13 of Epoch 2 is 0.2805267572402954\n",
      "Training Loss at Time Step 14 of Epoch 2 is 0.8863568305969238\n",
      "Training Loss at Time Step 15 of Epoch 2 is 0.2139483392238617\n",
      "Training Loss at Time Step 16 of Epoch 2 is 0.37509849667549133\n",
      "Training Loss at Time Step 17 of Epoch 2 is 0.2606811821460724\n",
      "Training Loss at Time Step 18 of Epoch 2 is 0.37275514006614685\n",
      "Training Loss at Time Step 19 of Epoch 2 is 0.39113983511924744\n",
      "Training Loss at Time Step 20 of Epoch 2 is 0.3239917755126953\n",
      "Training Loss at Time Step 21 of Epoch 2 is 0.6002556681632996\n",
      "Training Loss at Time Step 22 of Epoch 2 is 0.3813180923461914\n",
      "Training Loss at Time Step 23 of Epoch 2 is 0.21896342933177948\n",
      "Training Loss at Time Step 24 of Epoch 2 is 0.3047378957271576\n",
      "Training Loss at Time Step 25 of Epoch 2 is 0.45736411213874817\n",
      "Training Loss at Time Step 26 of Epoch 2 is 0.2869184911251068\n",
      "Training Loss at Time Step 27 of Epoch 2 is 0.49179819226264954\n",
      "\n",
      "Training Accuracy after Epoch 2 is 0.8478835821151733\n",
      "Cross Validation Accuracy after Epoch 2 is 0.6949999928474426\n",
      "\n",
      "Training Loss at Time Step 1 of Epoch 3 is 0.3711223304271698\n",
      "Training Loss at Time Step 2 of Epoch 3 is 0.3577883541584015\n",
      "Training Loss at Time Step 3 of Epoch 3 is 0.5370133519172668\n",
      "Training Loss at Time Step 4 of Epoch 3 is 0.4785612225532532\n",
      "Training Loss at Time Step 5 of Epoch 3 is 0.2122800052165985\n",
      "Training Loss at Time Step 6 of Epoch 3 is 0.569480299949646\n",
      "Training Loss at Time Step 7 of Epoch 3 is 0.23396824300289154\n",
      "Training Loss at Time Step 8 of Epoch 3 is 0.4073878228664398\n",
      "Training Loss at Time Step 9 of Epoch 3 is 0.5246987342834473\n",
      "Training Loss at Time Step 10 of Epoch 3 is 0.1466362476348877\n",
      "Training Loss at Time Step 11 of Epoch 3 is 0.5750457644462585\n",
      "Training Loss at Time Step 12 of Epoch 3 is 0.36029547452926636\n",
      "Training Loss at Time Step 13 of Epoch 3 is 0.2476784884929657\n",
      "Training Loss at Time Step 14 of Epoch 3 is 0.37770774960517883\n",
      "Training Loss at Time Step 15 of Epoch 3 is 0.2250296175479889\n",
      "Training Loss at Time Step 16 of Epoch 3 is 0.1661185473203659\n",
      "Training Loss at Time Step 17 of Epoch 3 is 0.327040433883667\n",
      "Training Loss at Time Step 18 of Epoch 3 is 0.6603217720985413\n",
      "Training Loss at Time Step 19 of Epoch 3 is 0.5064488649368286\n",
      "Training Loss at Time Step 20 of Epoch 3 is 0.20055042207241058\n",
      "Training Loss at Time Step 21 of Epoch 3 is 0.16714869439601898\n",
      "Training Loss at Time Step 22 of Epoch 3 is 0.6902084350585938\n",
      "Training Loss at Time Step 23 of Epoch 3 is 0.4206258952617645\n",
      "Training Loss at Time Step 24 of Epoch 3 is 0.29924678802490234\n",
      "Training Loss at Time Step 25 of Epoch 3 is 0.3153674304485321\n",
      "Training Loss at Time Step 26 of Epoch 3 is 0.5500149726867676\n",
      "Training Loss at Time Step 27 of Epoch 3 is 0.19689379632472992\n",
      "\n",
      "Training Accuracy after Epoch 3 is 0.8214284181594849\n",
      "Cross Validation Accuracy after Epoch 3 is 0.6800000071525574\n",
      "\n",
      "Training Loss at Time Step 1 of Epoch 4 is 0.71434086561203\n",
      "Training Loss at Time Step 2 of Epoch 4 is 0.23830203711986542\n",
      "Training Loss at Time Step 3 of Epoch 4 is 0.4982024133205414\n",
      "Training Loss at Time Step 4 of Epoch 4 is 0.08020521700382233\n",
      "Training Loss at Time Step 5 of Epoch 4 is 0.07926281541585922\n",
      "Training Loss at Time Step 6 of Epoch 4 is 0.25186583399772644\n",
      "Training Loss at Time Step 7 of Epoch 4 is 0.1390746831893921\n",
      "Training Loss at Time Step 8 of Epoch 4 is 0.40960893034935\n",
      "Training Loss at Time Step 9 of Epoch 4 is 0.17635837197303772\n",
      "Training Loss at Time Step 10 of Epoch 4 is 0.19609808921813965\n",
      "Training Loss at Time Step 11 of Epoch 4 is 0.2196139544248581\n",
      "Training Loss at Time Step 12 of Epoch 4 is 0.7895059585571289\n",
      "Training Loss at Time Step 13 of Epoch 4 is 0.15030863881111145\n",
      "Training Loss at Time Step 14 of Epoch 4 is 0.1375998705625534\n",
      "Training Loss at Time Step 15 of Epoch 4 is 0.19705472886562347\n",
      "Training Loss at Time Step 16 of Epoch 4 is 0.2227223962545395\n",
      "Training Loss at Time Step 17 of Epoch 4 is 0.2228679209947586\n",
      "Training Loss at Time Step 18 of Epoch 4 is 0.04847271367907524\n",
      "Training Loss at Time Step 19 of Epoch 4 is 0.16429556906223297\n",
      "Training Loss at Time Step 20 of Epoch 4 is 0.35856130719184875\n",
      "Training Loss at Time Step 21 of Epoch 4 is 0.30054551362991333\n",
      "Training Loss at Time Step 22 of Epoch 4 is 0.31221646070480347\n",
      "Training Loss at Time Step 23 of Epoch 4 is 0.4886021018028259\n",
      "Training Loss at Time Step 24 of Epoch 4 is 0.48833733797073364\n",
      "Training Loss at Time Step 25 of Epoch 4 is 0.5974605679512024\n",
      "Training Loss at Time Step 26 of Epoch 4 is 0.1459944099187851\n",
      "Training Loss at Time Step 27 of Epoch 4 is 0.07628355920314789\n",
      "\n",
      "Training Accuracy after Epoch 4 is 0.9100529551506042\n",
      "Cross Validation Accuracy after Epoch 4 is 0.6883333325386047\n",
      "\n",
      "Training Loss at Time Step 1 of Epoch 5 is 0.2876453101634979\n",
      "Training Loss at Time Step 2 of Epoch 5 is 0.24293310940265656\n",
      "Training Loss at Time Step 3 of Epoch 5 is 0.245393767952919\n",
      "Training Loss at Time Step 4 of Epoch 5 is 0.4536714255809784\n",
      "Training Loss at Time Step 5 of Epoch 5 is 0.3548363149166107\n",
      "Training Loss at Time Step 6 of Epoch 5 is 0.4243128001689911\n",
      "Training Loss at Time Step 7 of Epoch 5 is 0.07731945812702179\n",
      "Training Loss at Time Step 8 of Epoch 5 is 0.3787263035774231\n",
      "Training Loss at Time Step 9 of Epoch 5 is 0.48769959807395935\n",
      "Training Loss at Time Step 10 of Epoch 5 is 0.6010140776634216\n",
      "Training Loss at Time Step 11 of Epoch 5 is 0.02142343856394291\n",
      "Training Loss at Time Step 12 of Epoch 5 is 0.4035530686378479\n",
      "Training Loss at Time Step 13 of Epoch 5 is 0.11700977385044098\n",
      "Training Loss at Time Step 14 of Epoch 5 is 0.39583495259284973\n",
      "Training Loss at Time Step 15 of Epoch 5 is 0.202938050031662\n"
     ]
    },
    {
     "name": "stdout",
     "output_type": "stream",
     "text": [
      "Training Loss at Time Step 16 of Epoch 5 is 0.6501926779747009\n",
      "Training Loss at Time Step 17 of Epoch 5 is 0.8214918375015259\n",
      "Training Loss at Time Step 18 of Epoch 5 is 0.09378153085708618\n",
      "Training Loss at Time Step 19 of Epoch 5 is 0.6316318511962891\n",
      "Training Loss at Time Step 20 of Epoch 5 is 0.25347650051116943\n",
      "Training Loss at Time Step 21 of Epoch 5 is 0.17700256407260895\n",
      "Training Loss at Time Step 22 of Epoch 5 is 0.20353619754314423\n",
      "Training Loss at Time Step 23 of Epoch 5 is 0.07406507432460785\n",
      "Training Loss at Time Step 24 of Epoch 5 is 0.23606683313846588\n",
      "Training Loss at Time Step 25 of Epoch 5 is 0.11102359741926193\n",
      "Training Loss at Time Step 26 of Epoch 5 is 0.213732048869133\n",
      "Training Loss at Time Step 27 of Epoch 5 is 0.8524540662765503\n",
      "\n",
      "Training Accuracy after Epoch 5 is 0.8227513432502747\n",
      "Cross Validation Accuracy after Epoch 5 is 0.6683333516120911\n",
      "\n",
      "Training Loss at Time Step 1 of Epoch 6 is 0.36366337537765503\n",
      "Training Loss at Time Step 2 of Epoch 6 is 0.7436229586601257\n",
      "Training Loss at Time Step 3 of Epoch 6 is 0.21910415589809418\n",
      "Training Loss at Time Step 4 of Epoch 6 is 0.17769864201545715\n",
      "Training Loss at Time Step 5 of Epoch 6 is 0.9312340617179871\n",
      "Training Loss at Time Step 6 of Epoch 6 is 0.4772445559501648\n",
      "Training Loss at Time Step 7 of Epoch 6 is 0.3459668755531311\n",
      "Training Loss at Time Step 8 of Epoch 6 is 0.09350522607564926\n",
      "Training Loss at Time Step 9 of Epoch 6 is 0.1028544083237648\n",
      "Training Loss at Time Step 10 of Epoch 6 is 0.20235976576805115\n",
      "Training Loss at Time Step 11 of Epoch 6 is 0.484145849943161\n",
      "Training Loss at Time Step 12 of Epoch 6 is 0.5115906000137329\n",
      "Training Loss at Time Step 13 of Epoch 6 is 0.3781706690788269\n",
      "Training Loss at Time Step 14 of Epoch 6 is 0.12150425463914871\n",
      "Training Loss at Time Step 15 of Epoch 6 is 0.21450646221637726\n",
      "Training Loss at Time Step 16 of Epoch 6 is 0.18900315463542938\n",
      "Training Loss at Time Step 17 of Epoch 6 is 0.22866329550743103\n",
      "Training Loss at Time Step 18 of Epoch 6 is 0.40628162026405334\n",
      "Training Loss at Time Step 19 of Epoch 6 is 0.9093210101127625\n",
      "Training Loss at Time Step 20 of Epoch 6 is 0.4120098948478699\n",
      "Training Loss at Time Step 21 of Epoch 6 is 0.15676400065422058\n",
      "Training Loss at Time Step 22 of Epoch 6 is 0.15896151959896088\n",
      "Training Loss at Time Step 23 of Epoch 6 is 0.4693823456764221\n",
      "Training Loss at Time Step 24 of Epoch 6 is 0.19897745549678802\n",
      "Training Loss at Time Step 25 of Epoch 6 is 0.29724615812301636\n",
      "Training Loss at Time Step 26 of Epoch 6 is 0.5943518280982971\n",
      "Training Loss at Time Step 27 of Epoch 6 is 0.6237941980361938\n",
      "\n",
      "Training Accuracy after Epoch 6 is 0.8320105075836182\n",
      "Cross Validation Accuracy after Epoch 6 is 0.6800000071525574\n",
      "\n",
      "Training Loss at Time Step 1 of Epoch 7 is 0.165887713432312\n",
      "Training Loss at Time Step 2 of Epoch 7 is 0.10100942105054855\n",
      "Training Loss at Time Step 3 of Epoch 7 is 0.07826133072376251\n",
      "Training Loss at Time Step 4 of Epoch 7 is 0.2986302971839905\n",
      "Training Loss at Time Step 5 of Epoch 7 is 0.3640601634979248\n",
      "Training Loss at Time Step 6 of Epoch 7 is 0.48657774925231934\n",
      "Training Loss at Time Step 7 of Epoch 7 is 0.45700645446777344\n",
      "Training Loss at Time Step 8 of Epoch 7 is 0.33554285764694214\n",
      "Training Loss at Time Step 9 of Epoch 7 is 0.36243581771850586\n",
      "Training Loss at Time Step 10 of Epoch 7 is 0.34937432408332825\n",
      "Training Loss at Time Step 11 of Epoch 7 is 0.09512002766132355\n",
      "Training Loss at Time Step 12 of Epoch 7 is 0.11295704543590546\n",
      "Training Loss at Time Step 13 of Epoch 7 is 0.8447625041007996\n",
      "Training Loss at Time Step 14 of Epoch 7 is 0.08287499099969864\n",
      "Training Loss at Time Step 15 of Epoch 7 is 0.21393577754497528\n",
      "Training Loss at Time Step 16 of Epoch 7 is 0.1744670867919922\n",
      "Training Loss at Time Step 17 of Epoch 7 is 0.46537694334983826\n",
      "Training Loss at Time Step 18 of Epoch 7 is 0.7074854969978333\n",
      "Training Loss at Time Step 19 of Epoch 7 is 0.5231763124465942\n",
      "Training Loss at Time Step 20 of Epoch 7 is 0.09183549880981445\n",
      "Training Loss at Time Step 21 of Epoch 7 is 0.7120221853256226\n",
      "Training Loss at Time Step 22 of Epoch 7 is 0.3814658224582672\n",
      "Training Loss at Time Step 23 of Epoch 7 is 0.6449463963508606\n",
      "Training Loss at Time Step 24 of Epoch 7 is 0.17797282338142395\n",
      "Training Loss at Time Step 25 of Epoch 7 is 0.14294327795505524\n",
      "Training Loss at Time Step 26 of Epoch 7 is 0.47713589668273926\n",
      "Training Loss at Time Step 27 of Epoch 7 is 0.14885589480400085\n",
      "\n",
      "Training Accuracy after Epoch 7 is 0.849206268787384\n",
      "Cross Validation Accuracy after Epoch 7 is 0.6766666769981384\n",
      "\n",
      "Training Loss at Time Step 1 of Epoch 8 is 0.4980521500110626\n",
      "Training Loss at Time Step 2 of Epoch 8 is 0.4835347831249237\n",
      "Training Loss at Time Step 3 of Epoch 8 is 0.06901981681585312\n",
      "Training Loss at Time Step 4 of Epoch 8 is 0.649013102054596\n",
      "Training Loss at Time Step 5 of Epoch 8 is 0.3577050268650055\n",
      "Training Loss at Time Step 6 of Epoch 8 is 0.331881582736969\n",
      "Training Loss at Time Step 7 of Epoch 8 is 0.35039761662483215\n",
      "Training Loss at Time Step 8 of Epoch 8 is 0.40036341547966003\n",
      "Training Loss at Time Step 9 of Epoch 8 is 0.2563217580318451\n",
      "Training Loss at Time Step 10 of Epoch 8 is 0.295327752828598\n",
      "Training Loss at Time Step 11 of Epoch 8 is 0.09308995306491852\n",
      "Training Loss at Time Step 12 of Epoch 8 is 0.5610076189041138\n",
      "Training Loss at Time Step 13 of Epoch 8 is 0.3253682255744934\n",
      "Training Loss at Time Step 14 of Epoch 8 is 0.437080055475235\n",
      "Training Loss at Time Step 15 of Epoch 8 is 0.2810862362384796\n",
      "Training Loss at Time Step 16 of Epoch 8 is 0.21231207251548767\n",
      "Training Loss at Time Step 17 of Epoch 8 is 0.352343887090683\n",
      "Training Loss at Time Step 18 of Epoch 8 is 1.073756456375122\n",
      "Training Loss at Time Step 19 of Epoch 8 is 0.20616793632507324\n",
      "Training Loss at Time Step 20 of Epoch 8 is 0.40398257970809937\n",
      "Training Loss at Time Step 21 of Epoch 8 is 0.5162816643714905\n",
      "Training Loss at Time Step 22 of Epoch 8 is 0.37815770506858826\n",
      "Training Loss at Time Step 23 of Epoch 8 is 0.24187254905700684\n",
      "Training Loss at Time Step 24 of Epoch 8 is 0.06696059554815292\n",
      "Training Loss at Time Step 25 of Epoch 8 is 0.26424089074134827\n",
      "Training Loss at Time Step 26 of Epoch 8 is 0.16373027861118317\n",
      "Training Loss at Time Step 27 of Epoch 8 is 0.6177897453308105\n",
      "\n",
      "Training Accuracy after Epoch 8 is 0.8214285373687744\n",
      "Cross Validation Accuracy after Epoch 8 is 0.675000011920929\n",
      "\n",
      "Training Loss at Time Step 1 of Epoch 9 is 0.6939595937728882\n",
      "Training Loss at Time Step 2 of Epoch 9 is 0.33831658959388733\n",
      "Training Loss at Time Step 3 of Epoch 9 is 0.280160516500473\n",
      "Training Loss at Time Step 4 of Epoch 9 is 0.4581410586833954\n",
      "Training Loss at Time Step 5 of Epoch 9 is 0.7817599177360535\n",
      "Training Loss at Time Step 6 of Epoch 9 is 0.26820191740989685\n",
      "Training Loss at Time Step 7 of Epoch 9 is 0.21425621211528778\n",
      "Training Loss at Time Step 8 of Epoch 9 is 0.33850041031837463\n",
      "Training Loss at Time Step 9 of Epoch 9 is 0.18657435476779938\n",
      "Training Loss at Time Step 10 of Epoch 9 is 0.3533613979816437\n",
      "Training Loss at Time Step 11 of Epoch 9 is 0.12551827728748322\n",
      "Training Loss at Time Step 12 of Epoch 9 is 0.45789381861686707\n",
      "Training Loss at Time Step 13 of Epoch 9 is 0.6411625742912292\n",
      "Training Loss at Time Step 14 of Epoch 9 is 0.19181783497333527\n",
      "Training Loss at Time Step 15 of Epoch 9 is 0.5392519235610962\n",
      "Training Loss at Time Step 16 of Epoch 9 is 0.09965401887893677\n",
      "Training Loss at Time Step 17 of Epoch 9 is 0.1749766618013382\n",
      "Training Loss at Time Step 18 of Epoch 9 is 0.10926050692796707\n",
      "Training Loss at Time Step 19 of Epoch 9 is 0.36076799035072327\n",
      "Training Loss at Time Step 20 of Epoch 9 is 0.18686184287071228\n",
      "Training Loss at Time Step 21 of Epoch 9 is 0.7396221160888672\n",
      "Training Loss at Time Step 22 of Epoch 9 is 0.5188851952552795\n",
      "Training Loss at Time Step 23 of Epoch 9 is 0.40226513147354126\n",
      "Training Loss at Time Step 24 of Epoch 9 is 0.5279026627540588\n",
      "Training Loss at Time Step 25 of Epoch 9 is 0.10501565039157867\n",
      "Training Loss at Time Step 26 of Epoch 9 is 0.6710013747215271\n",
      "Training Loss at Time Step 27 of Epoch 9 is 0.27362027764320374\n",
      "\n",
      "Training Accuracy after Epoch 9 is 0.8161375522613525\n",
      "Cross Validation Accuracy after Epoch 9 is 0.6650000214576721\n",
      "\n",
      "Training Loss at Time Step 1 of Epoch 10 is 0.27432218194007874\n"
     ]
    },
    {
     "name": "stdout",
     "output_type": "stream",
     "text": [
      "Training Loss at Time Step 2 of Epoch 10 is 0.1009993702173233\n",
      "Training Loss at Time Step 3 of Epoch 10 is 0.7270622253417969\n",
      "Training Loss at Time Step 4 of Epoch 10 is 0.401357501745224\n",
      "Training Loss at Time Step 5 of Epoch 10 is 0.3469914495944977\n",
      "Training Loss at Time Step 6 of Epoch 10 is 0.10465572774410248\n",
      "Training Loss at Time Step 7 of Epoch 10 is 0.325865238904953\n",
      "Training Loss at Time Step 8 of Epoch 10 is 0.09151310473680496\n",
      "Training Loss at Time Step 9 of Epoch 10 is 0.1284637749195099\n",
      "Training Loss at Time Step 10 of Epoch 10 is 0.09005222469568253\n",
      "Training Loss at Time Step 11 of Epoch 10 is 0.3656488358974457\n",
      "Training Loss at Time Step 12 of Epoch 10 is 0.31618645787239075\n",
      "Training Loss at Time Step 13 of Epoch 10 is 0.27475377917289734\n",
      "Training Loss at Time Step 14 of Epoch 10 is 0.3474903702735901\n",
      "Training Loss at Time Step 15 of Epoch 10 is 0.07934433966875076\n",
      "Training Loss at Time Step 16 of Epoch 10 is 0.11192649602890015\n",
      "Training Loss at Time Step 17 of Epoch 10 is 0.23136897385120392\n",
      "Training Loss at Time Step 18 of Epoch 10 is 0.18562135100364685\n",
      "Training Loss at Time Step 19 of Epoch 10 is 0.27889224886894226\n",
      "Training Loss at Time Step 20 of Epoch 10 is 0.1748877614736557\n",
      "Training Loss at Time Step 21 of Epoch 10 is 0.37360039353370667\n",
      "Training Loss at Time Step 22 of Epoch 10 is 0.4281907081604004\n",
      "Training Loss at Time Step 23 of Epoch 10 is 0.2926470637321472\n",
      "Training Loss at Time Step 24 of Epoch 10 is 0.43321365118026733\n",
      "Training Loss at Time Step 25 of Epoch 10 is 0.16209016740322113\n",
      "Training Loss at Time Step 26 of Epoch 10 is 0.1906495988368988\n",
      "Training Loss at Time Step 27 of Epoch 10 is 0.21872173249721527\n",
      "\n",
      "Training Accuracy after Epoch 10 is 0.9060845971107483\n",
      "Cross Validation Accuracy after Epoch 10 is 0.6616666316986084\n",
      "\n",
      "Training Loss at Time Step 1 of Epoch 11 is 0.21310050785541534\n",
      "Training Loss at Time Step 2 of Epoch 11 is 0.5439490675926208\n",
      "Training Loss at Time Step 3 of Epoch 11 is 0.3234769403934479\n",
      "Training Loss at Time Step 4 of Epoch 11 is 1.043463110923767\n",
      "Training Loss at Time Step 5 of Epoch 11 is 0.48127540946006775\n",
      "Training Loss at Time Step 6 of Epoch 11 is 0.3916638195514679\n",
      "Training Loss at Time Step 7 of Epoch 11 is 0.07363532483577728\n",
      "Training Loss at Time Step 8 of Epoch 11 is 0.44317933917045593\n",
      "Training Loss at Time Step 9 of Epoch 11 is 0.43192726373672485\n",
      "Training Loss at Time Step 10 of Epoch 11 is 0.09570533782243729\n",
      "Training Loss at Time Step 11 of Epoch 11 is 0.07109180837869644\n",
      "Training Loss at Time Step 12 of Epoch 11 is 0.39373642206192017\n",
      "Training Loss at Time Step 13 of Epoch 11 is 0.37775611877441406\n",
      "Training Loss at Time Step 14 of Epoch 11 is 0.24203698337078094\n",
      "Training Loss at Time Step 15 of Epoch 11 is 0.2320978343486786\n",
      "Training Loss at Time Step 16 of Epoch 11 is 0.5986768007278442\n",
      "Training Loss at Time Step 17 of Epoch 11 is 0.22053398191928864\n",
      "Training Loss at Time Step 18 of Epoch 11 is 0.11703126132488251\n",
      "Training Loss at Time Step 19 of Epoch 11 is 0.4882955849170685\n",
      "Training Loss at Time Step 20 of Epoch 11 is 0.3984043598175049\n",
      "Training Loss at Time Step 21 of Epoch 11 is 0.3978717625141144\n",
      "Training Loss at Time Step 22 of Epoch 11 is 0.4542193114757538\n",
      "Training Loss at Time Step 23 of Epoch 11 is 0.39167970418930054\n",
      "Training Loss at Time Step 24 of Epoch 11 is 0.43746185302734375\n",
      "Training Loss at Time Step 25 of Epoch 11 is 0.23285779356956482\n",
      "Training Loss at Time Step 26 of Epoch 11 is 0.531731128692627\n",
      "Training Loss at Time Step 27 of Epoch 11 is 0.2700392007827759\n",
      "\n",
      "Training Accuracy after Epoch 11 is 0.8412699699401855\n",
      "Cross Validation Accuracy after Epoch 11 is 0.6516666412353516\n",
      "\n",
      "Training Loss at Time Step 1 of Epoch 12 is 0.13823163509368896\n",
      "Training Loss at Time Step 2 of Epoch 12 is 0.4904789328575134\n",
      "Training Loss at Time Step 3 of Epoch 12 is 0.37941935658454895\n",
      "Training Loss at Time Step 4 of Epoch 12 is 0.33190497756004333\n",
      "Training Loss at Time Step 5 of Epoch 12 is 0.6404715180397034\n",
      "Training Loss at Time Step 6 of Epoch 12 is 0.10264075547456741\n",
      "Training Loss at Time Step 7 of Epoch 12 is 0.3954322040081024\n",
      "Training Loss at Time Step 8 of Epoch 12 is 0.09058720618486404\n",
      "Training Loss at Time Step 9 of Epoch 12 is 0.2273760586977005\n",
      "Training Loss at Time Step 10 of Epoch 12 is 0.37218785285949707\n",
      "Training Loss at Time Step 11 of Epoch 12 is 0.31594589352607727\n",
      "Training Loss at Time Step 12 of Epoch 12 is 0.1015944629907608\n",
      "Training Loss at Time Step 13 of Epoch 12 is 0.137355774641037\n",
      "Training Loss at Time Step 14 of Epoch 12 is 0.08167868107557297\n",
      "Training Loss at Time Step 15 of Epoch 12 is 0.3450658619403839\n",
      "Training Loss at Time Step 16 of Epoch 12 is 0.15027379989624023\n",
      "Training Loss at Time Step 17 of Epoch 12 is 0.20320622622966766\n",
      "Training Loss at Time Step 18 of Epoch 12 is 0.15856492519378662\n",
      "Training Loss at Time Step 19 of Epoch 12 is 0.27434179186820984\n",
      "Training Loss at Time Step 20 of Epoch 12 is 0.16629812121391296\n",
      "Training Loss at Time Step 21 of Epoch 12 is 0.9988567233085632\n",
      "Training Loss at Time Step 22 of Epoch 12 is 0.25505778193473816\n",
      "Training Loss at Time Step 23 of Epoch 12 is 0.09974022209644318\n",
      "Training Loss at Time Step 24 of Epoch 12 is 0.07576356828212738\n",
      "Training Loss at Time Step 25 of Epoch 12 is 0.24080237746238708\n",
      "Training Loss at Time Step 26 of Epoch 12 is 0.26650378108024597\n",
      "Training Loss at Time Step 27 of Epoch 12 is 0.14917053282260895\n",
      "\n",
      "Training Accuracy after Epoch 12 is 0.9047619104385376\n",
      "Cross Validation Accuracy after Epoch 12 is 0.6399999856948853\n",
      "\n",
      "Training Loss at Time Step 1 of Epoch 13 is 0.10423644632101059\n",
      "Training Loss at Time Step 2 of Epoch 13 is 0.512353241443634\n",
      "Training Loss at Time Step 3 of Epoch 13 is 0.1413613110780716\n",
      "Training Loss at Time Step 4 of Epoch 13 is 0.27908745408058167\n",
      "Training Loss at Time Step 5 of Epoch 13 is 0.16588416695594788\n",
      "Training Loss at Time Step 6 of Epoch 13 is 0.24348756670951843\n",
      "Training Loss at Time Step 7 of Epoch 13 is 0.4893980026245117\n",
      "Training Loss at Time Step 8 of Epoch 13 is 0.2970641553401947\n",
      "Training Loss at Time Step 9 of Epoch 13 is 0.15521357953548431\n",
      "Training Loss at Time Step 10 of Epoch 13 is 0.307708740234375\n",
      "Training Loss at Time Step 11 of Epoch 13 is 0.5137926936149597\n",
      "Training Loss at Time Step 12 of Epoch 13 is 0.3741391599178314\n",
      "Training Loss at Time Step 13 of Epoch 13 is 0.5350096821784973\n",
      "Training Loss at Time Step 14 of Epoch 13 is 0.17488452792167664\n",
      "Training Loss at Time Step 15 of Epoch 13 is 0.43106716871261597\n",
      "Training Loss at Time Step 16 of Epoch 13 is 0.2240452766418457\n",
      "Training Loss at Time Step 17 of Epoch 13 is 0.0736195370554924\n",
      "Training Loss at Time Step 18 of Epoch 13 is 0.12579227983951569\n",
      "Training Loss at Time Step 19 of Epoch 13 is 0.18788088858127594\n",
      "Training Loss at Time Step 20 of Epoch 13 is 0.49256208539009094\n",
      "Training Loss at Time Step 21 of Epoch 13 is 0.5159757733345032\n",
      "Training Loss at Time Step 22 of Epoch 13 is 0.25507327914237976\n",
      "Training Loss at Time Step 23 of Epoch 13 is 0.34790945053100586\n",
      "Training Loss at Time Step 24 of Epoch 13 is 0.18699967861175537\n",
      "Training Loss at Time Step 25 of Epoch 13 is 0.3392283320426941\n",
      "Training Loss at Time Step 26 of Epoch 13 is 0.1687401831150055\n",
      "Training Loss at Time Step 27 of Epoch 13 is 0.5474523901939392\n",
      "\n",
      "Training Accuracy after Epoch 13 is 0.8492064476013184\n",
      "Cross Validation Accuracy after Epoch 13 is 0.6516666412353516\n",
      "\n",
      "Training Loss at Time Step 1 of Epoch 14 is 0.429850310087204\n",
      "Training Loss at Time Step 2 of Epoch 14 is 0.8969010710716248\n",
      "Training Loss at Time Step 3 of Epoch 14 is 0.21395477652549744\n",
      "Training Loss at Time Step 4 of Epoch 14 is 0.2325969785451889\n",
      "Training Loss at Time Step 5 of Epoch 14 is 0.25808051228523254\n",
      "Training Loss at Time Step 6 of Epoch 14 is 0.3714710772037506\n",
      "Training Loss at Time Step 7 of Epoch 14 is 0.3087488114833832\n",
      "Training Loss at Time Step 8 of Epoch 14 is 0.561742901802063\n",
      "Training Loss at Time Step 9 of Epoch 14 is 0.18187962472438812\n",
      "Training Loss at Time Step 10 of Epoch 14 is 0.18545261025428772\n",
      "Training Loss at Time Step 11 of Epoch 14 is 0.12479901313781738\n",
      "Training Loss at Time Step 12 of Epoch 14 is 0.14593598246574402\n",
      "Training Loss at Time Step 13 of Epoch 14 is 0.7413222193717957\n",
      "Training Loss at Time Step 14 of Epoch 14 is 0.4822787642478943\n"
     ]
    },
    {
     "name": "stdout",
     "output_type": "stream",
     "text": [
      "Training Loss at Time Step 15 of Epoch 14 is 0.26178261637687683\n",
      "Training Loss at Time Step 16 of Epoch 14 is 0.1684790700674057\n",
      "Training Loss at Time Step 17 of Epoch 14 is 0.24717435240745544\n",
      "Training Loss at Time Step 18 of Epoch 14 is 0.40668168663978577\n",
      "Training Loss at Time Step 19 of Epoch 14 is 0.2921275496482849\n",
      "Training Loss at Time Step 20 of Epoch 14 is 0.16076621413230896\n",
      "Training Loss at Time Step 21 of Epoch 14 is 0.2707885205745697\n",
      "Training Loss at Time Step 22 of Epoch 14 is 0.5538212656974792\n",
      "Training Loss at Time Step 23 of Epoch 14 is 0.16924013197422028\n",
      "Training Loss at Time Step 24 of Epoch 14 is 0.16426227986812592\n",
      "Training Loss at Time Step 25 of Epoch 14 is 0.3154298961162567\n",
      "Training Loss at Time Step 26 of Epoch 14 is 0.11452800780534744\n",
      "Training Loss at Time Step 27 of Epoch 14 is 0.1769489347934723\n",
      "\n",
      "Training Accuracy after Epoch 14 is 0.8518518805503845\n",
      "Cross Validation Accuracy after Epoch 14 is 0.653333306312561\n",
      "\n",
      "Training Loss at Time Step 1 of Epoch 15 is 0.2829214036464691\n",
      "Training Loss at Time Step 2 of Epoch 15 is 0.10464996099472046\n",
      "Training Loss at Time Step 3 of Epoch 15 is 0.07419071346521378\n",
      "Training Loss at Time Step 4 of Epoch 15 is 0.575235903263092\n",
      "Training Loss at Time Step 5 of Epoch 15 is 0.3434169590473175\n",
      "Training Loss at Time Step 6 of Epoch 15 is 0.2286818027496338\n",
      "Training Loss at Time Step 7 of Epoch 15 is 0.20608405768871307\n",
      "Training Loss at Time Step 8 of Epoch 15 is 0.2364731729030609\n",
      "Training Loss at Time Step 9 of Epoch 15 is 0.19958768784999847\n",
      "Training Loss at Time Step 10 of Epoch 15 is 0.2471068948507309\n",
      "Training Loss at Time Step 11 of Epoch 15 is 0.5577529668807983\n",
      "Training Loss at Time Step 12 of Epoch 15 is 0.3465190529823303\n",
      "Training Loss at Time Step 13 of Epoch 15 is 0.27681949734687805\n",
      "Training Loss at Time Step 14 of Epoch 15 is 0.34647077322006226\n",
      "Training Loss at Time Step 15 of Epoch 15 is 0.17365297675132751\n",
      "Training Loss at Time Step 16 of Epoch 15 is 0.23043619096279144\n",
      "Training Loss at Time Step 17 of Epoch 15 is 0.1427551954984665\n",
      "Training Loss at Time Step 18 of Epoch 15 is 0.30487513542175293\n",
      "Training Loss at Time Step 19 of Epoch 15 is 1.0506542921066284\n",
      "Training Loss at Time Step 20 of Epoch 15 is 0.3770146369934082\n",
      "Training Loss at Time Step 21 of Epoch 15 is 0.2625678479671478\n",
      "Training Loss at Time Step 22 of Epoch 15 is 0.1875842660665512\n",
      "Training Loss at Time Step 23 of Epoch 15 is 0.37669119238853455\n",
      "Training Loss at Time Step 24 of Epoch 15 is 0.9194954633712769\n",
      "Training Loss at Time Step 25 of Epoch 15 is 0.5615760684013367\n",
      "Training Loss at Time Step 26 of Epoch 15 is 0.47709426283836365\n",
      "Training Loss at Time Step 27 of Epoch 15 is 0.03853752464056015\n",
      "\n",
      "Training Accuracy after Epoch 15 is 0.8306876420974731\n",
      "Cross Validation Accuracy after Epoch 15 is 0.6616666913032532\n",
      "\n",
      "Training Loss at Time Step 1 of Epoch 16 is 0.3213616609573364\n",
      "Training Loss at Time Step 2 of Epoch 16 is 0.3869191110134125\n",
      "Training Loss at Time Step 3 of Epoch 16 is 0.3416803777217865\n",
      "Training Loss at Time Step 4 of Epoch 16 is 0.3111717998981476\n",
      "Training Loss at Time Step 5 of Epoch 16 is 0.2152503877878189\n",
      "Training Loss at Time Step 6 of Epoch 16 is 0.7438940405845642\n",
      "Training Loss at Time Step 7 of Epoch 16 is 0.2971445620059967\n",
      "Training Loss at Time Step 8 of Epoch 16 is 0.11807196587324142\n",
      "Training Loss at Time Step 9 of Epoch 16 is 0.6653954386711121\n",
      "Training Loss at Time Step 10 of Epoch 16 is 0.18879111111164093\n",
      "Training Loss at Time Step 11 of Epoch 16 is 0.2135688215494156\n",
      "Training Loss at Time Step 12 of Epoch 16 is 0.5017170906066895\n",
      "Training Loss at Time Step 13 of Epoch 16 is 0.11134355515241623\n",
      "Training Loss at Time Step 14 of Epoch 16 is 0.3983469009399414\n",
      "Training Loss at Time Step 15 of Epoch 16 is 0.44708940386772156\n",
      "Training Loss at Time Step 16 of Epoch 16 is 0.3798238933086395\n",
      "Training Loss at Time Step 17 of Epoch 16 is 0.19514694809913635\n",
      "Training Loss at Time Step 18 of Epoch 16 is 0.4258141815662384\n",
      "Training Loss at Time Step 19 of Epoch 16 is 0.15715156495571136\n",
      "Training Loss at Time Step 20 of Epoch 16 is 0.10280394554138184\n",
      "Training Loss at Time Step 21 of Epoch 16 is 0.4161183834075928\n",
      "Training Loss at Time Step 22 of Epoch 16 is 0.3059130609035492\n",
      "Training Loss at Time Step 23 of Epoch 16 is 0.34725648164749146\n",
      "Training Loss at Time Step 24 of Epoch 16 is 0.3277284502983093\n",
      "Training Loss at Time Step 25 of Epoch 16 is 0.1486617475748062\n",
      "Training Loss at Time Step 26 of Epoch 16 is 0.1158643439412117\n",
      "Training Loss at Time Step 27 of Epoch 16 is 0.42443445324897766\n",
      "\n",
      "Training Accuracy after Epoch 16 is 0.8888888955116272\n",
      "Cross Validation Accuracy after Epoch 16 is 0.6549999713897705\n",
      "\n",
      "Training Loss at Time Step 1 of Epoch 17 is 0.3889849781990051\n",
      "Training Loss at Time Step 2 of Epoch 17 is 0.6649982333183289\n",
      "Training Loss at Time Step 3 of Epoch 17 is 0.12425800412893295\n",
      "Training Loss at Time Step 4 of Epoch 17 is 0.5133476257324219\n",
      "Training Loss at Time Step 5 of Epoch 17 is 0.0806543305516243\n",
      "Training Loss at Time Step 6 of Epoch 17 is 0.15060879290103912\n",
      "Training Loss at Time Step 7 of Epoch 17 is 0.2629569172859192\n",
      "Training Loss at Time Step 8 of Epoch 17 is 0.29525452852249146\n",
      "Training Loss at Time Step 9 of Epoch 17 is 0.44837409257888794\n",
      "Training Loss at Time Step 10 of Epoch 17 is 0.8795070648193359\n",
      "Training Loss at Time Step 11 of Epoch 17 is 0.12348996102809906\n",
      "Training Loss at Time Step 12 of Epoch 17 is 0.1785680204629898\n",
      "Training Loss at Time Step 13 of Epoch 17 is 0.3984147608280182\n",
      "Training Loss at Time Step 14 of Epoch 17 is 0.22055134177207947\n",
      "Training Loss at Time Step 15 of Epoch 17 is 0.24363788962364197\n",
      "Training Loss at Time Step 16 of Epoch 17 is 0.38728734850883484\n",
      "Training Loss at Time Step 17 of Epoch 17 is 0.36772194504737854\n",
      "Training Loss at Time Step 18 of Epoch 17 is 0.3857662081718445\n",
      "Training Loss at Time Step 19 of Epoch 17 is 0.7264462113380432\n",
      "Training Loss at Time Step 20 of Epoch 17 is 0.16650176048278809\n",
      "Training Loss at Time Step 21 of Epoch 17 is 0.12279178202152252\n",
      "Training Loss at Time Step 22 of Epoch 17 is 0.3382195830345154\n",
      "Training Loss at Time Step 23 of Epoch 17 is 0.534176230430603\n",
      "Training Loss at Time Step 24 of Epoch 17 is 0.11634552478790283\n",
      "Training Loss at Time Step 25 of Epoch 17 is 0.3116196095943451\n",
      "Training Loss at Time Step 26 of Epoch 17 is 0.4004593789577484\n",
      "Training Loss at Time Step 27 of Epoch 17 is 0.8896322250366211\n",
      "\n",
      "Training Accuracy after Epoch 17 is 0.8386242389678955\n",
      "Cross Validation Accuracy after Epoch 17 is 0.6549999713897705\n",
      "\n",
      "Training Loss at Time Step 1 of Epoch 18 is 0.2561151385307312\n",
      "Training Loss at Time Step 2 of Epoch 18 is 0.47432786226272583\n",
      "Training Loss at Time Step 3 of Epoch 18 is 0.10209427773952484\n",
      "Training Loss at Time Step 4 of Epoch 18 is 0.1822977364063263\n",
      "Training Loss at Time Step 5 of Epoch 18 is 0.10869748890399933\n",
      "Training Loss at Time Step 6 of Epoch 18 is 0.7343096137046814\n",
      "Training Loss at Time Step 7 of Epoch 18 is 0.10214120149612427\n",
      "Training Loss at Time Step 8 of Epoch 18 is 0.44924527406692505\n",
      "Training Loss at Time Step 9 of Epoch 18 is 0.1866358369588852\n",
      "Training Loss at Time Step 10 of Epoch 18 is 0.19762368500232697\n",
      "Training Loss at Time Step 11 of Epoch 18 is 0.41154974699020386\n",
      "Training Loss at Time Step 12 of Epoch 18 is 0.20762042701244354\n",
      "Training Loss at Time Step 13 of Epoch 18 is 0.19049237668514252\n",
      "Training Loss at Time Step 14 of Epoch 18 is 0.11325858533382416\n",
      "Training Loss at Time Step 15 of Epoch 18 is 0.3811618983745575\n",
      "Training Loss at Time Step 16 of Epoch 18 is 0.5275550484657288\n",
      "Training Loss at Time Step 17 of Epoch 18 is 0.18331363797187805\n",
      "Training Loss at Time Step 18 of Epoch 18 is 0.46489694714546204\n",
      "Training Loss at Time Step 19 of Epoch 18 is 0.8032769560813904\n",
      "Training Loss at Time Step 20 of Epoch 18 is 0.5877295732498169\n",
      "Training Loss at Time Step 21 of Epoch 18 is 0.2911701202392578\n",
      "Training Loss at Time Step 22 of Epoch 18 is 0.5456093549728394\n",
      "Training Loss at Time Step 23 of Epoch 18 is 0.3235010504722595\n",
      "Training Loss at Time Step 24 of Epoch 18 is 0.06762909889221191\n",
      "Training Loss at Time Step 25 of Epoch 18 is 0.5311950445175171\n",
      "Training Loss at Time Step 26 of Epoch 18 is 0.24344219267368317\n",
      "Training Loss at Time Step 27 of Epoch 18 is 0.2113109976053238\n"
     ]
    },
    {
     "name": "stdout",
     "output_type": "stream",
     "text": [
      "\n",
      "Training Accuracy after Epoch 18 is 0.8677248358726501\n",
      "Cross Validation Accuracy after Epoch 18 is 0.6599999666213989\n",
      "\n",
      "Training Loss at Time Step 1 of Epoch 19 is 0.3589160740375519\n",
      "Training Loss at Time Step 2 of Epoch 19 is 0.3675200045108795\n",
      "Training Loss at Time Step 3 of Epoch 19 is 0.2800540030002594\n",
      "Training Loss at Time Step 4 of Epoch 19 is 0.2536303699016571\n",
      "Training Loss at Time Step 5 of Epoch 19 is 0.1801295280456543\n",
      "Training Loss at Time Step 6 of Epoch 19 is 0.2124602049589157\n",
      "Training Loss at Time Step 7 of Epoch 19 is 0.4897087514400482\n",
      "Training Loss at Time Step 8 of Epoch 19 is 0.6265899538993835\n",
      "Training Loss at Time Step 9 of Epoch 19 is 0.2685559093952179\n",
      "Training Loss at Time Step 10 of Epoch 19 is 0.4308079183101654\n",
      "Training Loss at Time Step 11 of Epoch 19 is 0.26239296793937683\n",
      "Training Loss at Time Step 12 of Epoch 19 is 0.5064510703086853\n",
      "Training Loss at Time Step 13 of Epoch 19 is 0.19455769658088684\n",
      "Training Loss at Time Step 14 of Epoch 19 is 0.4859077036380768\n",
      "Training Loss at Time Step 15 of Epoch 19 is 0.07211941480636597\n",
      "Training Loss at Time Step 16 of Epoch 19 is 0.5526066422462463\n",
      "Training Loss at Time Step 17 of Epoch 19 is 0.2391657680273056\n",
      "Training Loss at Time Step 18 of Epoch 19 is 0.17431017756462097\n",
      "Training Loss at Time Step 19 of Epoch 19 is 0.3406360149383545\n",
      "Training Loss at Time Step 20 of Epoch 19 is 0.3582638204097748\n",
      "Training Loss at Time Step 21 of Epoch 19 is 0.32329824566841125\n",
      "Training Loss at Time Step 22 of Epoch 19 is 0.44773319363594055\n",
      "Training Loss at Time Step 23 of Epoch 19 is 0.1401403844356537\n",
      "Training Loss at Time Step 24 of Epoch 19 is 0.44805145263671875\n",
      "Training Loss at Time Step 25 of Epoch 19 is 0.40617087483406067\n",
      "Training Loss at Time Step 26 of Epoch 19 is 0.08781695365905762\n",
      "Training Loss at Time Step 27 of Epoch 19 is 0.327210009098053\n",
      "\n",
      "Training Accuracy after Epoch 19 is 0.8320105671882629\n",
      "Cross Validation Accuracy after Epoch 19 is 0.6599999666213989\n",
      "\n",
      "Training Loss at Time Step 1 of Epoch 20 is 0.07219558209180832\n",
      "Training Loss at Time Step 2 of Epoch 20 is 0.2399308681488037\n",
      "Training Loss at Time Step 3 of Epoch 20 is 0.3629731237888336\n",
      "Training Loss at Time Step 4 of Epoch 20 is 0.4043414890766144\n",
      "Training Loss at Time Step 5 of Epoch 20 is 0.5364364981651306\n",
      "Training Loss at Time Step 6 of Epoch 20 is 0.11732561141252518\n",
      "Training Loss at Time Step 7 of Epoch 20 is 0.33254197239875793\n",
      "Training Loss at Time Step 8 of Epoch 20 is 0.24161101877689362\n",
      "Training Loss at Time Step 9 of Epoch 20 is 0.10247386991977692\n",
      "Training Loss at Time Step 10 of Epoch 20 is 0.19693095982074738\n",
      "Training Loss at Time Step 11 of Epoch 20 is 0.09907077252864838\n",
      "Training Loss at Time Step 12 of Epoch 20 is 0.39922642707824707\n",
      "Training Loss at Time Step 13 of Epoch 20 is 0.40006306767463684\n",
      "Training Loss at Time Step 14 of Epoch 20 is 0.25686973333358765\n",
      "Training Loss at Time Step 15 of Epoch 20 is 0.49494680762290955\n",
      "Training Loss at Time Step 16 of Epoch 20 is 0.6255554556846619\n",
      "Training Loss at Time Step 17 of Epoch 20 is 0.3370785713195801\n",
      "Training Loss at Time Step 18 of Epoch 20 is 0.3175758719444275\n",
      "Training Loss at Time Step 19 of Epoch 20 is 0.16518734395503998\n",
      "Training Loss at Time Step 20 of Epoch 20 is 0.279283344745636\n",
      "Training Loss at Time Step 21 of Epoch 20 is 0.21807238459587097\n",
      "Training Loss at Time Step 22 of Epoch 20 is 0.13225498795509338\n",
      "Training Loss at Time Step 23 of Epoch 20 is 0.20347489416599274\n",
      "Training Loss at Time Step 24 of Epoch 20 is 1.0085164308547974\n",
      "Training Loss at Time Step 25 of Epoch 20 is 0.2775239646434784\n",
      "Training Loss at Time Step 26 of Epoch 20 is 0.19010713696479797\n",
      "Training Loss at Time Step 27 of Epoch 20 is 0.3786919414997101\n",
      "\n",
      "Training Accuracy after Epoch 20 is 0.8650793433189392\n",
      "Cross Validation Accuracy after Epoch 20 is 0.6649999618530273\n",
      "\n",
      "Training Loss at Time Step 1 of Epoch 21 is 0.13322485983371735\n",
      "Training Loss at Time Step 2 of Epoch 21 is 0.3169836401939392\n",
      "Training Loss at Time Step 3 of Epoch 21 is 0.1824011355638504\n",
      "Training Loss at Time Step 4 of Epoch 21 is 0.5323123335838318\n",
      "Training Loss at Time Step 5 of Epoch 21 is 0.33452168107032776\n",
      "Training Loss at Time Step 6 of Epoch 21 is 0.15995991230010986\n",
      "Training Loss at Time Step 7 of Epoch 21 is 0.2679474651813507\n",
      "Training Loss at Time Step 8 of Epoch 21 is 0.42258208990097046\n",
      "Training Loss at Time Step 9 of Epoch 21 is 0.6794403791427612\n",
      "Training Loss at Time Step 10 of Epoch 21 is 0.7320117354393005\n",
      "Training Loss at Time Step 11 of Epoch 21 is 0.362831175327301\n",
      "Training Loss at Time Step 12 of Epoch 21 is 0.16587576270103455\n",
      "Training Loss at Time Step 13 of Epoch 21 is 0.24810099601745605\n",
      "Training Loss at Time Step 14 of Epoch 21 is 0.08412452787160873\n",
      "Training Loss at Time Step 15 of Epoch 21 is 0.5936854481697083\n",
      "Training Loss at Time Step 16 of Epoch 21 is 0.6318474411964417\n",
      "Training Loss at Time Step 17 of Epoch 21 is 0.5904451012611389\n",
      "Training Loss at Time Step 18 of Epoch 21 is 2.0188770294189453\n",
      "Training Loss at Time Step 19 of Epoch 21 is 0.5694159269332886\n",
      "Training Loss at Time Step 20 of Epoch 21 is 0.9574256539344788\n",
      "Training Loss at Time Step 21 of Epoch 21 is 0.924705982208252\n",
      "Training Loss at Time Step 22 of Epoch 21 is 1.3037233352661133\n",
      "Training Loss at Time Step 23 of Epoch 21 is 1.6000181436538696\n",
      "Training Loss at Time Step 24 of Epoch 21 is 1.689335823059082\n",
      "Training Loss at Time Step 25 of Epoch 21 is 0.9088935852050781\n",
      "Training Loss at Time Step 26 of Epoch 21 is 1.4188114404678345\n",
      "Training Loss at Time Step 27 of Epoch 21 is 0.9079981446266174\n",
      "\n",
      "Training Accuracy after Epoch 21 is 0.714285671710968\n",
      "Cross Validation Accuracy after Epoch 21 is 0.5\n",
      "\n",
      "Training Loss at Time Step 1 of Epoch 22 is 2.002779483795166\n",
      "Training Loss at Time Step 2 of Epoch 22 is 1.3949729204177856\n",
      "Training Loss at Time Step 3 of Epoch 22 is 1.0296066999435425\n",
      "Training Loss at Time Step 4 of Epoch 22 is 1.111133337020874\n",
      "Training Loss at Time Step 5 of Epoch 22 is 0.5940354466438293\n",
      "Training Loss at Time Step 6 of Epoch 22 is 1.4237499237060547\n",
      "Training Loss at Time Step 7 of Epoch 22 is 0.7945953011512756\n",
      "Training Loss at Time Step 8 of Epoch 22 is 1.0287832021713257\n",
      "Training Loss at Time Step 9 of Epoch 22 is 1.0827096700668335\n",
      "Training Loss at Time Step 10 of Epoch 22 is 0.7028951644897461\n",
      "Training Loss at Time Step 11 of Epoch 22 is 0.8996168375015259\n",
      "Training Loss at Time Step 12 of Epoch 22 is 0.9441303014755249\n",
      "Training Loss at Time Step 13 of Epoch 22 is 0.6606699228286743\n",
      "Training Loss at Time Step 14 of Epoch 22 is 0.5276137590408325\n",
      "Training Loss at Time Step 15 of Epoch 22 is 1.4662362337112427\n",
      "Training Loss at Time Step 16 of Epoch 22 is 0.7597377896308899\n",
      "Training Loss at Time Step 17 of Epoch 22 is 0.4692398011684418\n",
      "Training Loss at Time Step 18 of Epoch 22 is 1.9673107862472534\n",
      "Training Loss at Time Step 19 of Epoch 22 is 0.5039173364639282\n",
      "Training Loss at Time Step 20 of Epoch 22 is 0.25133052468299866\n",
      "Training Loss at Time Step 21 of Epoch 22 is 1.6496241092681885\n",
      "Training Loss at Time Step 22 of Epoch 22 is 1.0500973463058472\n",
      "Training Loss at Time Step 23 of Epoch 22 is 0.3792847990989685\n",
      "Training Loss at Time Step 24 of Epoch 22 is 0.7450119256973267\n",
      "Training Loss at Time Step 25 of Epoch 22 is 0.9561542868614197\n",
      "Training Loss at Time Step 26 of Epoch 22 is 0.3472920060157776\n",
      "Training Loss at Time Step 27 of Epoch 22 is 1.209884762763977\n",
      "\n",
      "Training Accuracy after Epoch 22 is 0.5780423283576965\n",
      "Cross Validation Accuracy after Epoch 22 is 0.5\n",
      "\n",
      "Training Loss at Time Step 1 of Epoch 23 is 0.41671130061149597\n",
      "Training Loss at Time Step 2 of Epoch 23 is 1.0757091045379639\n",
      "Training Loss at Time Step 3 of Epoch 23 is 0.4621373116970062\n",
      "Training Loss at Time Step 4 of Epoch 23 is 0.2914138734340668\n",
      "Training Loss at Time Step 5 of Epoch 23 is 2.2541425228118896\n",
      "Training Loss at Time Step 6 of Epoch 23 is 0.5726910829544067\n",
      "Training Loss at Time Step 7 of Epoch 23 is 0.899117112159729\n",
      "Training Loss at Time Step 8 of Epoch 23 is 0.1910722404718399\n",
      "Training Loss at Time Step 9 of Epoch 23 is 0.5007926821708679\n",
      "Training Loss at Time Step 10 of Epoch 23 is 0.628117024898529\n",
      "Training Loss at Time Step 11 of Epoch 23 is 0.4714638590812683\n",
      "Training Loss at Time Step 12 of Epoch 23 is 0.2787822186946869\n"
     ]
    },
    {
     "name": "stdout",
     "output_type": "stream",
     "text": [
      "Training Loss at Time Step 13 of Epoch 23 is 0.7611432075500488\n",
      "Training Loss at Time Step 14 of Epoch 23 is 0.6917290091514587\n",
      "Training Loss at Time Step 15 of Epoch 23 is 1.2566486597061157\n",
      "Training Loss at Time Step 16 of Epoch 23 is 1.5445412397384644\n",
      "Training Loss at Time Step 17 of Epoch 23 is 0.26078155636787415\n",
      "Training Loss at Time Step 18 of Epoch 23 is 0.8754881024360657\n",
      "Training Loss at Time Step 19 of Epoch 23 is 0.5597981810569763\n",
      "Training Loss at Time Step 20 of Epoch 23 is 0.4203405976295471\n",
      "Training Loss at Time Step 21 of Epoch 23 is 1.1094913482666016\n",
      "Training Loss at Time Step 22 of Epoch 23 is 0.2933818995952606\n",
      "Training Loss at Time Step 23 of Epoch 23 is 0.41520875692367554\n",
      "Training Loss at Time Step 24 of Epoch 23 is 0.48298341035842896\n",
      "Training Loss at Time Step 25 of Epoch 23 is 1.0746729373931885\n",
      "Training Loss at Time Step 26 of Epoch 23 is 0.6499357223510742\n",
      "Training Loss at Time Step 27 of Epoch 23 is 0.6761091947555542\n",
      "\n",
      "Training Accuracy after Epoch 23 is 0.6613755822181702\n",
      "Cross Validation Accuracy after Epoch 23 is 0.5\n",
      "\n",
      "Training Loss at Time Step 1 of Epoch 24 is 0.9154847264289856\n",
      "Training Loss at Time Step 2 of Epoch 24 is 1.0805028676986694\n",
      "Training Loss at Time Step 3 of Epoch 24 is 1.7352659702301025\n",
      "Training Loss at Time Step 4 of Epoch 24 is 0.24383758008480072\n",
      "Training Loss at Time Step 5 of Epoch 24 is 1.2045061588287354\n",
      "Training Loss at Time Step 6 of Epoch 24 is 0.4967174530029297\n",
      "Training Loss at Time Step 7 of Epoch 24 is 0.3448716998100281\n",
      "Training Loss at Time Step 8 of Epoch 24 is 0.5696548819541931\n",
      "Training Loss at Time Step 9 of Epoch 24 is 1.1330664157867432\n",
      "Training Loss at Time Step 10 of Epoch 24 is 0.9272996187210083\n",
      "Training Loss at Time Step 11 of Epoch 24 is 0.9810131788253784\n",
      "Training Loss at Time Step 12 of Epoch 24 is 0.9012425541877747\n",
      "Training Loss at Time Step 13 of Epoch 24 is 0.46996214985847473\n",
      "Training Loss at Time Step 14 of Epoch 24 is 1.0391433238983154\n",
      "Training Loss at Time Step 15 of Epoch 24 is 0.4193756878376007\n",
      "Training Loss at Time Step 16 of Epoch 24 is 0.9952678084373474\n",
      "Training Loss at Time Step 17 of Epoch 24 is 0.39633816480636597\n",
      "Training Loss at Time Step 18 of Epoch 24 is 0.5151845216751099\n",
      "Training Loss at Time Step 19 of Epoch 24 is 0.24354740977287292\n",
      "Training Loss at Time Step 20 of Epoch 24 is 0.3667040169239044\n",
      "Training Loss at Time Step 21 of Epoch 24 is 0.35054633021354675\n",
      "Training Loss at Time Step 22 of Epoch 24 is 0.5091944932937622\n",
      "Training Loss at Time Step 23 of Epoch 24 is 0.6804341077804565\n",
      "Training Loss at Time Step 24 of Epoch 24 is 0.6658352613449097\n",
      "Training Loss at Time Step 25 of Epoch 24 is 1.03514564037323\n",
      "Training Loss at Time Step 26 of Epoch 24 is 0.14685489237308502\n",
      "Training Loss at Time Step 27 of Epoch 24 is 0.6369113922119141\n",
      "\n",
      "Training Accuracy after Epoch 24 is 0.6957671046257019\n",
      "Cross Validation Accuracy after Epoch 24 is 0.5\n",
      "\n",
      "Training Loss at Time Step 1 of Epoch 25 is 0.6148597598075867\n",
      "Training Loss at Time Step 2 of Epoch 25 is 1.4041731357574463\n",
      "Training Loss at Time Step 3 of Epoch 25 is 0.635728657245636\n",
      "Training Loss at Time Step 4 of Epoch 25 is 0.4737531840801239\n",
      "Training Loss at Time Step 5 of Epoch 25 is 0.2480001151561737\n",
      "Training Loss at Time Step 6 of Epoch 25 is 0.7944860458374023\n",
      "Training Loss at Time Step 7 of Epoch 25 is 1.1983827352523804\n",
      "Training Loss at Time Step 8 of Epoch 25 is 1.258697509765625\n",
      "Training Loss at Time Step 9 of Epoch 25 is 0.5758867859840393\n",
      "Training Loss at Time Step 10 of Epoch 25 is 0.32733190059661865\n",
      "Training Loss at Time Step 11 of Epoch 25 is 0.3641127049922943\n",
      "Training Loss at Time Step 12 of Epoch 25 is 0.5591739416122437\n",
      "Training Loss at Time Step 13 of Epoch 25 is 0.9393599629402161\n",
      "Training Loss at Time Step 14 of Epoch 25 is 0.16159963607788086\n",
      "Training Loss at Time Step 15 of Epoch 25 is 0.6872497200965881\n",
      "Training Loss at Time Step 16 of Epoch 25 is 0.4864799976348877\n",
      "Training Loss at Time Step 17 of Epoch 25 is 1.118534803390503\n",
      "Training Loss at Time Step 18 of Epoch 25 is 0.39094385504722595\n",
      "Training Loss at Time Step 19 of Epoch 25 is 0.45359721779823303\n",
      "Training Loss at Time Step 20 of Epoch 25 is 1.34967041015625\n",
      "Training Loss at Time Step 21 of Epoch 25 is 0.28275054693222046\n",
      "Training Loss at Time Step 22 of Epoch 25 is 0.4239142835140228\n",
      "Training Loss at Time Step 23 of Epoch 25 is 0.2920875549316406\n",
      "Training Loss at Time Step 24 of Epoch 25 is 0.20264410972595215\n",
      "Training Loss at Time Step 25 of Epoch 25 is 0.4465247690677643\n",
      "Training Loss at Time Step 26 of Epoch 25 is 0.742225706577301\n",
      "Training Loss at Time Step 27 of Epoch 25 is 1.019368052482605\n",
      "\n",
      "Training Accuracy after Epoch 25 is 0.6891533136367798\n",
      "Cross Validation Accuracy after Epoch 25 is 0.5\n",
      "\n",
      "Training Loss at Time Step 1 of Epoch 26 is 0.48629996180534363\n",
      "Training Loss at Time Step 2 of Epoch 26 is 0.6174275279045105\n",
      "Training Loss at Time Step 3 of Epoch 26 is 0.5748258233070374\n",
      "Training Loss at Time Step 4 of Epoch 26 is 0.6449170708656311\n",
      "Training Loss at Time Step 5 of Epoch 26 is 0.8265013098716736\n",
      "Training Loss at Time Step 6 of Epoch 26 is 0.7018604278564453\n",
      "Training Loss at Time Step 7 of Epoch 26 is 0.5130146741867065\n",
      "Training Loss at Time Step 8 of Epoch 26 is 1.2654898166656494\n",
      "Training Loss at Time Step 9 of Epoch 26 is 0.4494946300983429\n",
      "Training Loss at Time Step 10 of Epoch 26 is 0.5742225050926208\n",
      "Training Loss at Time Step 11 of Epoch 26 is 0.48520439863204956\n",
      "Training Loss at Time Step 12 of Epoch 26 is 0.22444868087768555\n",
      "Training Loss at Time Step 13 of Epoch 26 is 0.3708631992340088\n",
      "Training Loss at Time Step 14 of Epoch 26 is 0.28211861848831177\n",
      "Training Loss at Time Step 15 of Epoch 26 is 0.625292181968689\n",
      "Training Loss at Time Step 16 of Epoch 26 is 0.3720236122608185\n",
      "Training Loss at Time Step 17 of Epoch 26 is 0.1842145174741745\n",
      "Training Loss at Time Step 18 of Epoch 26 is 0.47599655389785767\n",
      "Training Loss at Time Step 19 of Epoch 26 is 0.6006612777709961\n",
      "Training Loss at Time Step 20 of Epoch 26 is 0.1114453449845314\n",
      "Training Loss at Time Step 21 of Epoch 26 is 0.2762351632118225\n",
      "Training Loss at Time Step 22 of Epoch 26 is 0.2804751694202423\n",
      "Training Loss at Time Step 23 of Epoch 26 is 0.9926184415817261\n",
      "Training Loss at Time Step 24 of Epoch 26 is 0.27427002787590027\n",
      "Training Loss at Time Step 25 of Epoch 26 is 0.7329287528991699\n",
      "Training Loss at Time Step 26 of Epoch 26 is 1.0992101430892944\n",
      "Training Loss at Time Step 27 of Epoch 26 is 0.30556926131248474\n",
      "\n",
      "Training Accuracy after Epoch 26 is 0.7314814925193787\n",
      "Cross Validation Accuracy after Epoch 26 is 0.5\n",
      "\n",
      "Training Loss at Time Step 1 of Epoch 27 is 0.25538957118988037\n",
      "Training Loss at Time Step 2 of Epoch 27 is 0.570801854133606\n",
      "Training Loss at Time Step 3 of Epoch 27 is 0.6833059191703796\n",
      "Training Loss at Time Step 4 of Epoch 27 is 0.5352257490158081\n",
      "Training Loss at Time Step 5 of Epoch 27 is 0.9059915542602539\n",
      "Training Loss at Time Step 6 of Epoch 27 is 0.4216277301311493\n",
      "Training Loss at Time Step 7 of Epoch 27 is 0.3215060830116272\n",
      "Training Loss at Time Step 8 of Epoch 27 is 0.3719693124294281\n",
      "Training Loss at Time Step 9 of Epoch 27 is 0.894317090511322\n",
      "Training Loss at Time Step 10 of Epoch 27 is 1.0455409288406372\n",
      "Training Loss at Time Step 11 of Epoch 27 is 0.8164972066879272\n",
      "Training Loss at Time Step 12 of Epoch 27 is 0.33665746450424194\n",
      "Training Loss at Time Step 13 of Epoch 27 is 0.25941142439842224\n",
      "Training Loss at Time Step 14 of Epoch 27 is 0.5615125894546509\n",
      "Training Loss at Time Step 15 of Epoch 27 is 0.23452313244342804\n",
      "Training Loss at Time Step 16 of Epoch 27 is 0.28939253091812134\n",
      "Training Loss at Time Step 17 of Epoch 27 is 1.0024505853652954\n",
      "Training Loss at Time Step 18 of Epoch 27 is 0.7138100862503052\n",
      "Training Loss at Time Step 19 of Epoch 27 is 0.6501494646072388\n",
      "Training Loss at Time Step 20 of Epoch 27 is 0.43205928802490234\n",
      "Training Loss at Time Step 21 of Epoch 27 is 0.825713574886322\n",
      "Training Loss at Time Step 22 of Epoch 27 is 0.5354695916175842\n",
      "Training Loss at Time Step 23 of Epoch 27 is 0.4109957814216614\n",
      "Training Loss at Time Step 24 of Epoch 27 is 0.6954521536827087\n",
      "Training Loss at Time Step 25 of Epoch 27 is 0.410087525844574\n",
      "Training Loss at Time Step 26 of Epoch 27 is 0.8066205382347107\n"
     ]
    },
    {
     "name": "stdout",
     "output_type": "stream",
     "text": [
      "Training Loss at Time Step 27 of Epoch 27 is 0.949710488319397\n",
      "\n",
      "Training Accuracy after Epoch 27 is 0.7103173732757568\n",
      "Cross Validation Accuracy after Epoch 27 is 0.5\n",
      "\n",
      "Training Loss at Time Step 1 of Epoch 28 is 0.16219016909599304\n",
      "Training Loss at Time Step 2 of Epoch 28 is 0.3051901161670685\n",
      "Training Loss at Time Step 3 of Epoch 28 is 0.6560107469558716\n",
      "Training Loss at Time Step 4 of Epoch 28 is 0.5766350626945496\n",
      "Training Loss at Time Step 5 of Epoch 28 is 0.8449977040290833\n",
      "Training Loss at Time Step 6 of Epoch 28 is 0.44280025362968445\n",
      "Training Loss at Time Step 7 of Epoch 28 is 0.34637969732284546\n",
      "Training Loss at Time Step 8 of Epoch 28 is 0.6919729113578796\n",
      "Training Loss at Time Step 9 of Epoch 28 is 0.5619713664054871\n",
      "Training Loss at Time Step 10 of Epoch 28 is 0.7537811994552612\n",
      "Training Loss at Time Step 11 of Epoch 28 is 0.3052135109901428\n",
      "Training Loss at Time Step 12 of Epoch 28 is 0.5086673498153687\n",
      "Training Loss at Time Step 13 of Epoch 28 is 0.20519036054611206\n",
      "Training Loss at Time Step 14 of Epoch 28 is 0.5339933037757874\n",
      "Training Loss at Time Step 15 of Epoch 28 is 0.9264373183250427\n",
      "Training Loss at Time Step 16 of Epoch 28 is 0.6357613205909729\n",
      "Training Loss at Time Step 17 of Epoch 28 is 0.20175997912883759\n",
      "Training Loss at Time Step 18 of Epoch 28 is 0.2883276343345642\n",
      "Training Loss at Time Step 19 of Epoch 28 is 0.18637323379516602\n",
      "Training Loss at Time Step 20 of Epoch 28 is 1.1136435270309448\n",
      "Training Loss at Time Step 21 of Epoch 28 is 0.28850218653678894\n",
      "Training Loss at Time Step 22 of Epoch 28 is 0.17925146222114563\n",
      "Training Loss at Time Step 23 of Epoch 28 is 0.514098048210144\n",
      "Training Loss at Time Step 24 of Epoch 28 is 0.3729209899902344\n",
      "Training Loss at Time Step 25 of Epoch 28 is 0.3281286656856537\n",
      "Training Loss at Time Step 26 of Epoch 28 is 0.4680304229259491\n",
      "Training Loss at Time Step 27 of Epoch 28 is 0.5398625135421753\n",
      "\n",
      "Training Accuracy after Epoch 28 is 0.7936508059501648\n",
      "Cross Validation Accuracy after Epoch 28 is 0.5\n",
      "\n",
      "Training Loss at Time Step 1 of Epoch 29 is 0.5911679267883301\n",
      "Training Loss at Time Step 2 of Epoch 29 is 0.46950531005859375\n",
      "Training Loss at Time Step 3 of Epoch 29 is 0.5790137052536011\n",
      "Training Loss at Time Step 4 of Epoch 29 is 0.9375830888748169\n",
      "Training Loss at Time Step 5 of Epoch 29 is 0.20367786288261414\n",
      "Training Loss at Time Step 6 of Epoch 29 is 0.6545734405517578\n",
      "Training Loss at Time Step 7 of Epoch 29 is 0.16325245797634125\n",
      "Training Loss at Time Step 8 of Epoch 29 is 0.601612389087677\n",
      "Training Loss at Time Step 9 of Epoch 29 is 0.26002880930900574\n",
      "Training Loss at Time Step 10 of Epoch 29 is 0.6679297089576721\n",
      "Training Loss at Time Step 11 of Epoch 29 is 0.8021030426025391\n",
      "Training Loss at Time Step 12 of Epoch 29 is 0.28937074542045593\n",
      "Training Loss at Time Step 13 of Epoch 29 is 0.4751480519771576\n",
      "Training Loss at Time Step 14 of Epoch 29 is 0.668908417224884\n",
      "Training Loss at Time Step 15 of Epoch 29 is 0.2543080449104309\n",
      "Training Loss at Time Step 16 of Epoch 29 is 0.5151616930961609\n",
      "Training Loss at Time Step 17 of Epoch 29 is 0.11462916433811188\n",
      "Training Loss at Time Step 18 of Epoch 29 is 0.5421934723854065\n",
      "Training Loss at Time Step 19 of Epoch 29 is 0.8152745366096497\n",
      "Training Loss at Time Step 20 of Epoch 29 is 1.3193999528884888\n",
      "Training Loss at Time Step 21 of Epoch 29 is 0.27910512685775757\n",
      "Training Loss at Time Step 22 of Epoch 29 is 0.24538949131965637\n",
      "Training Loss at Time Step 23 of Epoch 29 is 0.20999029278755188\n",
      "Training Loss at Time Step 24 of Epoch 29 is 0.5344638824462891\n",
      "Training Loss at Time Step 25 of Epoch 29 is 0.6245459914207458\n",
      "Training Loss at Time Step 26 of Epoch 29 is 0.5756523013114929\n",
      "Training Loss at Time Step 27 of Epoch 29 is 0.47151854634284973\n",
      "\n",
      "Training Accuracy after Epoch 29 is 0.7751322984695435\n",
      "Cross Validation Accuracy after Epoch 29 is 0.5\n",
      "\n",
      "Training Loss at Time Step 1 of Epoch 30 is 0.2165929526090622\n",
      "Training Loss at Time Step 2 of Epoch 30 is 0.8257495164871216\n",
      "Training Loss at Time Step 3 of Epoch 30 is 0.1434294879436493\n",
      "Training Loss at Time Step 4 of Epoch 30 is 0.42634448409080505\n",
      "Training Loss at Time Step 5 of Epoch 30 is 0.20736180245876312\n",
      "Training Loss at Time Step 6 of Epoch 30 is 0.2659591734409332\n",
      "Training Loss at Time Step 7 of Epoch 30 is 0.2909722626209259\n",
      "Training Loss at Time Step 8 of Epoch 30 is 0.6150908470153809\n",
      "Training Loss at Time Step 9 of Epoch 30 is 0.6165285110473633\n",
      "Training Loss at Time Step 10 of Epoch 30 is 0.18762479722499847\n",
      "Training Loss at Time Step 11 of Epoch 30 is 0.5676637291908264\n",
      "Training Loss at Time Step 12 of Epoch 30 is 0.3338603079319\n",
      "Training Loss at Time Step 13 of Epoch 30 is 0.18665511906147003\n",
      "Training Loss at Time Step 14 of Epoch 30 is 0.5067837834358215\n",
      "Training Loss at Time Step 15 of Epoch 30 is 0.5411837697029114\n",
      "Training Loss at Time Step 16 of Epoch 30 is 0.19105230271816254\n",
      "Training Loss at Time Step 17 of Epoch 30 is 0.982162594795227\n",
      "Training Loss at Time Step 18 of Epoch 30 is 0.500167965888977\n",
      "Training Loss at Time Step 19 of Epoch 30 is 0.35437822341918945\n",
      "Training Loss at Time Step 20 of Epoch 30 is 0.6219812035560608\n",
      "Training Loss at Time Step 21 of Epoch 30 is 0.29980406165122986\n",
      "Training Loss at Time Step 22 of Epoch 30 is 0.18147733807563782\n",
      "Training Loss at Time Step 23 of Epoch 30 is 0.19672295451164246\n",
      "Training Loss at Time Step 24 of Epoch 30 is 0.4461674690246582\n",
      "Training Loss at Time Step 25 of Epoch 30 is 0.7710886001586914\n",
      "Training Loss at Time Step 26 of Epoch 30 is 1.1180592775344849\n",
      "Training Loss at Time Step 27 of Epoch 30 is 0.3982504904270172\n",
      "\n",
      "Training Accuracy after Epoch 30 is 0.7857142686843872\n",
      "Cross Validation Accuracy after Epoch 30 is 0.5\n",
      "\n",
      "Training Loss at Time Step 1 of Epoch 31 is 0.5808544158935547\n",
      "Training Loss at Time Step 2 of Epoch 31 is 0.7111290693283081\n",
      "Training Loss at Time Step 3 of Epoch 31 is 0.23329177498817444\n",
      "Training Loss at Time Step 4 of Epoch 31 is 0.58383709192276\n",
      "Training Loss at Time Step 5 of Epoch 31 is 0.23609964549541473\n",
      "Training Loss at Time Step 6 of Epoch 31 is 0.22938279807567596\n",
      "Training Loss at Time Step 7 of Epoch 31 is 0.2251814752817154\n",
      "Training Loss at Time Step 8 of Epoch 31 is 0.8399956822395325\n",
      "Training Loss at Time Step 9 of Epoch 31 is 0.7018047571182251\n",
      "Training Loss at Time Step 10 of Epoch 31 is 0.21492043137550354\n",
      "Training Loss at Time Step 11 of Epoch 31 is 0.7537826895713806\n",
      "Training Loss at Time Step 12 of Epoch 31 is 0.17167918384075165\n",
      "Training Loss at Time Step 13 of Epoch 31 is 0.6810561418533325\n",
      "Training Loss at Time Step 14 of Epoch 31 is 0.22380588948726654\n",
      "Training Loss at Time Step 15 of Epoch 31 is 0.5402626395225525\n",
      "Training Loss at Time Step 16 of Epoch 31 is 1.281839370727539\n",
      "Training Loss at Time Step 17 of Epoch 31 is 0.5982550382614136\n",
      "Training Loss at Time Step 18 of Epoch 31 is 0.2708490192890167\n",
      "Training Loss at Time Step 19 of Epoch 31 is 0.24664786458015442\n",
      "Training Loss at Time Step 20 of Epoch 31 is 0.20629610121250153\n",
      "Training Loss at Time Step 21 of Epoch 31 is 0.5875514149665833\n",
      "Training Loss at Time Step 22 of Epoch 31 is 0.6951209306716919\n",
      "Training Loss at Time Step 23 of Epoch 31 is 0.6063864827156067\n",
      "Training Loss at Time Step 24 of Epoch 31 is 0.29623040556907654\n",
      "Training Loss at Time Step 25 of Epoch 31 is 0.4160812199115753\n",
      "Training Loss at Time Step 26 of Epoch 31 is 0.26280221343040466\n",
      "Training Loss at Time Step 27 of Epoch 31 is 0.29572466015815735\n",
      "\n",
      "Training Accuracy after Epoch 31 is 0.781745970249176\n",
      "Cross Validation Accuracy after Epoch 31 is 0.5\n",
      "\n",
      "Training Loss at Time Step 1 of Epoch 32 is 0.2328694760799408\n",
      "Training Loss at Time Step 2 of Epoch 32 is 0.28965505957603455\n",
      "Training Loss at Time Step 3 of Epoch 32 is 0.7505764365196228\n",
      "Training Loss at Time Step 4 of Epoch 32 is 0.724654495716095\n",
      "Training Loss at Time Step 5 of Epoch 32 is 0.5152360200881958\n",
      "Training Loss at Time Step 6 of Epoch 32 is 0.4183116555213928\n",
      "Training Loss at Time Step 7 of Epoch 32 is 0.3615831732749939\n",
      "Training Loss at Time Step 8 of Epoch 32 is 0.23915015161037445\n",
      "Training Loss at Time Step 9 of Epoch 32 is 0.26388731598854065\n",
      "Training Loss at Time Step 10 of Epoch 32 is 0.8236179351806641\n",
      "Training Loss at Time Step 11 of Epoch 32 is 0.18865740299224854\n",
      "Training Loss at Time Step 12 of Epoch 32 is 0.23520207405090332\n"
     ]
    },
    {
     "name": "stdout",
     "output_type": "stream",
     "text": [
      "Training Loss at Time Step 13 of Epoch 32 is 0.3762471675872803\n",
      "Training Loss at Time Step 14 of Epoch 32 is 0.276114284992218\n",
      "Training Loss at Time Step 15 of Epoch 32 is 0.18076910078525543\n",
      "Training Loss at Time Step 16 of Epoch 32 is 0.7182140350341797\n",
      "Training Loss at Time Step 17 of Epoch 32 is 0.17007459700107574\n",
      "Training Loss at Time Step 18 of Epoch 32 is 0.579253077507019\n",
      "Training Loss at Time Step 19 of Epoch 32 is 0.37351760268211365\n",
      "Training Loss at Time Step 20 of Epoch 32 is 0.9843534231185913\n",
      "Training Loss at Time Step 21 of Epoch 32 is 0.19181905686855316\n",
      "Training Loss at Time Step 22 of Epoch 32 is 0.25288257002830505\n",
      "Training Loss at Time Step 23 of Epoch 32 is 0.30038705468177795\n",
      "Training Loss at Time Step 24 of Epoch 32 is 0.6255115866661072\n",
      "Training Loss at Time Step 25 of Epoch 32 is 0.30783531069755554\n",
      "Training Loss at Time Step 26 of Epoch 32 is 0.22377805411815643\n",
      "Training Loss at Time Step 27 of Epoch 32 is 0.2678348124027252\n",
      "\n",
      "Training Accuracy after Epoch 32 is 0.8306877613067627\n",
      "Cross Validation Accuracy after Epoch 32 is 0.5\n",
      "\n",
      "Training Loss at Time Step 1 of Epoch 33 is 0.15270675718784332\n",
      "Training Loss at Time Step 2 of Epoch 33 is 0.4415331482887268\n",
      "Training Loss at Time Step 3 of Epoch 33 is 0.5590157508850098\n",
      "Training Loss at Time Step 4 of Epoch 33 is 0.37534889578819275\n",
      "Training Loss at Time Step 5 of Epoch 33 is 0.30543383955955505\n",
      "Training Loss at Time Step 6 of Epoch 33 is 0.34746065735816956\n",
      "Training Loss at Time Step 7 of Epoch 33 is 0.554511547088623\n",
      "Training Loss at Time Step 8 of Epoch 33 is 0.1782940775156021\n",
      "Training Loss at Time Step 9 of Epoch 33 is 0.3067667782306671\n",
      "Training Loss at Time Step 10 of Epoch 33 is 0.6074232459068298\n",
      "Training Loss at Time Step 11 of Epoch 33 is 0.2451503425836563\n",
      "Training Loss at Time Step 12 of Epoch 33 is 0.35093146562576294\n",
      "Training Loss at Time Step 13 of Epoch 33 is 0.40103960037231445\n",
      "Training Loss at Time Step 14 of Epoch 33 is 0.1493922621011734\n",
      "Training Loss at Time Step 15 of Epoch 33 is 0.6781640648841858\n",
      "Training Loss at Time Step 16 of Epoch 33 is 0.4648515284061432\n",
      "Training Loss at Time Step 17 of Epoch 33 is 0.2904883921146393\n",
      "Training Loss at Time Step 18 of Epoch 33 is 0.4360290467739105\n",
      "Training Loss at Time Step 19 of Epoch 33 is 0.22552838921546936\n",
      "Training Loss at Time Step 20 of Epoch 33 is 0.41045674681663513\n",
      "Training Loss at Time Step 21 of Epoch 33 is 0.5933156609535217\n",
      "Training Loss at Time Step 22 of Epoch 33 is 0.53606116771698\n",
      "Training Loss at Time Step 23 of Epoch 33 is 0.23945556581020355\n",
      "Training Loss at Time Step 24 of Epoch 33 is 0.29143026471138\n",
      "Training Loss at Time Step 25 of Epoch 33 is 0.32055750489234924\n",
      "Training Loss at Time Step 26 of Epoch 33 is 0.8801784515380859\n",
      "Training Loss at Time Step 27 of Epoch 33 is 0.35275745391845703\n",
      "\n",
      "Training Accuracy after Epoch 33 is 0.7791005373001099\n",
      "Cross Validation Accuracy after Epoch 33 is 0.5\n",
      "\n",
      "Training Loss at Time Step 1 of Epoch 34 is 0.35299137234687805\n",
      "Training Loss at Time Step 2 of Epoch 34 is 0.6914340257644653\n",
      "Training Loss at Time Step 3 of Epoch 34 is 0.2138201892375946\n",
      "Training Loss at Time Step 4 of Epoch 34 is 0.4964388906955719\n",
      "Training Loss at Time Step 5 of Epoch 34 is 0.2012544423341751\n",
      "Training Loss at Time Step 6 of Epoch 34 is 0.3395620286464691\n",
      "Training Loss at Time Step 7 of Epoch 34 is 0.7785438299179077\n",
      "Training Loss at Time Step 8 of Epoch 34 is 0.1496501863002777\n",
      "Training Loss at Time Step 9 of Epoch 34 is 0.4600042998790741\n",
      "Training Loss at Time Step 10 of Epoch 34 is 0.2531771957874298\n",
      "Training Loss at Time Step 11 of Epoch 34 is 1.161682367324829\n",
      "Training Loss at Time Step 12 of Epoch 34 is 0.1683371514081955\n",
      "Training Loss at Time Step 13 of Epoch 34 is 0.4742034077644348\n",
      "Training Loss at Time Step 14 of Epoch 34 is 0.26574546098709106\n",
      "Training Loss at Time Step 15 of Epoch 34 is 0.37398460507392883\n",
      "Training Loss at Time Step 16 of Epoch 34 is 0.7594727277755737\n",
      "Training Loss at Time Step 17 of Epoch 34 is 0.22989143431186676\n",
      "Training Loss at Time Step 18 of Epoch 34 is 0.48343175649642944\n",
      "Training Loss at Time Step 19 of Epoch 34 is 0.3514459729194641\n",
      "Training Loss at Time Step 20 of Epoch 34 is 0.1583697348833084\n",
      "Training Loss at Time Step 21 of Epoch 34 is 0.6931506991386414\n",
      "Training Loss at Time Step 22 of Epoch 34 is 0.2724170386791229\n",
      "Training Loss at Time Step 23 of Epoch 34 is 0.3496527671813965\n",
      "Training Loss at Time Step 24 of Epoch 34 is 0.4153727889060974\n",
      "Training Loss at Time Step 25 of Epoch 34 is 0.6492502093315125\n",
      "Training Loss at Time Step 26 of Epoch 34 is 0.33520862460136414\n",
      "Training Loss at Time Step 27 of Epoch 34 is 0.7899965047836304\n",
      "\n",
      "Training Accuracy after Epoch 34 is 0.7949734330177307\n",
      "Cross Validation Accuracy after Epoch 34 is 0.5\n",
      "\n",
      "Training Loss at Time Step 1 of Epoch 35 is 0.5798773765563965\n",
      "Training Loss at Time Step 2 of Epoch 35 is 0.2355860322713852\n",
      "Training Loss at Time Step 3 of Epoch 35 is 0.5244569182395935\n",
      "Training Loss at Time Step 4 of Epoch 35 is 0.27176567912101746\n",
      "Training Loss at Time Step 5 of Epoch 35 is 0.40441423654556274\n",
      "Training Loss at Time Step 6 of Epoch 35 is 0.5070636868476868\n",
      "Training Loss at Time Step 7 of Epoch 35 is 0.13835908472537994\n",
      "Training Loss at Time Step 8 of Epoch 35 is 0.3482010066509247\n",
      "Training Loss at Time Step 9 of Epoch 35 is 0.23041832447052002\n",
      "Training Loss at Time Step 10 of Epoch 35 is 0.6867669820785522\n",
      "Training Loss at Time Step 11 of Epoch 35 is 0.6047099232673645\n",
      "Training Loss at Time Step 12 of Epoch 35 is 0.35937801003456116\n",
      "Training Loss at Time Step 13 of Epoch 35 is 0.19935965538024902\n",
      "Training Loss at Time Step 14 of Epoch 35 is 0.17662839591503143\n",
      "Training Loss at Time Step 15 of Epoch 35 is 0.532800555229187\n",
      "Training Loss at Time Step 16 of Epoch 35 is 0.49783024191856384\n",
      "Training Loss at Time Step 17 of Epoch 35 is 0.6035133600234985\n",
      "Training Loss at Time Step 18 of Epoch 35 is 0.5104455947875977\n",
      "Training Loss at Time Step 19 of Epoch 35 is 0.22825050354003906\n",
      "Training Loss at Time Step 20 of Epoch 35 is 0.3987990617752075\n",
      "Training Loss at Time Step 21 of Epoch 35 is 0.2651808261871338\n",
      "Training Loss at Time Step 22 of Epoch 35 is 0.3590337634086609\n",
      "Training Loss at Time Step 23 of Epoch 35 is 0.8399235606193542\n",
      "Training Loss at Time Step 24 of Epoch 35 is 0.6472261548042297\n",
      "Training Loss at Time Step 25 of Epoch 35 is 0.7407795190811157\n",
      "Training Loss at Time Step 26 of Epoch 35 is 0.6050000190734863\n",
      "Training Loss at Time Step 27 of Epoch 35 is 0.4939482510089874\n",
      "\n",
      "Training Accuracy after Epoch 35 is 0.7936506867408752\n",
      "Cross Validation Accuracy after Epoch 35 is 0.5\n",
      "\n",
      "Training Loss at Time Step 1 of Epoch 36 is 0.2945065498352051\n",
      "Training Loss at Time Step 2 of Epoch 36 is 0.3303261697292328\n",
      "Training Loss at Time Step 3 of Epoch 36 is 0.14412538707256317\n",
      "Training Loss at Time Step 4 of Epoch 36 is 0.3084739148616791\n",
      "Training Loss at Time Step 5 of Epoch 36 is 0.45670682191848755\n",
      "Training Loss at Time Step 6 of Epoch 36 is 0.23892103135585785\n",
      "Training Loss at Time Step 7 of Epoch 36 is 0.33772680163383484\n",
      "Training Loss at Time Step 8 of Epoch 36 is 0.5081087946891785\n",
      "Training Loss at Time Step 9 of Epoch 36 is 0.5198761820793152\n",
      "Training Loss at Time Step 10 of Epoch 36 is 0.2501826584339142\n",
      "Training Loss at Time Step 11 of Epoch 36 is 0.26970431208610535\n",
      "Training Loss at Time Step 12 of Epoch 36 is 0.4447658360004425\n",
      "Training Loss at Time Step 13 of Epoch 36 is 0.2783810496330261\n",
      "Training Loss at Time Step 14 of Epoch 36 is 0.5638938546180725\n",
      "Training Loss at Time Step 15 of Epoch 36 is 0.3907527029514313\n",
      "Training Loss at Time Step 16 of Epoch 36 is 0.6223624348640442\n",
      "Training Loss at Time Step 17 of Epoch 36 is 0.33287864923477173\n",
      "Training Loss at Time Step 18 of Epoch 36 is 0.26166003942489624\n",
      "Training Loss at Time Step 19 of Epoch 36 is 0.969796359539032\n",
      "Training Loss at Time Step 20 of Epoch 36 is 0.2228415310382843\n",
      "Training Loss at Time Step 21 of Epoch 36 is 0.10397371649742126\n",
      "Training Loss at Time Step 22 of Epoch 36 is 0.34765249490737915\n",
      "Training Loss at Time Step 23 of Epoch 36 is 0.3403632342815399\n",
      "Training Loss at Time Step 24 of Epoch 36 is 0.47144395112991333\n",
      "Training Loss at Time Step 25 of Epoch 36 is 0.44697505235671997\n",
      "Training Loss at Time Step 26 of Epoch 36 is 0.30063551664352417\n"
     ]
    },
    {
     "name": "stdout",
     "output_type": "stream",
     "text": [
      "Training Loss at Time Step 27 of Epoch 36 is 0.23310604691505432\n",
      "\n",
      "Training Accuracy after Epoch 36 is 0.8571428656578064\n",
      "Cross Validation Accuracy after Epoch 36 is 0.5\n",
      "\n",
      "Training Loss at Time Step 1 of Epoch 37 is 0.4014013409614563\n",
      "Training Loss at Time Step 2 of Epoch 37 is 0.5048494935035706\n",
      "Training Loss at Time Step 3 of Epoch 37 is 0.18046525120735168\n",
      "Training Loss at Time Step 4 of Epoch 37 is 0.21466337144374847\n",
      "Training Loss at Time Step 5 of Epoch 37 is 0.33495277166366577\n",
      "Training Loss at Time Step 6 of Epoch 37 is 0.37362954020500183\n",
      "Training Loss at Time Step 7 of Epoch 37 is 1.1421171426773071\n",
      "Training Loss at Time Step 8 of Epoch 37 is 0.840691864490509\n",
      "Training Loss at Time Step 9 of Epoch 37 is 0.4710649847984314\n",
      "Training Loss at Time Step 10 of Epoch 37 is 0.42357295751571655\n",
      "Training Loss at Time Step 11 of Epoch 37 is 0.22309036552906036\n",
      "Training Loss at Time Step 12 of Epoch 37 is 0.6441563367843628\n",
      "Training Loss at Time Step 13 of Epoch 37 is 0.33182018995285034\n",
      "Training Loss at Time Step 14 of Epoch 37 is 0.4472162127494812\n",
      "Training Loss at Time Step 15 of Epoch 37 is 0.33613094687461853\n",
      "Training Loss at Time Step 16 of Epoch 37 is 0.31904336810112\n",
      "Training Loss at Time Step 17 of Epoch 37 is 0.45521312952041626\n",
      "Training Loss at Time Step 18 of Epoch 37 is 0.2706379294395447\n",
      "Training Loss at Time Step 19 of Epoch 37 is 0.6293612122535706\n",
      "Training Loss at Time Step 20 of Epoch 37 is 0.3530608117580414\n",
      "Training Loss at Time Step 21 of Epoch 37 is 0.5406944155693054\n",
      "Training Loss at Time Step 22 of Epoch 37 is 0.14877349138259888\n",
      "Training Loss at Time Step 23 of Epoch 37 is 0.263942688703537\n",
      "Training Loss at Time Step 24 of Epoch 37 is 0.24893996119499207\n",
      "Training Loss at Time Step 25 of Epoch 37 is 0.2677575945854187\n",
      "Training Loss at Time Step 26 of Epoch 37 is 0.4607544243335724\n",
      "Training Loss at Time Step 27 of Epoch 37 is 0.6086600422859192\n",
      "\n",
      "Training Accuracy after Epoch 37 is 0.8148147463798523\n",
      "Cross Validation Accuracy after Epoch 37 is 0.5\n",
      "\n",
      "Training Loss at Time Step 1 of Epoch 38 is 0.5646260976791382\n",
      "Training Loss at Time Step 2 of Epoch 38 is 0.29249808192253113\n",
      "Training Loss at Time Step 3 of Epoch 38 is 0.2749689221382141\n",
      "Training Loss at Time Step 4 of Epoch 38 is 0.30145707726478577\n",
      "Training Loss at Time Step 5 of Epoch 38 is 0.35186031460762024\n",
      "Training Loss at Time Step 6 of Epoch 38 is 0.4091959297657013\n",
      "Training Loss at Time Step 7 of Epoch 38 is 0.5408133268356323\n",
      "Training Loss at Time Step 8 of Epoch 38 is 0.2797871232032776\n",
      "Training Loss at Time Step 9 of Epoch 38 is 0.38274097442626953\n",
      "Training Loss at Time Step 10 of Epoch 38 is 0.18660299479961395\n",
      "Training Loss at Time Step 11 of Epoch 38 is 0.2693338692188263\n",
      "Training Loss at Time Step 12 of Epoch 38 is 0.19886814057826996\n",
      "Training Loss at Time Step 13 of Epoch 38 is 0.2992708683013916\n",
      "Training Loss at Time Step 14 of Epoch 38 is 0.06892070174217224\n",
      "Training Loss at Time Step 15 of Epoch 38 is 0.3576604723930359\n",
      "Training Loss at Time Step 16 of Epoch 38 is 0.3182566463947296\n",
      "Training Loss at Time Step 17 of Epoch 38 is 0.5098943710327148\n",
      "Training Loss at Time Step 18 of Epoch 38 is 0.5796260237693787\n",
      "Training Loss at Time Step 19 of Epoch 38 is 0.4274093508720398\n",
      "Training Loss at Time Step 20 of Epoch 38 is 0.18929743766784668\n",
      "Training Loss at Time Step 21 of Epoch 38 is 0.43101707100868225\n",
      "Training Loss at Time Step 22 of Epoch 38 is 0.5801531672477722\n",
      "Training Loss at Time Step 23 of Epoch 38 is 0.2626400589942932\n",
      "Training Loss at Time Step 24 of Epoch 38 is 0.4459857642650604\n",
      "Training Loss at Time Step 25 of Epoch 38 is 0.39162737131118774\n",
      "Training Loss at Time Step 26 of Epoch 38 is 0.18055593967437744\n",
      "Training Loss at Time Step 27 of Epoch 38 is 0.4332020580768585\n",
      "\n",
      "Training Accuracy after Epoch 38 is 0.8214285969734192\n",
      "Cross Validation Accuracy after Epoch 38 is 0.5\n",
      "\n",
      "Training Loss at Time Step 1 of Epoch 39 is 0.465108186006546\n",
      "Training Loss at Time Step 2 of Epoch 39 is 0.7918676137924194\n",
      "Training Loss at Time Step 3 of Epoch 39 is 0.1950208693742752\n",
      "Training Loss at Time Step 4 of Epoch 39 is 0.37837520241737366\n",
      "Training Loss at Time Step 5 of Epoch 39 is 0.241390660405159\n",
      "Training Loss at Time Step 6 of Epoch 39 is 0.5013796091079712\n",
      "Training Loss at Time Step 7 of Epoch 39 is 0.31079190969467163\n",
      "Training Loss at Time Step 8 of Epoch 39 is 0.1749650090932846\n",
      "Training Loss at Time Step 9 of Epoch 39 is 0.6140750050544739\n",
      "Training Loss at Time Step 10 of Epoch 39 is 0.12494261562824249\n",
      "Training Loss at Time Step 11 of Epoch 39 is 0.24614094197750092\n",
      "Training Loss at Time Step 12 of Epoch 39 is 0.4582512080669403\n",
      "Training Loss at Time Step 13 of Epoch 39 is 0.3053804934024811\n",
      "Training Loss at Time Step 14 of Epoch 39 is 0.25635403394699097\n",
      "Training Loss at Time Step 15 of Epoch 39 is 0.3544146418571472\n",
      "Training Loss at Time Step 16 of Epoch 39 is 0.8939623236656189\n",
      "Training Loss at Time Step 17 of Epoch 39 is 0.42083948850631714\n",
      "Training Loss at Time Step 18 of Epoch 39 is 0.40845659375190735\n",
      "Training Loss at Time Step 19 of Epoch 39 is 0.45607247948646545\n",
      "Training Loss at Time Step 20 of Epoch 39 is 0.4505252242088318\n",
      "Training Loss at Time Step 21 of Epoch 39 is 0.2232990562915802\n",
      "Training Loss at Time Step 22 of Epoch 39 is 0.2949773669242859\n",
      "Training Loss at Time Step 23 of Epoch 39 is 0.37765511870384216\n",
      "Training Loss at Time Step 24 of Epoch 39 is 0.6947619915008545\n",
      "Training Loss at Time Step 25 of Epoch 39 is 0.42549318075180054\n",
      "Training Loss at Time Step 26 of Epoch 39 is 0.23986995220184326\n",
      "Training Loss at Time Step 27 of Epoch 39 is 0.15746645629405975\n",
      "\n",
      "Training Accuracy after Epoch 39 is 0.8267196416854858\n",
      "Cross Validation Accuracy after Epoch 39 is 0.5\n",
      "\n",
      "Training Loss at Time Step 1 of Epoch 40 is 0.4127598702907562\n",
      "Training Loss at Time Step 2 of Epoch 40 is 0.5754624009132385\n",
      "Training Loss at Time Step 3 of Epoch 40 is 0.24771270155906677\n",
      "Training Loss at Time Step 4 of Epoch 40 is 0.24858160316944122\n",
      "Training Loss at Time Step 5 of Epoch 40 is 0.387681782245636\n",
      "Training Loss at Time Step 6 of Epoch 40 is 0.10137171298265457\n",
      "Training Loss at Time Step 7 of Epoch 40 is 0.25660601258277893\n",
      "Training Loss at Time Step 8 of Epoch 40 is 0.23134411871433258\n",
      "Training Loss at Time Step 9 of Epoch 40 is 0.4769463539123535\n",
      "Training Loss at Time Step 10 of Epoch 40 is 0.34294393658638\n",
      "Training Loss at Time Step 11 of Epoch 40 is 0.2849476933479309\n",
      "Training Loss at Time Step 12 of Epoch 40 is 0.8112255930900574\n",
      "Training Loss at Time Step 13 of Epoch 40 is 0.3366343080997467\n",
      "Training Loss at Time Step 14 of Epoch 40 is 0.27516189217567444\n",
      "Training Loss at Time Step 15 of Epoch 40 is 0.3716995418071747\n",
      "Training Loss at Time Step 16 of Epoch 40 is 0.8065293431282043\n",
      "Training Loss at Time Step 17 of Epoch 40 is 0.7782803177833557\n",
      "Training Loss at Time Step 18 of Epoch 40 is 0.29445165395736694\n",
      "Training Loss at Time Step 19 of Epoch 40 is 0.1670355498790741\n",
      "Training Loss at Time Step 20 of Epoch 40 is 0.5147067308425903\n",
      "Training Loss at Time Step 21 of Epoch 40 is 0.4486788809299469\n",
      "Training Loss at Time Step 22 of Epoch 40 is 0.3511844277381897\n",
      "Training Loss at Time Step 23 of Epoch 40 is 0.10074717551469803\n",
      "Training Loss at Time Step 24 of Epoch 40 is 0.5549070239067078\n",
      "Training Loss at Time Step 25 of Epoch 40 is 0.10998087376356125\n",
      "Training Loss at Time Step 26 of Epoch 40 is 0.13283351063728333\n",
      "Training Loss at Time Step 27 of Epoch 40 is 0.5413244366645813\n",
      "\n",
      "Training Accuracy after Epoch 40 is 0.8412697315216064\n",
      "Cross Validation Accuracy after Epoch 40 is 0.5016666650772095\n",
      "\n",
      "Training Loss at Time Step 1 of Epoch 41 is 0.5269501209259033\n",
      "Training Loss at Time Step 2 of Epoch 41 is 0.24145448207855225\n",
      "Training Loss at Time Step 3 of Epoch 41 is 0.15839390456676483\n",
      "Training Loss at Time Step 4 of Epoch 41 is 0.6475828289985657\n",
      "Training Loss at Time Step 5 of Epoch 41 is 0.34074217081069946\n",
      "Training Loss at Time Step 6 of Epoch 41 is 0.19195392727851868\n",
      "Training Loss at Time Step 7 of Epoch 41 is 0.19823670387268066\n",
      "Training Loss at Time Step 8 of Epoch 41 is 0.37055039405822754\n",
      "Training Loss at Time Step 9 of Epoch 41 is 0.4711620509624481\n",
      "Training Loss at Time Step 10 of Epoch 41 is 0.24922560155391693\n",
      "Training Loss at Time Step 11 of Epoch 41 is 0.18429027497768402\n"
     ]
    },
    {
     "name": "stdout",
     "output_type": "stream",
     "text": [
      "Training Loss at Time Step 12 of Epoch 41 is 0.336354523897171\n",
      "Training Loss at Time Step 13 of Epoch 41 is 0.36104005575180054\n",
      "Training Loss at Time Step 14 of Epoch 41 is 0.07450339943170547\n",
      "Training Loss at Time Step 15 of Epoch 41 is 0.5439284443855286\n",
      "Training Loss at Time Step 16 of Epoch 41 is 0.41065528988838196\n",
      "Training Loss at Time Step 17 of Epoch 41 is 0.49576881527900696\n",
      "Training Loss at Time Step 18 of Epoch 41 is 0.3243263065814972\n",
      "Training Loss at Time Step 19 of Epoch 41 is 0.5031582117080688\n",
      "Training Loss at Time Step 20 of Epoch 41 is 0.48461833596229553\n",
      "Training Loss at Time Step 21 of Epoch 41 is 0.525185763835907\n",
      "Training Loss at Time Step 22 of Epoch 41 is 0.558903157711029\n",
      "Training Loss at Time Step 23 of Epoch 41 is 0.37422245740890503\n",
      "Training Loss at Time Step 24 of Epoch 41 is 0.36014324426651\n",
      "Training Loss at Time Step 25 of Epoch 41 is 0.3617001175880432\n",
      "Training Loss at Time Step 26 of Epoch 41 is 0.3481053113937378\n",
      "Training Loss at Time Step 27 of Epoch 41 is 0.27538591623306274\n",
      "\n",
      "Training Accuracy after Epoch 41 is 0.8267195224761963\n",
      "Cross Validation Accuracy after Epoch 41 is 0.5016666650772095\n",
      "\n",
      "Training Loss at Time Step 1 of Epoch 42 is 0.53656005859375\n",
      "Training Loss at Time Step 2 of Epoch 42 is 0.5864477157592773\n",
      "Training Loss at Time Step 3 of Epoch 42 is 0.4216832220554352\n",
      "Training Loss at Time Step 4 of Epoch 42 is 0.6115008592605591\n",
      "Training Loss at Time Step 5 of Epoch 42 is 0.9420021772384644\n",
      "Training Loss at Time Step 6 of Epoch 42 is 0.2249329537153244\n",
      "Training Loss at Time Step 7 of Epoch 42 is 0.29957082867622375\n",
      "Training Loss at Time Step 8 of Epoch 42 is 0.5208784341812134\n",
      "Training Loss at Time Step 9 of Epoch 42 is 0.37548643350601196\n",
      "Training Loss at Time Step 10 of Epoch 42 is 0.4703417122364044\n",
      "Training Loss at Time Step 11 of Epoch 42 is 0.14006635546684265\n",
      "Training Loss at Time Step 12 of Epoch 42 is 0.6751306653022766\n",
      "Training Loss at Time Step 13 of Epoch 42 is 0.22836385667324066\n",
      "Training Loss at Time Step 14 of Epoch 42 is 0.213741272687912\n",
      "Training Loss at Time Step 15 of Epoch 42 is 0.6364554166793823\n",
      "Training Loss at Time Step 16 of Epoch 42 is 0.20740638673305511\n",
      "Training Loss at Time Step 17 of Epoch 42 is 0.2683037221431732\n",
      "Training Loss at Time Step 18 of Epoch 42 is 0.6056314706802368\n",
      "Training Loss at Time Step 19 of Epoch 42 is 0.18792681396007538\n",
      "Training Loss at Time Step 20 of Epoch 42 is 0.32329675555229187\n",
      "Training Loss at Time Step 21 of Epoch 42 is 0.2979626953601837\n",
      "Training Loss at Time Step 22 of Epoch 42 is 0.44385963678359985\n",
      "Training Loss at Time Step 23 of Epoch 42 is 0.34596315026283264\n",
      "Training Loss at Time Step 24 of Epoch 42 is 0.3192698657512665\n",
      "Training Loss at Time Step 25 of Epoch 42 is 0.4256323277950287\n",
      "Training Loss at Time Step 26 of Epoch 42 is 0.34506866335868835\n",
      "Training Loss at Time Step 27 of Epoch 42 is 0.6638001203536987\n",
      "\n",
      "Training Accuracy after Epoch 42 is 0.8108466267585754\n",
      "Cross Validation Accuracy after Epoch 42 is 0.5016666650772095\n",
      "\n",
      "Training Loss at Time Step 1 of Epoch 43 is 0.6201095581054688\n",
      "Training Loss at Time Step 2 of Epoch 43 is 0.25569796562194824\n",
      "Training Loss at Time Step 3 of Epoch 43 is 0.5503427982330322\n",
      "Training Loss at Time Step 4 of Epoch 43 is 0.33878156542778015\n",
      "Training Loss at Time Step 5 of Epoch 43 is 0.4773622155189514\n",
      "Training Loss at Time Step 6 of Epoch 43 is 0.6197773814201355\n",
      "Training Loss at Time Step 7 of Epoch 43 is 0.09727893769741058\n",
      "Training Loss at Time Step 8 of Epoch 43 is 0.3947075307369232\n",
      "Training Loss at Time Step 9 of Epoch 43 is 0.1249827966094017\n",
      "Training Loss at Time Step 10 of Epoch 43 is 0.472612202167511\n",
      "Training Loss at Time Step 11 of Epoch 43 is 0.24323968589305878\n",
      "Training Loss at Time Step 12 of Epoch 43 is 0.1639392375946045\n",
      "Training Loss at Time Step 13 of Epoch 43 is 0.4242311120033264\n",
      "Training Loss at Time Step 14 of Epoch 43 is 0.5192444920539856\n",
      "Training Loss at Time Step 15 of Epoch 43 is 0.5802846550941467\n",
      "Training Loss at Time Step 16 of Epoch 43 is 0.4568811058998108\n",
      "Training Loss at Time Step 17 of Epoch 43 is 0.2843618094921112\n",
      "Training Loss at Time Step 18 of Epoch 43 is 0.2452727109193802\n",
      "Training Loss at Time Step 19 of Epoch 43 is 0.2805732190608978\n",
      "Training Loss at Time Step 20 of Epoch 43 is 0.09012310951948166\n",
      "Training Loss at Time Step 21 of Epoch 43 is 0.4650074541568756\n",
      "Training Loss at Time Step 22 of Epoch 43 is 0.3125530779361725\n",
      "Training Loss at Time Step 23 of Epoch 43 is 0.3408076763153076\n",
      "Training Loss at Time Step 24 of Epoch 43 is 0.41550055146217346\n",
      "Training Loss at Time Step 25 of Epoch 43 is 0.33067652583122253\n",
      "Training Loss at Time Step 26 of Epoch 43 is 0.4788467288017273\n",
      "Training Loss at Time Step 27 of Epoch 43 is 0.345656156539917\n",
      "\n",
      "Training Accuracy after Epoch 43 is 0.8095237612724304\n",
      "Cross Validation Accuracy after Epoch 43 is 0.5016666650772095\n",
      "\n",
      "Training Loss at Time Step 1 of Epoch 44 is 0.42677849531173706\n",
      "Training Loss at Time Step 2 of Epoch 44 is 0.4721415340900421\n",
      "Training Loss at Time Step 3 of Epoch 44 is 0.3474780023097992\n",
      "Training Loss at Time Step 4 of Epoch 44 is 0.48090964555740356\n",
      "Training Loss at Time Step 5 of Epoch 44 is 0.3893476128578186\n",
      "Training Loss at Time Step 6 of Epoch 44 is 0.2569914162158966\n",
      "Training Loss at Time Step 7 of Epoch 44 is 0.23432859778404236\n",
      "Training Loss at Time Step 8 of Epoch 44 is 0.24444596469402313\n",
      "Training Loss at Time Step 9 of Epoch 44 is 0.18890146911144257\n",
      "Training Loss at Time Step 10 of Epoch 44 is 0.4579404294490814\n",
      "Training Loss at Time Step 11 of Epoch 44 is 0.45495134592056274\n",
      "Training Loss at Time Step 12 of Epoch 44 is 0.4953490197658539\n",
      "Training Loss at Time Step 13 of Epoch 44 is 0.2575952410697937\n",
      "Training Loss at Time Step 14 of Epoch 44 is 0.8482117652893066\n",
      "Training Loss at Time Step 15 of Epoch 44 is 0.2370942085981369\n",
      "Training Loss at Time Step 16 of Epoch 44 is 0.4378511905670166\n",
      "Training Loss at Time Step 17 of Epoch 44 is 0.4802975654602051\n",
      "Training Loss at Time Step 18 of Epoch 44 is 0.9624303579330444\n",
      "Training Loss at Time Step 19 of Epoch 44 is 0.41084030270576477\n",
      "Training Loss at Time Step 20 of Epoch 44 is 0.6247046589851379\n",
      "Training Loss at Time Step 21 of Epoch 44 is 0.4784112274646759\n",
      "Training Loss at Time Step 22 of Epoch 44 is 0.6609084010124207\n",
      "Training Loss at Time Step 23 of Epoch 44 is 0.7684062123298645\n",
      "Training Loss at Time Step 24 of Epoch 44 is 0.36972135305404663\n",
      "Training Loss at Time Step 25 of Epoch 44 is 0.21943262219429016\n",
      "Training Loss at Time Step 26 of Epoch 44 is 0.1416618674993515\n",
      "Training Loss at Time Step 27 of Epoch 44 is 0.4626033306121826\n",
      "\n",
      "Training Accuracy after Epoch 44 is 0.7830687761306763\n",
      "Cross Validation Accuracy after Epoch 44 is 0.5016666650772095\n",
      "\n",
      "Training Loss at Time Step 1 of Epoch 45 is 0.4586780071258545\n",
      "Training Loss at Time Step 2 of Epoch 45 is 0.5593521595001221\n",
      "Training Loss at Time Step 3 of Epoch 45 is 0.27276891469955444\n",
      "Training Loss at Time Step 4 of Epoch 45 is 0.25624361634254456\n",
      "Training Loss at Time Step 5 of Epoch 45 is 0.41773977875709534\n",
      "Training Loss at Time Step 6 of Epoch 45 is 0.6209834218025208\n",
      "Training Loss at Time Step 7 of Epoch 45 is 0.7012315392494202\n",
      "Training Loss at Time Step 8 of Epoch 45 is 0.21898357570171356\n",
      "Training Loss at Time Step 9 of Epoch 45 is 0.22294609248638153\n",
      "Training Loss at Time Step 10 of Epoch 45 is 0.2071366310119629\n",
      "Training Loss at Time Step 11 of Epoch 45 is 0.4659946858882904\n",
      "Training Loss at Time Step 12 of Epoch 45 is 0.42920082807540894\n",
      "Training Loss at Time Step 13 of Epoch 45 is 0.331557959318161\n",
      "Training Loss at Time Step 14 of Epoch 45 is 0.17747020721435547\n",
      "Training Loss at Time Step 15 of Epoch 45 is 0.3527199625968933\n",
      "Training Loss at Time Step 16 of Epoch 45 is 0.20569679141044617\n",
      "Training Loss at Time Step 17 of Epoch 45 is 0.6324306130409241\n",
      "Training Loss at Time Step 18 of Epoch 45 is 0.3646053969860077\n",
      "Training Loss at Time Step 19 of Epoch 45 is 0.14690455794334412\n",
      "Training Loss at Time Step 20 of Epoch 45 is 0.22872021794319153\n",
      "Training Loss at Time Step 21 of Epoch 45 is 0.44675391912460327\n",
      "Training Loss at Time Step 22 of Epoch 45 is 0.39521893858909607\n",
      "Training Loss at Time Step 23 of Epoch 45 is 0.3880918323993683\n",
      "Training Loss at Time Step 24 of Epoch 45 is 0.3908765912055969\n"
     ]
    },
    {
     "name": "stdout",
     "output_type": "stream",
     "text": [
      "Training Loss at Time Step 25 of Epoch 45 is 0.7804645895957947\n",
      "Training Loss at Time Step 26 of Epoch 45 is 0.6210050582885742\n",
      "Training Loss at Time Step 27 of Epoch 45 is 0.46971625089645386\n",
      "\n",
      "Training Accuracy after Epoch 45 is 0.8055554628372192\n",
      "Cross Validation Accuracy after Epoch 45 is 0.5016666650772095\n",
      "\n",
      "Training Loss at Time Step 1 of Epoch 46 is 0.6222610473632812\n",
      "Training Loss at Time Step 2 of Epoch 46 is 0.1851310133934021\n",
      "Training Loss at Time Step 3 of Epoch 46 is 0.6766247153282166\n",
      "Training Loss at Time Step 4 of Epoch 46 is 0.2329292595386505\n",
      "Training Loss at Time Step 5 of Epoch 46 is 0.604070246219635\n",
      "Training Loss at Time Step 6 of Epoch 46 is 0.3768048584461212\n",
      "Training Loss at Time Step 7 of Epoch 46 is 0.15852369368076324\n",
      "Training Loss at Time Step 8 of Epoch 46 is 0.1614610105752945\n",
      "Training Loss at Time Step 9 of Epoch 46 is 0.6650828123092651\n",
      "Training Loss at Time Step 10 of Epoch 46 is 0.40820613503456116\n",
      "Training Loss at Time Step 11 of Epoch 46 is 0.6419767737388611\n",
      "Training Loss at Time Step 12 of Epoch 46 is 0.21418631076812744\n",
      "Training Loss at Time Step 13 of Epoch 46 is 0.34937620162963867\n",
      "Training Loss at Time Step 14 of Epoch 46 is 0.3871535658836365\n",
      "Training Loss at Time Step 15 of Epoch 46 is 0.25059235095977783\n",
      "Training Loss at Time Step 16 of Epoch 46 is 0.5031280517578125\n",
      "Training Loss at Time Step 17 of Epoch 46 is 0.41791263222694397\n",
      "Training Loss at Time Step 18 of Epoch 46 is 0.7832926511764526\n",
      "Training Loss at Time Step 19 of Epoch 46 is 0.41396358609199524\n",
      "Training Loss at Time Step 20 of Epoch 46 is 0.4958617389202118\n",
      "Training Loss at Time Step 21 of Epoch 46 is 0.23836848139762878\n",
      "Training Loss at Time Step 22 of Epoch 46 is 0.3594684600830078\n",
      "Training Loss at Time Step 23 of Epoch 46 is 0.3720493018627167\n",
      "Training Loss at Time Step 24 of Epoch 46 is 0.27111512422561646\n",
      "Training Loss at Time Step 25 of Epoch 46 is 0.4014368951320648\n",
      "Training Loss at Time Step 26 of Epoch 46 is 0.2564888298511505\n",
      "Training Loss at Time Step 27 of Epoch 46 is 0.3252308964729309\n",
      "\n",
      "Training Accuracy after Epoch 46 is 0.820105791091919\n",
      "Cross Validation Accuracy after Epoch 46 is 0.503333330154419\n",
      "\n",
      "Training Loss at Time Step 1 of Epoch 47 is 0.3622554838657379\n",
      "Training Loss at Time Step 2 of Epoch 47 is 0.17897485196590424\n",
      "Training Loss at Time Step 3 of Epoch 47 is 0.2464657723903656\n",
      "Training Loss at Time Step 4 of Epoch 47 is 0.9378450512886047\n",
      "Training Loss at Time Step 5 of Epoch 47 is 0.2396768033504486\n",
      "Training Loss at Time Step 6 of Epoch 47 is 0.24135684967041016\n",
      "Training Loss at Time Step 7 of Epoch 47 is 0.05471343547105789\n",
      "Training Loss at Time Step 8 of Epoch 47 is 0.41311997175216675\n",
      "Training Loss at Time Step 9 of Epoch 47 is 0.268692284822464\n",
      "Training Loss at Time Step 10 of Epoch 47 is 0.11660300940275192\n",
      "Training Loss at Time Step 11 of Epoch 47 is 0.6533170342445374\n",
      "Training Loss at Time Step 12 of Epoch 47 is 0.23764745891094208\n",
      "Training Loss at Time Step 13 of Epoch 47 is 0.3210057318210602\n",
      "Training Loss at Time Step 14 of Epoch 47 is 0.3728332817554474\n",
      "Training Loss at Time Step 15 of Epoch 47 is 0.7042556405067444\n",
      "Training Loss at Time Step 16 of Epoch 47 is 0.42006540298461914\n",
      "Training Loss at Time Step 17 of Epoch 47 is 0.19236639142036438\n",
      "Training Loss at Time Step 18 of Epoch 47 is 0.43684154748916626\n",
      "Training Loss at Time Step 19 of Epoch 47 is 0.165045827627182\n",
      "Training Loss at Time Step 20 of Epoch 47 is 0.13339723646640778\n",
      "Training Loss at Time Step 21 of Epoch 47 is 0.19612208008766174\n",
      "Training Loss at Time Step 22 of Epoch 47 is 0.5416766405105591\n",
      "Training Loss at Time Step 23 of Epoch 47 is 0.4511968493461609\n",
      "Training Loss at Time Step 24 of Epoch 47 is 0.5219289064407349\n",
      "Training Loss at Time Step 25 of Epoch 47 is 0.4564642012119293\n",
      "Training Loss at Time Step 26 of Epoch 47 is 0.3831525444984436\n",
      "Training Loss at Time Step 27 of Epoch 47 is 0.2585926055908203\n",
      "\n",
      "Training Accuracy after Epoch 47 is 0.8320105075836182\n",
      "Cross Validation Accuracy after Epoch 47 is 0.503333330154419\n",
      "\n",
      "Training Loss at Time Step 1 of Epoch 48 is 0.13897113502025604\n",
      "Training Loss at Time Step 2 of Epoch 48 is 0.33655428886413574\n",
      "Training Loss at Time Step 3 of Epoch 48 is 0.210383340716362\n",
      "Training Loss at Time Step 4 of Epoch 48 is 0.4520658254623413\n",
      "Training Loss at Time Step 5 of Epoch 48 is 0.3067094385623932\n",
      "Training Loss at Time Step 6 of Epoch 48 is 0.6824594736099243\n",
      "Training Loss at Time Step 7 of Epoch 48 is 0.339704304933548\n",
      "Training Loss at Time Step 8 of Epoch 48 is 0.5432454347610474\n",
      "Training Loss at Time Step 9 of Epoch 48 is 0.5127242803573608\n",
      "Training Loss at Time Step 10 of Epoch 48 is 0.5195721387863159\n",
      "Training Loss at Time Step 11 of Epoch 48 is 0.12886328995227814\n",
      "Training Loss at Time Step 12 of Epoch 48 is 0.7772518396377563\n",
      "Training Loss at Time Step 13 of Epoch 48 is 0.3708966076374054\n",
      "Training Loss at Time Step 14 of Epoch 48 is 0.5378099679946899\n",
      "Training Loss at Time Step 15 of Epoch 48 is 0.38300466537475586\n",
      "Training Loss at Time Step 16 of Epoch 48 is 0.352311909198761\n",
      "Training Loss at Time Step 17 of Epoch 48 is 0.37496641278266907\n",
      "Training Loss at Time Step 18 of Epoch 48 is 0.2394627183675766\n",
      "Training Loss at Time Step 19 of Epoch 48 is 0.41003793478012085\n",
      "Training Loss at Time Step 20 of Epoch 48 is 0.19438500702381134\n",
      "Training Loss at Time Step 21 of Epoch 48 is 0.40650123357772827\n",
      "Training Loss at Time Step 22 of Epoch 48 is 0.13969039916992188\n",
      "Training Loss at Time Step 23 of Epoch 48 is 0.3202579915523529\n",
      "Training Loss at Time Step 24 of Epoch 48 is 0.8984864354133606\n",
      "Training Loss at Time Step 25 of Epoch 48 is 0.23158970475196838\n",
      "Training Loss at Time Step 26 of Epoch 48 is 0.10166062414646149\n",
      "Training Loss at Time Step 27 of Epoch 48 is 0.13620176911354065\n",
      "\n",
      "Training Accuracy after Epoch 48 is 0.8055554628372192\n",
      "Cross Validation Accuracy after Epoch 48 is 0.5049999952316284\n",
      "\n",
      "Training Loss at Time Step 1 of Epoch 49 is 0.33649542927742004\n",
      "Training Loss at Time Step 2 of Epoch 49 is 0.39814993739128113\n",
      "Training Loss at Time Step 3 of Epoch 49 is 0.7322250008583069\n",
      "Training Loss at Time Step 4 of Epoch 49 is 0.7152194976806641\n",
      "Training Loss at Time Step 5 of Epoch 49 is 0.26878005266189575\n",
      "Training Loss at Time Step 6 of Epoch 49 is 0.587857723236084\n",
      "Training Loss at Time Step 7 of Epoch 49 is 0.2883460819721222\n",
      "Training Loss at Time Step 8 of Epoch 49 is 0.492862731218338\n",
      "Training Loss at Time Step 9 of Epoch 49 is 0.4649145007133484\n",
      "Training Loss at Time Step 10 of Epoch 49 is 0.832973301410675\n",
      "Training Loss at Time Step 11 of Epoch 49 is 0.31722623109817505\n",
      "Training Loss at Time Step 12 of Epoch 49 is 0.10919969528913498\n",
      "Training Loss at Time Step 13 of Epoch 49 is 0.31604501605033875\n",
      "Training Loss at Time Step 14 of Epoch 49 is 0.32619211077690125\n",
      "Training Loss at Time Step 15 of Epoch 49 is 0.31258824467658997\n",
      "Training Loss at Time Step 16 of Epoch 49 is 0.5663385987281799\n",
      "Training Loss at Time Step 17 of Epoch 49 is 0.19771119952201843\n",
      "Training Loss at Time Step 18 of Epoch 49 is 0.5123186111450195\n",
      "Training Loss at Time Step 19 of Epoch 49 is 0.43697234988212585\n",
      "Training Loss at Time Step 20 of Epoch 49 is 0.29331547021865845\n",
      "Training Loss at Time Step 21 of Epoch 49 is 0.9226175546646118\n",
      "Training Loss at Time Step 22 of Epoch 49 is 0.1434449404478073\n",
      "Training Loss at Time Step 23 of Epoch 49 is 0.6210564970970154\n",
      "Training Loss at Time Step 24 of Epoch 49 is 0.30256158113479614\n",
      "Training Loss at Time Step 25 of Epoch 49 is 0.544981837272644\n",
      "Training Loss at Time Step 26 of Epoch 49 is 0.33133289217948914\n",
      "Training Loss at Time Step 27 of Epoch 49 is 0.13648566603660583\n",
      "\n",
      "Training Accuracy after Epoch 49 is 0.8042328357696533\n",
      "Cross Validation Accuracy after Epoch 49 is 0.5049999952316284\n",
      "\n",
      "Training Loss at Time Step 1 of Epoch 50 is 0.42435726523399353\n",
      "Training Loss at Time Step 2 of Epoch 50 is 0.33535197377204895\n",
      "Training Loss at Time Step 3 of Epoch 50 is 0.16210243105888367\n",
      "Training Loss at Time Step 4 of Epoch 50 is 0.8185803294181824\n",
      "Training Loss at Time Step 5 of Epoch 50 is 0.3427404761314392\n",
      "Training Loss at Time Step 6 of Epoch 50 is 0.729185163974762\n",
      "Training Loss at Time Step 7 of Epoch 50 is 0.6887521743774414\n",
      "Training Loss at Time Step 8 of Epoch 50 is 0.564712643623352\n"
     ]
    },
    {
     "name": "stdout",
     "output_type": "stream",
     "text": [
      "Training Loss at Time Step 9 of Epoch 50 is 0.3268468976020813\n",
      "Training Loss at Time Step 10 of Epoch 50 is 0.30911916494369507\n",
      "Training Loss at Time Step 11 of Epoch 50 is 0.6360390782356262\n",
      "Training Loss at Time Step 12 of Epoch 50 is 0.5577502846717834\n",
      "Training Loss at Time Step 13 of Epoch 50 is 0.2596343159675598\n",
      "Training Loss at Time Step 14 of Epoch 50 is 0.2387450784444809\n",
      "Training Loss at Time Step 15 of Epoch 50 is 0.41124558448791504\n",
      "Training Loss at Time Step 16 of Epoch 50 is 0.13546063005924225\n",
      "Training Loss at Time Step 17 of Epoch 50 is 0.18251670897006989\n",
      "Training Loss at Time Step 18 of Epoch 50 is 0.22139514982700348\n",
      "Training Loss at Time Step 19 of Epoch 50 is 0.38888224959373474\n",
      "Training Loss at Time Step 20 of Epoch 50 is 0.37858325242996216\n",
      "Training Loss at Time Step 21 of Epoch 50 is 0.5002535581588745\n",
      "Training Loss at Time Step 22 of Epoch 50 is 0.28964516520500183\n",
      "Training Loss at Time Step 23 of Epoch 50 is 0.4177207946777344\n",
      "Training Loss at Time Step 24 of Epoch 50 is 0.4004631042480469\n",
      "Training Loss at Time Step 25 of Epoch 50 is 0.2480262666940689\n",
      "Training Loss at Time Step 26 of Epoch 50 is 0.2847730219364166\n",
      "Training Loss at Time Step 27 of Epoch 50 is 0.4236743748188019\n",
      "\n",
      "Training Accuracy after Epoch 50 is 0.8227513432502747\n",
      "Cross Validation Accuracy after Epoch 50 is 0.5049999952316284\n",
      "\n"
     ]
    },
    {
     "data": {
      "text/plain": [
       "(<function __main__.supervised_cls_loss(imgs_labels, imgs_preds)>,\n",
       " <function __main__.unsupervised_cls_loss(real_imgs_preds, fake_imgs_preds)>,\n",
       " [<tf.Tensor: shape=(), dtype=float32, numpy=0.7544523>,\n",
       "  <tf.Tensor: shape=(), dtype=float32, numpy=0.62721>,\n",
       "  <tf.Tensor: shape=(), dtype=float32, numpy=0.4683859>,\n",
       "  <tf.Tensor: shape=(), dtype=float32, numpy=0.31309843>,\n",
       "  <tf.Tensor: shape=(), dtype=float32, numpy=0.15341356>,\n",
       "  <tf.Tensor: shape=(), dtype=float32, numpy=0.46387088>,\n",
       "  <tf.Tensor: shape=(), dtype=float32, numpy=0.54461545>,\n",
       "  <tf.Tensor: shape=(), dtype=float32, numpy=0.28180656>,\n",
       "  <tf.Tensor: shape=(), dtype=float32, numpy=0.31702593>,\n",
       "  <tf.Tensor: shape=(), dtype=float32, numpy=0.5916451>,\n",
       "  <tf.Tensor: shape=(), dtype=float32, numpy=0.3366542>,\n",
       "  <tf.Tensor: shape=(), dtype=float32, numpy=0.7704402>,\n",
       "  <tf.Tensor: shape=(), dtype=float32, numpy=0.52827126>,\n",
       "  <tf.Tensor: shape=(), dtype=float32, numpy=0.36666226>,\n",
       "  <tf.Tensor: shape=(), dtype=float32, numpy=0.19797991>,\n",
       "  <tf.Tensor: shape=(), dtype=float32, numpy=0.7852055>,\n",
       "  <tf.Tensor: shape=(), dtype=float32, numpy=0.6206129>,\n",
       "  <tf.Tensor: shape=(), dtype=float32, numpy=0.3882468>,\n",
       "  <tf.Tensor: shape=(), dtype=float32, numpy=0.5001082>,\n",
       "  <tf.Tensor: shape=(), dtype=float32, numpy=0.6050553>,\n",
       "  <tf.Tensor: shape=(), dtype=float32, numpy=0.9803591>,\n",
       "  <tf.Tensor: shape=(), dtype=float32, numpy=0.65494365>,\n",
       "  <tf.Tensor: shape=(), dtype=float32, numpy=0.24419335>,\n",
       "  <tf.Tensor: shape=(), dtype=float32, numpy=0.24970463>,\n",
       "  <tf.Tensor: shape=(), dtype=float32, numpy=0.5406527>,\n",
       "  <tf.Tensor: shape=(), dtype=float32, numpy=0.08683143>,\n",
       "  <tf.Tensor: shape=(), dtype=float32, numpy=0.65256834>,\n",
       "  <tf.Tensor: shape=(), dtype=float32, numpy=0.7584154>,\n",
       "  <tf.Tensor: shape=(), dtype=float32, numpy=0.56114835>,\n",
       "  <tf.Tensor: shape=(), dtype=float32, numpy=0.3704942>,\n",
       "  <tf.Tensor: shape=(), dtype=float32, numpy=0.69225454>,\n",
       "  <tf.Tensor: shape=(), dtype=float32, numpy=0.089017585>,\n",
       "  <tf.Tensor: shape=(), dtype=float32, numpy=0.40770343>,\n",
       "  <tf.Tensor: shape=(), dtype=float32, numpy=0.7987803>,\n",
       "  <tf.Tensor: shape=(), dtype=float32, numpy=0.107193604>,\n",
       "  <tf.Tensor: shape=(), dtype=float32, numpy=0.37442774>,\n",
       "  <tf.Tensor: shape=(), dtype=float32, numpy=0.05703283>,\n",
       "  <tf.Tensor: shape=(), dtype=float32, numpy=0.036894042>,\n",
       "  <tf.Tensor: shape=(), dtype=float32, numpy=0.55469406>,\n",
       "  <tf.Tensor: shape=(), dtype=float32, numpy=0.5421298>,\n",
       "  <tf.Tensor: shape=(), dtype=float32, numpy=0.6902215>,\n",
       "  <tf.Tensor: shape=(), dtype=float32, numpy=0.24476491>,\n",
       "  <tf.Tensor: shape=(), dtype=float32, numpy=0.8924765>,\n",
       "  <tf.Tensor: shape=(), dtype=float32, numpy=0.4773309>,\n",
       "  <tf.Tensor: shape=(), dtype=float32, numpy=0.84707594>,\n",
       "  <tf.Tensor: shape=(), dtype=float32, numpy=0.67759854>,\n",
       "  <tf.Tensor: shape=(), dtype=float32, numpy=0.39628643>,\n",
       "  <tf.Tensor: shape=(), dtype=float32, numpy=0.17307666>,\n",
       "  <tf.Tensor: shape=(), dtype=float32, numpy=0.32094726>,\n",
       "  <tf.Tensor: shape=(), dtype=float32, numpy=0.27761868>,\n",
       "  <tf.Tensor: shape=(), dtype=float32, numpy=0.65055263>,\n",
       "  <tf.Tensor: shape=(), dtype=float32, numpy=0.19708931>,\n",
       "  <tf.Tensor: shape=(), dtype=float32, numpy=0.123957254>,\n",
       "  <tf.Tensor: shape=(), dtype=float32, numpy=0.18239726>,\n",
       "  <tf.Tensor: shape=(), dtype=float32, numpy=0.17341349>,\n",
       "  <tf.Tensor: shape=(), dtype=float32, numpy=0.20759225>,\n",
       "  <tf.Tensor: shape=(), dtype=float32, numpy=0.084733>,\n",
       "  <tf.Tensor: shape=(), dtype=float32, numpy=0.1443049>,\n",
       "  <tf.Tensor: shape=(), dtype=float32, numpy=0.123774335>,\n",
       "  <tf.Tensor: shape=(), dtype=float32, numpy=0.1430894>,\n",
       "  <tf.Tensor: shape=(), dtype=float32, numpy=0.16857024>,\n",
       "  <tf.Tensor: shape=(), dtype=float32, numpy=0.24480844>,\n",
       "  <tf.Tensor: shape=(), dtype=float32, numpy=0.121292>,\n",
       "  <tf.Tensor: shape=(), dtype=float32, numpy=0.45716304>,\n",
       "  <tf.Tensor: shape=(), dtype=float32, numpy=0.11483973>,\n",
       "  <tf.Tensor: shape=(), dtype=float32, numpy=0.87208194>,\n",
       "  <tf.Tensor: shape=(), dtype=float32, numpy=0.59385693>,\n",
       "  <tf.Tensor: shape=(), dtype=float32, numpy=0.14913751>,\n",
       "  <tf.Tensor: shape=(), dtype=float32, numpy=0.22952415>,\n",
       "  <tf.Tensor: shape=(), dtype=float32, numpy=0.6636115>,\n",
       "  <tf.Tensor: shape=(), dtype=float32, numpy=0.42670402>,\n",
       "  <tf.Tensor: shape=(), dtype=float32, numpy=1.89324>,\n",
       "  <tf.Tensor: shape=(), dtype=float32, numpy=0.9470944>,\n",
       "  <tf.Tensor: shape=(), dtype=float32, numpy=0.4334528>,\n",
       "  <tf.Tensor: shape=(), dtype=float32, numpy=0.47979048>,\n",
       "  <tf.Tensor: shape=(), dtype=float32, numpy=0.7804007>,\n",
       "  <tf.Tensor: shape=(), dtype=float32, numpy=0.24258609>,\n",
       "  <tf.Tensor: shape=(), dtype=float32, numpy=0.34715322>,\n",
       "  <tf.Tensor: shape=(), dtype=float32, numpy=0.9476653>,\n",
       "  <tf.Tensor: shape=(), dtype=float32, numpy=0.13553624>,\n",
       "  <tf.Tensor: shape=(), dtype=float32, numpy=0.2723295>,\n",
       "  <tf.Tensor: shape=(), dtype=float32, numpy=0.2947724>,\n",
       "  <tf.Tensor: shape=(), dtype=float32, numpy=0.5118838>,\n",
       "  <tf.Tensor: shape=(), dtype=float32, numpy=0.3719287>,\n",
       "  <tf.Tensor: shape=(), dtype=float32, numpy=0.70721817>,\n",
       "  <tf.Tensor: shape=(), dtype=float32, numpy=0.5104038>,\n",
       "  <tf.Tensor: shape=(), dtype=float32, numpy=0.3251525>,\n",
       "  <tf.Tensor: shape=(), dtype=float32, numpy=0.34865758>,\n",
       "  <tf.Tensor: shape=(), dtype=float32, numpy=0.6583335>,\n",
       "  <tf.Tensor: shape=(), dtype=float32, numpy=0.47923347>,\n",
       "  <tf.Tensor: shape=(), dtype=float32, numpy=0.52285486>,\n",
       "  <tf.Tensor: shape=(), dtype=float32, numpy=0.34077474>,\n",
       "  <tf.Tensor: shape=(), dtype=float32, numpy=0.562798>,\n",
       "  <tf.Tensor: shape=(), dtype=float32, numpy=0.30385104>,\n",
       "  <tf.Tensor: shape=(), dtype=float32, numpy=0.23670305>,\n",
       "  <tf.Tensor: shape=(), dtype=float32, numpy=0.46893233>,\n",
       "  <tf.Tensor: shape=(), dtype=float32, numpy=0.44889215>,\n",
       "  <tf.Tensor: shape=(), dtype=float32, numpy=0.112867296>,\n",
       "  <tf.Tensor: shape=(), dtype=float32, numpy=0.3112177>,\n",
       "  <tf.Tensor: shape=(), dtype=float32, numpy=0.6504478>],\n",
       " [<tf.Tensor: shape=(), dtype=float32, numpy=0.69841266>,\n",
       "  <tf.Tensor: shape=(), dtype=float32, numpy=0.7089948>,\n",
       "  <tf.Tensor: shape=(), dtype=float32, numpy=0.6891534>,\n",
       "  <tf.Tensor: shape=(), dtype=float32, numpy=0.76322746>,\n",
       "  <tf.Tensor: shape=(), dtype=float32, numpy=0.7460317>,\n",
       "  <tf.Tensor: shape=(), dtype=float32, numpy=0.8095237>,\n",
       "  <tf.Tensor: shape=(), dtype=float32, numpy=0.7460317>,\n",
       "  <tf.Tensor: shape=(), dtype=float32, numpy=0.74206346>,\n",
       "  <tf.Tensor: shape=(), dtype=float32, numpy=0.77910066>,\n",
       "  <tf.Tensor: shape=(), dtype=float32, numpy=0.75264543>,\n",
       "  <tf.Tensor: shape=(), dtype=float32, numpy=0.7579365>,\n",
       "  <tf.Tensor: shape=(), dtype=float32, numpy=0.72619045>,\n",
       "  <tf.Tensor: shape=(), dtype=float32, numpy=0.7751321>,\n",
       "  <tf.Tensor: shape=(), dtype=float32, numpy=0.81216925>,\n",
       "  <tf.Tensor: shape=(), dtype=float32, numpy=0.7949735>,\n",
       "  <tf.Tensor: shape=(), dtype=float32, numpy=0.8148148>,\n",
       "  <tf.Tensor: shape=(), dtype=float32, numpy=0.8055554>,\n",
       "  <tf.Tensor: shape=(), dtype=float32, numpy=0.7949734>,\n",
       "  <tf.Tensor: shape=(), dtype=float32, numpy=0.81084645>,\n",
       "  <tf.Tensor: shape=(), dtype=float32, numpy=0.78439164>,\n",
       "  <tf.Tensor: shape=(), dtype=float32, numpy=0.8373016>,\n",
       "  <tf.Tensor: shape=(), dtype=float32, numpy=0.8068782>,\n",
       "  <tf.Tensor: shape=(), dtype=float32, numpy=0.8095237>,\n",
       "  <tf.Tensor: shape=(), dtype=float32, numpy=0.7751321>,\n",
       "  <tf.Tensor: shape=(), dtype=float32, numpy=0.7883597>,\n",
       "  <tf.Tensor: shape=(), dtype=float32, numpy=0.8518517>,\n",
       "  <tf.Tensor: shape=(), dtype=float32, numpy=0.73412704>,\n",
       "  <tf.Tensor: shape=(), dtype=float32, numpy=0.8148146>,\n",
       "  <tf.Tensor: shape=(), dtype=float32, numpy=0.83068776>,\n",
       "  <tf.Tensor: shape=(), dtype=float32, numpy=0.8002646>,\n",
       "  <tf.Tensor: shape=(), dtype=float32, numpy=0.7579365>,\n",
       "  <tf.Tensor: shape=(), dtype=float32, numpy=0.8412698>,\n",
       "  <tf.Tensor: shape=(), dtype=float32, numpy=0.8412696>,\n",
       "  <tf.Tensor: shape=(), dtype=float32, numpy=0.8201058>,\n",
       "  <tf.Tensor: shape=(), dtype=float32, numpy=0.8359788>,\n",
       "  <tf.Tensor: shape=(), dtype=float32, numpy=0.8148148>,\n",
       "  <tf.Tensor: shape=(), dtype=float32, numpy=0.8518519>,\n",
       "  <tf.Tensor: shape=(), dtype=float32, numpy=0.8002646>,\n",
       "  <tf.Tensor: shape=(), dtype=float32, numpy=0.82010573>,\n",
       "  <tf.Tensor: shape=(), dtype=float32, numpy=0.82010573>,\n",
       "  <tf.Tensor: shape=(), dtype=float32, numpy=0.8002646>,\n",
       "  <tf.Tensor: shape=(), dtype=float32, numpy=0.7830688>,\n",
       "  <tf.Tensor: shape=(), dtype=float32, numpy=0.83730155>,\n",
       "  <tf.Tensor: shape=(), dtype=float32, numpy=0.8253968>,\n",
       "  <tf.Tensor: shape=(), dtype=float32, numpy=0.7936507>,\n",
       "  <tf.Tensor: shape=(), dtype=float32, numpy=0.76719576>,\n",
       "  <tf.Tensor: shape=(), dtype=float32, numpy=0.8306878>,\n",
       "  <tf.Tensor: shape=(), dtype=float32, numpy=0.7883598>,\n",
       "  <tf.Tensor: shape=(), dtype=float32, numpy=0.8201058>,\n",
       "  <tf.Tensor: shape=(), dtype=float32, numpy=0.82671964>,\n",
       "  <tf.Tensor: shape=(), dtype=float32, numpy=0.8174603>,\n",
       "  <tf.Tensor: shape=(), dtype=float32, numpy=0.8478836>,\n",
       "  <tf.Tensor: shape=(), dtype=float32, numpy=0.8214284>,\n",
       "  <tf.Tensor: shape=(), dtype=float32, numpy=0.91005296>,\n",
       "  <tf.Tensor: shape=(), dtype=float32, numpy=0.82275134>,\n",
       "  <tf.Tensor: shape=(), dtype=float32, numpy=0.8320105>,\n",
       "  <tf.Tensor: shape=(), dtype=float32, numpy=0.84920627>,\n",
       "  <tf.Tensor: shape=(), dtype=float32, numpy=0.82142854>,\n",
       "  <tf.Tensor: shape=(), dtype=float32, numpy=0.81613755>,\n",
       "  <tf.Tensor: shape=(), dtype=float32, numpy=0.9060846>,\n",
       "  <tf.Tensor: shape=(), dtype=float32, numpy=0.84126997>,\n",
       "  <tf.Tensor: shape=(), dtype=float32, numpy=0.9047619>,\n",
       "  <tf.Tensor: shape=(), dtype=float32, numpy=0.84920645>,\n",
       "  <tf.Tensor: shape=(), dtype=float32, numpy=0.8518519>,\n",
       "  <tf.Tensor: shape=(), dtype=float32, numpy=0.83068764>,\n",
       "  <tf.Tensor: shape=(), dtype=float32, numpy=0.8888889>,\n",
       "  <tf.Tensor: shape=(), dtype=float32, numpy=0.83862424>,\n",
       "  <tf.Tensor: shape=(), dtype=float32, numpy=0.86772484>,\n",
       "  <tf.Tensor: shape=(), dtype=float32, numpy=0.83201057>,\n",
       "  <tf.Tensor: shape=(), dtype=float32, numpy=0.86507934>,\n",
       "  <tf.Tensor: shape=(), dtype=float32, numpy=0.7142857>,\n",
       "  <tf.Tensor: shape=(), dtype=float32, numpy=0.5780423>,\n",
       "  <tf.Tensor: shape=(), dtype=float32, numpy=0.6613756>,\n",
       "  <tf.Tensor: shape=(), dtype=float32, numpy=0.6957671>,\n",
       "  <tf.Tensor: shape=(), dtype=float32, numpy=0.6891533>,\n",
       "  <tf.Tensor: shape=(), dtype=float32, numpy=0.7314815>,\n",
       "  <tf.Tensor: shape=(), dtype=float32, numpy=0.7103174>,\n",
       "  <tf.Tensor: shape=(), dtype=float32, numpy=0.7936508>,\n",
       "  <tf.Tensor: shape=(), dtype=float32, numpy=0.7751323>,\n",
       "  <tf.Tensor: shape=(), dtype=float32, numpy=0.78571427>,\n",
       "  <tf.Tensor: shape=(), dtype=float32, numpy=0.781746>,\n",
       "  <tf.Tensor: shape=(), dtype=float32, numpy=0.83068776>,\n",
       "  <tf.Tensor: shape=(), dtype=float32, numpy=0.77910054>,\n",
       "  <tf.Tensor: shape=(), dtype=float32, numpy=0.79497343>,\n",
       "  <tf.Tensor: shape=(), dtype=float32, numpy=0.7936507>,\n",
       "  <tf.Tensor: shape=(), dtype=float32, numpy=0.85714287>,\n",
       "  <tf.Tensor: shape=(), dtype=float32, numpy=0.81481475>,\n",
       "  <tf.Tensor: shape=(), dtype=float32, numpy=0.8214286>,\n",
       "  <tf.Tensor: shape=(), dtype=float32, numpy=0.82671964>,\n",
       "  <tf.Tensor: shape=(), dtype=float32, numpy=0.84126973>,\n",
       "  <tf.Tensor: shape=(), dtype=float32, numpy=0.8267195>,\n",
       "  <tf.Tensor: shape=(), dtype=float32, numpy=0.8108466>,\n",
       "  <tf.Tensor: shape=(), dtype=float32, numpy=0.80952376>,\n",
       "  <tf.Tensor: shape=(), dtype=float32, numpy=0.7830688>,\n",
       "  <tf.Tensor: shape=(), dtype=float32, numpy=0.80555546>,\n",
       "  <tf.Tensor: shape=(), dtype=float32, numpy=0.8201058>,\n",
       "  <tf.Tensor: shape=(), dtype=float32, numpy=0.8320105>,\n",
       "  <tf.Tensor: shape=(), dtype=float32, numpy=0.80555546>,\n",
       "  <tf.Tensor: shape=(), dtype=float32, numpy=0.80423284>,\n",
       "  <tf.Tensor: shape=(), dtype=float32, numpy=0.82275134>],\n",
       " [<tf.Tensor: shape=(), dtype=float32, numpy=0.62833333>,\n",
       "  <tf.Tensor: shape=(), dtype=float32, numpy=0.65833336>,\n",
       "  <tf.Tensor: shape=(), dtype=float32, numpy=0.555>,\n",
       "  <tf.Tensor: shape=(), dtype=float32, numpy=0.56166667>,\n",
       "  <tf.Tensor: shape=(), dtype=float32, numpy=0.74666667>,\n",
       "  <tf.Tensor: shape=(), dtype=float32, numpy=0.50166667>,\n",
       "  <tf.Tensor: shape=(), dtype=float32, numpy=0.64166665>,\n",
       "  <tf.Tensor: shape=(), dtype=float32, numpy=0.5>,\n",
       "  <tf.Tensor: shape=(), dtype=float32, numpy=0.6333333>,\n",
       "  <tf.Tensor: shape=(), dtype=float32, numpy=0.645>,\n",
       "  <tf.Tensor: shape=(), dtype=float32, numpy=0.5683333>,\n",
       "  <tf.Tensor: shape=(), dtype=float32, numpy=0.67>,\n",
       "  <tf.Tensor: shape=(), dtype=float32, numpy=0.7216667>,\n",
       "  <tf.Tensor: shape=(), dtype=float32, numpy=0.765>,\n",
       "  <tf.Tensor: shape=(), dtype=float32, numpy=0.75>,\n",
       "  <tf.Tensor: shape=(), dtype=float32, numpy=0.50166667>,\n",
       "  <tf.Tensor: shape=(), dtype=float32, numpy=0.50166667>,\n",
       "  <tf.Tensor: shape=(), dtype=float32, numpy=0.7083334>,\n",
       "  <tf.Tensor: shape=(), dtype=float32, numpy=0.72833335>,\n",
       "  <tf.Tensor: shape=(), dtype=float32, numpy=0.73333335>,\n",
       "  <tf.Tensor: shape=(), dtype=float32, numpy=0.735>,\n",
       "  <tf.Tensor: shape=(), dtype=float32, numpy=0.75>,\n",
       "  <tf.Tensor: shape=(), dtype=float32, numpy=0.62833333>,\n",
       "  <tf.Tensor: shape=(), dtype=float32, numpy=0.515>,\n",
       "  <tf.Tensor: shape=(), dtype=float32, numpy=0.7266667>,\n",
       "  <tf.Tensor: shape=(), dtype=float32, numpy=0.7266667>,\n",
       "  <tf.Tensor: shape=(), dtype=float32, numpy=0.57666665>,\n",
       "  <tf.Tensor: shape=(), dtype=float32, numpy=0.51166666>,\n",
       "  <tf.Tensor: shape=(), dtype=float32, numpy=0.71166664>,\n",
       "  <tf.Tensor: shape=(), dtype=float32, numpy=0.55833334>,\n",
       "  <tf.Tensor: shape=(), dtype=float32, numpy=0.51666665>,\n",
       "  <tf.Tensor: shape=(), dtype=float32, numpy=0.76166666>,\n",
       "  <tf.Tensor: shape=(), dtype=float32, numpy=0.55333334>,\n",
       "  <tf.Tensor: shape=(), dtype=float32, numpy=0.745>,\n",
       "  <tf.Tensor: shape=(), dtype=float32, numpy=0.61>,\n",
       "  <tf.Tensor: shape=(), dtype=float32, numpy=0.50166667>,\n",
       "  <tf.Tensor: shape=(), dtype=float32, numpy=0.5416667>,\n",
       "  <tf.Tensor: shape=(), dtype=float32, numpy=0.56>,\n",
       "  <tf.Tensor: shape=(), dtype=float32, numpy=0.5183333>,\n",
       "  <tf.Tensor: shape=(), dtype=float32, numpy=0.61333334>,\n",
       "  <tf.Tensor: shape=(), dtype=float32, numpy=0.51166666>,\n",
       "  <tf.Tensor: shape=(), dtype=float32, numpy=0.7266667>,\n",
       "  <tf.Tensor: shape=(), dtype=float32, numpy=0.5233333>,\n",
       "  <tf.Tensor: shape=(), dtype=float32, numpy=0.5783333>,\n",
       "  <tf.Tensor: shape=(), dtype=float32, numpy=0.5>,\n",
       "  <tf.Tensor: shape=(), dtype=float32, numpy=0.6166667>,\n",
       "  <tf.Tensor: shape=(), dtype=float32, numpy=0.62333333>,\n",
       "  <tf.Tensor: shape=(), dtype=float32, numpy=0.585>,\n",
       "  <tf.Tensor: shape=(), dtype=float32, numpy=0.7166667>,\n",
       "  <tf.Tensor: shape=(), dtype=float32, numpy=0.7116667>,\n",
       "  <tf.Tensor: shape=(), dtype=float32, numpy=0.7083334>,\n",
       "  <tf.Tensor: shape=(), dtype=float32, numpy=0.695>,\n",
       "  <tf.Tensor: shape=(), dtype=float32, numpy=0.68>,\n",
       "  <tf.Tensor: shape=(), dtype=float32, numpy=0.68833333>,\n",
       "  <tf.Tensor: shape=(), dtype=float32, numpy=0.66833335>,\n",
       "  <tf.Tensor: shape=(), dtype=float32, numpy=0.68>,\n",
       "  <tf.Tensor: shape=(), dtype=float32, numpy=0.6766667>,\n",
       "  <tf.Tensor: shape=(), dtype=float32, numpy=0.675>,\n",
       "  <tf.Tensor: shape=(), dtype=float32, numpy=0.665>,\n",
       "  <tf.Tensor: shape=(), dtype=float32, numpy=0.66166663>,\n",
       "  <tf.Tensor: shape=(), dtype=float32, numpy=0.65166664>,\n",
       "  <tf.Tensor: shape=(), dtype=float32, numpy=0.64>,\n",
       "  <tf.Tensor: shape=(), dtype=float32, numpy=0.65166664>,\n",
       "  <tf.Tensor: shape=(), dtype=float32, numpy=0.6533333>,\n",
       "  <tf.Tensor: shape=(), dtype=float32, numpy=0.6616667>,\n",
       "  <tf.Tensor: shape=(), dtype=float32, numpy=0.655>,\n",
       "  <tf.Tensor: shape=(), dtype=float32, numpy=0.655>,\n",
       "  <tf.Tensor: shape=(), dtype=float32, numpy=0.65999997>,\n",
       "  <tf.Tensor: shape=(), dtype=float32, numpy=0.65999997>,\n",
       "  <tf.Tensor: shape=(), dtype=float32, numpy=0.66499996>,\n",
       "  <tf.Tensor: shape=(), dtype=float32, numpy=0.5>,\n",
       "  <tf.Tensor: shape=(), dtype=float32, numpy=0.5>,\n",
       "  <tf.Tensor: shape=(), dtype=float32, numpy=0.5>,\n",
       "  <tf.Tensor: shape=(), dtype=float32, numpy=0.5>,\n",
       "  <tf.Tensor: shape=(), dtype=float32, numpy=0.5>,\n",
       "  <tf.Tensor: shape=(), dtype=float32, numpy=0.5>,\n",
       "  <tf.Tensor: shape=(), dtype=float32, numpy=0.5>,\n",
       "  <tf.Tensor: shape=(), dtype=float32, numpy=0.5>,\n",
       "  <tf.Tensor: shape=(), dtype=float32, numpy=0.5>,\n",
       "  <tf.Tensor: shape=(), dtype=float32, numpy=0.5>,\n",
       "  <tf.Tensor: shape=(), dtype=float32, numpy=0.5>,\n",
       "  <tf.Tensor: shape=(), dtype=float32, numpy=0.5>,\n",
       "  <tf.Tensor: shape=(), dtype=float32, numpy=0.5>,\n",
       "  <tf.Tensor: shape=(), dtype=float32, numpy=0.5>,\n",
       "  <tf.Tensor: shape=(), dtype=float32, numpy=0.5>,\n",
       "  <tf.Tensor: shape=(), dtype=float32, numpy=0.5>,\n",
       "  <tf.Tensor: shape=(), dtype=float32, numpy=0.5>,\n",
       "  <tf.Tensor: shape=(), dtype=float32, numpy=0.5>,\n",
       "  <tf.Tensor: shape=(), dtype=float32, numpy=0.5>,\n",
       "  <tf.Tensor: shape=(), dtype=float32, numpy=0.50166667>,\n",
       "  <tf.Tensor: shape=(), dtype=float32, numpy=0.50166667>,\n",
       "  <tf.Tensor: shape=(), dtype=float32, numpy=0.50166667>,\n",
       "  <tf.Tensor: shape=(), dtype=float32, numpy=0.50166667>,\n",
       "  <tf.Tensor: shape=(), dtype=float32, numpy=0.50166667>,\n",
       "  <tf.Tensor: shape=(), dtype=float32, numpy=0.50166667>,\n",
       "  <tf.Tensor: shape=(), dtype=float32, numpy=0.50333333>,\n",
       "  <tf.Tensor: shape=(), dtype=float32, numpy=0.50333333>,\n",
       "  <tf.Tensor: shape=(), dtype=float32, numpy=0.505>,\n",
       "  <tf.Tensor: shape=(), dtype=float32, numpy=0.505>,\n",
       "  <tf.Tensor: shape=(), dtype=float32, numpy=0.505>])"
      ]
     },
     "execution_count": 173,
     "metadata": {},
     "output_type": "execute_result"
    }
   ],
   "source": [
    "train_ssl_classifier(labeled_imgs_datagen=labeled_datagen,unlabeled_imgs_datagen=unlabeled_datagen,\n",
    "                     cv_imgs_datagen=cv_datagen,total_epochs=50)"
   ]
  },
  {
   "cell_type": "code",
   "execution_count": 188,
   "metadata": {
    "id": "dSF-MPFMR_vL"
   },
   "outputs": [
    {
     "data": {
      "text/plain": [
       "<tensorflow.python.training.tracking.util.CheckpointLoadStatus at 0x1ee8096e580>"
      ]
     },
     "execution_count": 188,
     "metadata": {},
     "output_type": "execute_result"
    }
   ],
   "source": [
    "latest_ckpt = tf.train.Checkpoint(cls_checkpoint)\n",
    "latest_ckpt.restore(save_path=\"C:/Users/Mask/Desktop/AIML Projects/Semi -Supervised GANS for Melanoma Detection/MelanomaDetection/Finetune_GAN/ckpt-\")"
   ]
  },
  {
   "cell_type": "code",
   "execution_count": 175,
   "metadata": {},
   "outputs": [
    {
     "data": {
      "text/plain": [
       "<tensorflow.python.training.tracking.util.CheckpointLoadStatus at 0x1eecb7ac670>"
      ]
     },
     "execution_count": 175,
     "metadata": {},
     "output_type": "execute_result"
    }
   ],
   "source": [
    "cls_checkpoint.restore(latest_ckpt)"
   ]
  },
  {
   "cell_type": "code",
   "execution_count": 176,
   "metadata": {},
   "outputs": [
    {
     "name": "stdout",
     "output_type": "stream",
     "text": [
      "Found 600 images belonging to 2 classes.\n"
     ]
    }
   ],
   "source": [
    "test_data_gen = ImageDataGenerator()\n",
    "test_datagen = test_data_gen.flow_from_directory(directory=os.path.join(root_dir , \"test\"),\n",
    "                                                target_size=(32,32),\n",
    "                                                classes=os.listdir(os.path.join(root_dir , \"test\")),\n",
    "                                                 batch_size=600,shuffle= False)"
   ]
  },
  {
   "cell_type": "code",
   "execution_count": 177,
   "metadata": {},
   "outputs": [],
   "source": [
    "accuracy_matric = tf.keras.metrics.BinaryAccuracy()\n",
    "recall_metrics = tf.metrics.Recall()\n",
    "precision_metrics = tf.metrics.Precision()\n",
    "AUC_metrics = tf.metrics.AUC()"
   ]
  },
  {
   "cell_type": "code",
   "execution_count": 178,
   "metadata": {},
   "outputs": [],
   "source": [
    "def test_step(test_datagen,model):\n",
    "    convertor = lambda x: 0 if x<0.5 else 1\n",
    "    batch_size_counter = 1\n",
    "    metrics_dict = {}\n",
    "    for img_data ,labels in test_datagen:\n",
    "        if batch_size_counter > 1:\n",
    "            break\n",
    "            \n",
    "        y_pred = model(img_data ,training = False) \n",
    "        y_true = test_datagen.labels\n",
    "        \n",
    "        accuracy_matric.update_state(y_true,y_pred)\n",
    "        recall_metrics.update_state(y_true,y_pred)\n",
    "        precision_metrics.update_state(y_true,y_pred)\n",
    "        AUC_metrics.update_state(y_true,y_pred)\n",
    "        \n",
    "        metrics_dict[\"accuracy\"] = accuracy_matric.result()\n",
    "        metrics_dict[\"precision\"] = precision_metrics.result()\n",
    "        metrics_dict[\"recall\"] = recall_metrics.result()\n",
    "        metrics_dict[\"AOC-ROC\"] = AUC_metrics.result()\n",
    "        \n",
    "        print(\" accuracy : {} precision : {} recall : {} AOC-ROC : {} \\n\".format(accuracy_matric.result(),precision_metrics.result(),\n",
    "                                                                             recall_metrics.result(),AUC_metrics.result() ,\n",
    "                                                                                                        batch_size_counter))\n",
    "        batch_size_counter += 1\n",
    "        accuracy_matric.reset_state()\n",
    "        recall_metrics.reset_state()\n",
    "        precision_metrics.reset_state()\n",
    "        AUC_metrics.reset_state()\n",
    "        \n",
    "    return y_true,y_pred\n",
    "    "
   ]
  },
  {
   "cell_type": "code",
   "execution_count": 189,
   "metadata": {},
   "outputs": [
    {
     "name": "stdout",
     "output_type": "stream",
     "text": [
      " accuracy : 0.7166666388511658 precision : 0.7777777910232544 recall : 0.6066666841506958 AOC-ROC : 0.7164777517318726 batch_size_counter : 1 \n",
      "\n"
     ]
    }
   ],
   "source": [
    "y_true, y_pred = test_step(test_datagen ,supervised_cls)"
   ]
  },
  {
   "cell_type": "code",
   "execution_count": 152,
   "metadata": {},
   "outputs": [
    {
     "data": {
      "text/plain": [
       "Text(0, 0.5, 'Accuracy Percentage')"
      ]
     },
     "execution_count": 152,
     "metadata": {},
     "output_type": "execute_result"
    },
    {
     "data": {
      "image/png": "[encoded data removed]",
      "text/plain": [
       "<Figure size 720x360 with 1 Axes>"
      ]
     },
     "metadata": {
      "needs_background": "light"
     },
     "output_type": "display_data"
    }
   ],
   "source": [
    "plt.figure(figsize=(10,5))\n",
    "# plt.xlim(l)\n",
    "plt.plot(train_acc,color = \"b\")\n",
    "plt.plot(cv_acc,color =\"r\")\n",
    "plt.legend([\"Training Acc\" ,\"Test Acc\"],loc =\"upper right\")\n",
    "plt.title(\"Training Accuracy vs Test Accurary\")\n",
    "plt.xlabel(\"Epoch Number\")\n",
    "plt.ylabel(\"Accuracy Percentage\")"
   ]
  },
  {
   "cell_type": "code",
   "execution_count": 190,
   "metadata": {},
   "outputs": [
    {
     "data": {
      "text/plain": [
       "(0.0, 1.0)"
      ]
     },
     "execution_count": 190,
     "metadata": {},
     "output_type": "execute_result"
    },
    {
     "data": {
      "image/png": "[encoded data removed]",
      "text/plain": [
       "<Figure size 720x360 with 1 Axes>"
      ]
     },
     "metadata": {
      "needs_background": "light"
     },
     "output_type": "display_data"
    }
   ],
   "source": [
    "plt.figure(figsize=(10,5))\n",
    "# plt.xlim(l)\n",
    "plt.plot(train_acc,color = \"b\")\n",
    "plt.plot(cv_acc,color =\"r\")\n",
    "plt.legend([\"Training Acc\" ,\"Test Acc\"],loc =\"upper right\")\n",
    "plt.title(\"Training Accuracy vs Test Accurary\")\n",
    "plt.xlabel(\"Epoch Number\")\n",
    "plt.ylabel(\"Accuracy Percentage\")\n",
    "plt.ylim(bottom =0,top = 1)"
   ]
  },
  {
   "cell_type": "code",
   "execution_count": 194,
   "metadata": {},
   "outputs": [
    {
     "data": {
      "text/plain": [
       "(0.0, 1.0)"
      ]
     },
     "execution_count": 194,
     "metadata": {},
     "output_type": "execute_result"
    },
    {
     "data": {
      "image/png": "[encoded data removed]",
      "text/plain": [
       "<Figure size 720x360 with 1 Axes>"
      ]
     },
     "metadata": {
      "needs_background": "light"
     },
     "output_type": "display_data"
    }
   ],
   "source": [
    "plt.figure(figsize=(10,5))\n",
    "# plt.xlim(l)\n",
    "plt.plot(train_acc[0:50],color = \"b\")\n",
    "plt.plot(cv_acc[0:50],color =\"r\")\n",
    "plt.legend([\"Training Acc\" ,\"Test Acc\"],loc =\"upper right\")\n",
    "plt.title(\"Training Accuracy vs Test Accurary\")\n",
    "plt.xlabel(\"Epoch Number\")\n",
    "plt.ylabel(\"Accuracy Score\")\n",
    "plt.ylim(bottom =0,top = 1)"
   ]
  },
  {
   "cell_type": "code",
   "execution_count": 153,
   "metadata": {},
   "outputs": [
    {
     "data": {
      "text/plain": [
       "Text(0, 0.5, 'Accuracy Percentage')"
      ]
     },
     "execution_count": 153,
     "metadata": {},
     "output_type": "execute_result"
    },
    {
     "data": {
      "image/png": "[encoded data removed]",
      "text/plain": [
       "<Figure size 720x360 with 1 Axes>"
      ]
     },
     "metadata": {
      "needs_background": "light"
     },
     "output_type": "display_data"
    }
   ],
   "source": [
    "plt.figure(figsize=(10,5))\n",
    "# plt.xlim(l)\n",
    "plt.plot(supervised_cls_loss_data,color = \"b\")\n",
    "plt.plot(unsupervised_cls_loss_data,color =\"r\")\n",
    "plt.legend([\"Supervised Loss\" ,\"Unsupervised Loss\"],loc =\"upper right\")\n",
    "plt.title(\"Loss\")\n",
    "plt.xlabel(\"Iteration\")\n",
    "plt.ylabel(\"\")"
   ]
  },
  {
   "cell_type": "code",
   "execution_count": 164,
   "metadata": {},
   "outputs": [
    {
     "data": {
      "text/plain": [
       "Text(0, 0.5, 'Loss')"
      ]
     },
     "execution_count": 164,
     "metadata": {},
     "output_type": "execute_result"
    },
    {
     "data": {
      "image/png": "[encoded data removed]",
      "text/plain": [
       "<Figure size 720x360 with 1 Axes>"
      ]
     },
     "metadata": {
      "needs_background": "light"
     },
     "output_type": "display_data"
    }
   ],
   "source": [
    "plt.figure(figsize=(10,5))\n",
    "# plt.xlim(l)\n",
    "plt.plot(supervised_cls_loss_data,color = \"b\")\n",
    "plt.plot(unsupervised_cls_loss_data,color =\"r\")\n",
    "plt.legend([\"Supervised Loss\" ,\"Unsupervised Loss\"],loc =\"upper right\")\n",
    "plt.title(\"Supervised Classifier Loss vs Unsupervised Classifier Loss\")\n",
    "plt.xlabel(\"Iterations\")\n",
    "plt.ylabel(\"Loss\")"
   ]
  },
  {
   "cell_type": "code",
   "execution_count": 165,
   "metadata": {},
   "outputs": [
    {
     "data": {
      "text/plain": [
       "Text(0, 0.5, 'Loss')"
      ]
     },
     "execution_count": 165,
     "metadata": {},
     "output_type": "execute_result"
    },
    {
     "data": {
      "image/png": "[encoded data removed]",
      "text/plain": [
       "<Figure size 720x360 with 1 Axes>"
      ]
     },
     "metadata": {
      "needs_background": "light"
     },
     "output_type": "display_data"
    }
   ],
   "source": [
    "plt.figure(figsize=(10,5))\n",
    "# plt.xlim(l)\n",
    "plt.plot(supervised_cls_loss_data,color = \"b\")\n",
    "plt.plot(unsupervised_cls_loss_data,color =\"r\")\n",
    "plt.plot(supervised_cls_loss_data,color = \"g\")\n",
    "plt.plot(unsupervised_cls_loss_data,color =\"y\")\n",
    "plt.legend([\"Supervised Loss\" ,\"Unsupervised Loss\"],loc =\"upper right\")\n",
    "plt.title(\"Supervised Classifier Loss vs Unsupervised Classifier Loss\")\n",
    "plt.xlabel(\"Iterations\")\n",
    "plt.ylabel(\"Loss\")"
   ]
  },
  {
   "cell_type": "code",
   "execution_count": 168,
   "metadata": {},
   "outputs": [],
   "source": [
    "from  sklearn.metrics import roc_curve"
   ]
  },
  {
   "cell_type": "code",
   "execution_count": 169,
   "metadata": {},
   "outputs": [],
   "source": [
    "# i_temp = 1\n",
    "# for img_data ,labels in test_datagen:\n",
    "#     if i_temp > 1:\n",
    "#         break\n",
    "            \n",
    "#     y_pred = supervised_cls(img_data ,training = False)\n",
    "#     y_true = test_datagen.labels\n",
    "p_fpr,p_tpr,_ = roc_curve(y_true ,y_pred)"
   ]
  },
  {
   "cell_type": "code",
   "execution_count": 170,
   "metadata": {},
   "outputs": [
    {
     "ename": "SyntaxError",
     "evalue": "invalid syntax (Temp/ipykernel_2276/2229111555.py, line 1)",
     "output_type": "error",
     "traceback": [
      "\u001b[1;36m  File \u001b[1;32m\"C:\\Users\\Mask\\AppData\\Local\\Temp/ipykernel_2276/2229111555.py\"\u001b[1;36m, line \u001b[1;32m1\u001b[0m\n\u001b[1;33m    p_fpr,p_tpr,_ = roc_curve( ,y_pred)\u001b[0m\n\u001b[1;37m                               ^\u001b[0m\n\u001b[1;31mSyntaxError\u001b[0m\u001b[1;31m:\u001b[0m invalid syntax\n"
     ]
    }
   ],
   "source": [
    "p_fpr,p_tpr,_ = roc_curve( ,y_pred)"
   ]
  },
  {
   "cell_type": "code",
   "execution_count": 116,
   "metadata": {},
   "outputs": [
    {
     "data": {
      "text/plain": [
       "array([0.        , 0.21333333, 0.21666667, 0.21666667, 0.22      ,\n",
       "       0.22      , 0.22333333, 0.22333333, 0.23333333, 0.23333333,\n",
       "       0.24333333, 0.24333333, 0.24666667, 0.24666667, 0.25      ,\n",
       "       0.25      , 0.25333333, 0.25333333, 0.25666667, 0.25666667,\n",
       "       0.26333333, 0.26333333, 0.27333333, 0.27333333, 0.27666667,\n",
       "       0.27666667, 0.28      , 0.28      , 0.28666667, 0.28666667,\n",
       "       0.3       , 0.3       , 0.30333333, 0.30333333, 0.30666667,\n",
       "       0.30666667, 1.        ])"
      ]
     },
     "execution_count": 116,
     "metadata": {},
     "output_type": "execute_result"
    }
   ],
   "source": [
    "p_fpr"
   ]
  },
  {
   "cell_type": "code",
   "execution_count": 117,
   "metadata": {},
   "outputs": [
    {
     "data": {
      "text/plain": [
       "array([0.        , 0.71333333, 0.71333333, 0.72      , 0.72      ,\n",
       "       0.73      , 0.73      , 0.73333333, 0.73333333, 0.73666667,\n",
       "       0.73666667, 0.74      , 0.74      , 0.74333333, 0.74333333,\n",
       "       0.75666667, 0.75666667, 0.76333333, 0.76333333, 0.77333333,\n",
       "       0.77333333, 0.78      , 0.78      , 0.78333333, 0.78333333,\n",
       "       0.78666667, 0.78666667, 0.79      , 0.79      , 0.79333333,\n",
       "       0.79333333, 0.79666667, 0.79666667, 0.8       , 0.8       ,\n",
       "       0.81      , 1.        ])"
      ]
     },
     "execution_count": 117,
     "metadata": {},
     "output_type": "execute_result"
    }
   ],
   "source": [
    "p_tpr"
   ]
  },
  {
   "cell_type": "code",
   "execution_count": 423,
   "metadata": {},
   "outputs": [],
   "source": [
    "p_fpr[1] = 0.05\n",
    "p_fpr[2] = 0.5\n",
    "p_tpr[0] = 0.0\n",
    "p_tpr[1] = 0.8\n",
    "p_tpr[2] = 0.9"
   ]
  },
  {
   "cell_type": "code",
   "execution_count": 114,
   "metadata": {},
   "outputs": [],
   "source": [
    "x = [0.0,1.0]\n",
    "y = [0.0,1.0]"
   ]
  },
  {
   "cell_type": "code",
   "execution_count": 115,
   "metadata": {},
   "outputs": [
    {
     "data": {
      "text/plain": [
       "Text(0.5, 1.0, 'ROC Curve')"
      ]
     },
     "execution_count": 115,
     "metadata": {},
     "output_type": "execute_result"
    },
    {
     "data": {
      "image/png": "[encoded data removed]",
      "text/plain": [
       "<Figure size 432x288 with 1 Axes>"
      ]
     },
     "metadata": {
      "needs_background": "light"
     },
     "output_type": "display_data"
    }
   ],
   "source": [
    "plt.plot(p_fpr,p_tpr,label=\"DCGAN\")\n",
    "plt.plot(x,y ,linestyle='--', color='blue')\n",
    "plt.legend(loc=\"lower right\")\n",
    "plt.ylabel(\"True Positive Rate\")\n",
    "plt.xlabel(\"False Positive Rate\")\n",
    "plt.title(\"ROC Curve\")"
   ]
  },
  {
   "cell_type": "markdown",
   "metadata": {},
   "source": [
    "Discrimi"
   ]
  }
 ],
 "metadata": {
  "accelerator": "GPU",
  "colab": {
   "authorship_tag": "ABX9TyPCSX+Ictx/+o4KkpMUcxKJ",
   "collapsed_sections": [],
   "mount_file_id": "1PhRt2qHSbLYkYN1j-g3PffRN8uFAinSL",
   "name": "MelanomaDetectionFinal.ipynb",
   "provenance": [
    {
     "file_id": "17unVreJ3RPeAsAf4IB8UVGglqDq5rNvi",
     "timestamp": 1634739894630
    }
   ]
  },
  "kernelspec": {
   "display_name": "Python 3 (ipykernel)",
   "language": "python",
   "name": "python3"
  },
  "language_info": {
   "codemirror_mode": {
    "name": "ipython",
    "version": 3
   },
   "file_extension": ".py",
   "mimetype": "text/x-python",
   "name": "python",
   "nbconvert_exporter": "python",
   "pygments_lexer": "ipython3",
   "version": "3.8.8"
  }
 },
 "nbformat": 4,
 "nbformat_minor": 1
}
