{
 "cells": [
  {
   "cell_type": "code",
   "execution_count": 1,
   "id": "20da7c1a",
   "metadata": {},
   "outputs": [],
   "source": [
    "from keras_preprocessing.image import ImageDataGenerator\n",
    "from keras.layers import Conv2D,Conv2DTranspose,Input,Dense,Flatten,BatchNormalization,LeakyReLU,Dropout,Reshape\n",
    "from keras.models import Sequential\n",
    "import tensorflow as tf"
   ]
  },
  {
   "cell_type": "code",
   "execution_count": 2,
   "id": "b08e5efe",
   "metadata": {},
   "outputs": [],
   "source": [
    "import os \n",
    "import numpy as np"
   ]
  },
  {
   "cell_type": "code",
   "execution_count": 31,
   "id": "2143ba6c",
   "metadata": {},
   "outputs": [],
   "source": [
    "import matplotlib.pyplot as plt"
   ]
  },
  {
   "cell_type": "code",
   "execution_count": 4,
   "id": "a243c0fd",
   "metadata": {},
   "outputs": [],
   "source": [
    "root_dir = \"F:/Code/jaskirat`s Sir/Semi-Supervised-Learning-for-Healthcare/MelanomaDetection\""
   ]
  },
  {
   "cell_type": "code",
   "execution_count": 5,
   "id": "b050e5a6",
   "metadata": {},
   "outputs": [],
   "source": [
    "unlabeled_datagen = ImageDataGenerator(featurewise_center=True , horizontal_flip=True ,vertical_flip=True ,\n",
    "                                    rescale=1/255, brightness_range=(.5,1))"
   ]
  },
  {
   "cell_type": "code",
   "execution_count": 6,
   "id": "65cc1c76",
   "metadata": {},
   "outputs": [
    {
     "name": "stdout",
     "output_type": "stream",
     "text": [
      "Found 7018 images belonging to 1 classes.\n"
     ]
    }
   ],
   "source": [
    "unlabeled_data = unlabeled_datagen.flow_from_directory(directory=root_dir,\n",
    "                                                       classes = [\"unlabeled\"],\n",
    "                                                       target_size = (32,32),\n",
    "                                                       batch_size=256 )"
   ]
  },
  {
   "cell_type": "code",
   "execution_count": 15,
   "id": "ebdc5223",
   "metadata": {},
   "outputs": [],
   "source": []
  },
  {
   "cell_type": "code",
   "execution_count": 8,
   "id": "43c4e9dd",
   "metadata": {},
   "outputs": [],
   "source": [
    "def Discriminator():\n",
    "    dis = Sequential(name = \"Discriminator\")\n",
    "    \n",
    "    dis.add(Conv2D(filters=64,kernel_size=4,strides=2,padding=\"same\",input_shape=(32,32,3),use_bias=False))\n",
    "    dis.add(LeakyReLU(alpha=0.2))\n",
    "    \n",
    "    dis.add(Conv2D(filters=128,kernel_size=4,strides=2,padding=\"same\",use_bias=False))\n",
    "    dis.add(BatchNormalization())\n",
    "    dis.add(LeakyReLU(alpha=0.2))\n",
    "    \n",
    "    dis.add(Conv2D(filters=256,kernel_size=4,strides=2,padding=\"same\",use_bias=False))\n",
    "    dis.add(BatchNormalization())\n",
    "    dis.add(LeakyReLU(alpha=0.2))\n",
    "    \n",
    "    dis.add(Flatten())\n",
    "    dis.add(Dropout(0.4))\n",
    "    \n",
    "    dis.add(Dense(units = 1, activation = \"sigmoid\"  ))\n",
    "    return dis\n"
   ]
  },
  {
   "cell_type": "code",
   "execution_count": 16,
   "id": "cd472813",
   "metadata": {},
   "outputs": [],
   "source": [
    "def Generator():\n",
    "    noise = 100\n",
    "    gen= Sequential(name= \"Generator\")\n",
    "    \n",
    "    gen.add(Input(shape=(noise,)))\n",
    "    gen.add(Dense(units = 4*4*100 ,activation = \"linear\"))\n",
    "    gen.add(Reshape((4,4,100)))\n",
    "    \n",
    "    gen.add(Conv2DTranspose(filters=256,kernel_size=4,strides=1,padding=\"same\",use_bias=False))\n",
    "    gen.add(BatchNormalization())\n",
    "    gen.add(LeakyReLU(alpha=0.2))\n",
    "    \n",
    "    gen.add(Conv2DTranspose(filters = 128,kernel_size=4, strides = 2 ,padding =\"same\", use_bias = False))\n",
    "    gen.add(BatchNormalization())\n",
    "    gen.add(LeakyReLU(alpha = 0.2))\n",
    "            \n",
    "    gen.add(Conv2DTranspose(filters = 64 , kernel_size = 4, strides =2 ,padding =\"same\" ,use_bias =False))\n",
    "    gen.add(BatchNormalization())\n",
    "    gen.add(LeakyReLU(alpha =0.2))\n",
    "            \n",
    "    gen.add(Conv2DTranspose(filters = 3 ,kernel_size =4, strides =2 ,padding =\"same\" ,use_bias =False))\n",
    "    \n",
    "    return gen"
   ]
  },
  {
   "cell_type": "code",
   "execution_count": 10,
   "id": "73a55d65",
   "metadata": {},
   "outputs": [],
   "source": [
    "D = Discriminator()"
   ]
  },
  {
   "cell_type": "code",
   "execution_count": 11,
   "id": "c34b82fd",
   "metadata": {},
   "outputs": [
    {
     "name": "stdout",
     "output_type": "stream",
     "text": [
      "Model: \"Discriminator\"\n",
      "_________________________________________________________________\n",
      " Layer (type)                Output Shape              Param #   \n",
      "=================================================================\n",
      " conv2d (Conv2D)             (None, 16, 16, 64)        3072      \n",
      "                                                                 \n",
      " leaky_re_lu (LeakyReLU)     (None, 16, 16, 64)        0         \n",
      "                                                                 \n",
      " conv2d_1 (Conv2D)           (None, 8, 8, 128)         131072    \n",
      "                                                                 \n",
      " batch_normalization (BatchN  (None, 8, 8, 128)        512       \n",
      " ormalization)                                                   \n",
      "                                                                 \n",
      " leaky_re_lu_1 (LeakyReLU)   (None, 8, 8, 128)         0         \n",
      "                                                                 \n",
      " conv2d_2 (Conv2D)           (None, 4, 4, 256)         524288    \n",
      "                                                                 \n",
      " batch_normalization_1 (Batc  (None, 4, 4, 256)        1024      \n",
      " hNormalization)                                                 \n",
      "                                                                 \n",
      " leaky_re_lu_2 (LeakyReLU)   (None, 4, 4, 256)         0         \n",
      "                                                                 \n",
      " flatten (Flatten)           (None, 4096)              0         \n",
      "                                                                 \n",
      " dropout (Dropout)           (None, 4096)              0         \n",
      "                                                                 \n",
      " dense (Dense)               (None, 1)                 4097      \n",
      "                                                                 \n",
      "=================================================================\n",
      "Total params: 664,065\n",
      "Trainable params: 663,297\n",
      "Non-trainable params: 768\n",
      "_________________________________________________________________\n"
     ]
    }
   ],
   "source": [
    "D.summary()"
   ]
  },
  {
   "cell_type": "code",
   "execution_count": 20,
   "id": "1bcffdb7",
   "metadata": {},
   "outputs": [
    {
     "name": "stdout",
     "output_type": "stream",
     "text": [
      "('You must install pydot (`pip install pydot`) and install graphviz (see instructions at https://graphviz.gitlab.io/download/) ', 'for plot_model/model_to_dot to work.')\n"
     ]
    }
   ],
   "source": [
    "tf.keras.utils.plot_model(model=D,show_shapes=True)"
   ]
  },
  {
   "cell_type": "code",
   "execution_count": 17,
   "id": "dafce00b",
   "metadata": {},
   "outputs": [],
   "source": [
    "G = Generator()"
   ]
  },
  {
   "cell_type": "code",
   "execution_count": 18,
   "id": "c2024f32",
   "metadata": {
    "scrolled": true
   },
   "outputs": [
    {
     "name": "stdout",
     "output_type": "stream",
     "text": [
      "Model: \"Generator\"\n",
      "_________________________________________________________________\n",
      " Layer (type)                Output Shape              Param #   \n",
      "=================================================================\n",
      " dense_3 (Dense)             (None, 1600)              161600    \n",
      "                                                                 \n",
      " reshape (Reshape)           (None, 4, 4, 100)         0         \n",
      "                                                                 \n",
      " conv2d_transpose (Conv2DTra  (None, 4, 4, 256)        409600    \n",
      " nspose)                                                         \n",
      "                                                                 \n",
      " batch_normalization_2 (Batc  (None, 4, 4, 256)        1024      \n",
      " hNormalization)                                                 \n",
      "                                                                 \n",
      " leaky_re_lu_3 (LeakyReLU)   (None, 4, 4, 256)         0         \n",
      "                                                                 \n",
      " conv2d_transpose_1 (Conv2DT  (None, 8, 8, 128)        524288    \n",
      " ranspose)                                                       \n",
      "                                                                 \n",
      " batch_normalization_3 (Batc  (None, 8, 8, 128)        512       \n",
      " hNormalization)                                                 \n",
      "                                                                 \n",
      " leaky_re_lu_4 (LeakyReLU)   (None, 8, 8, 128)         0         \n",
      "                                                                 \n",
      " conv2d_transpose_2 (Conv2DT  (None, 16, 16, 64)       131072    \n",
      " ranspose)                                                       \n",
      "                                                                 \n",
      " batch_normalization_4 (Batc  (None, 16, 16, 64)       256       \n",
      " hNormalization)                                                 \n",
      "                                                                 \n",
      " leaky_re_lu_5 (LeakyReLU)   (None, 16, 16, 64)        0         \n",
      "                                                                 \n",
      " conv2d_transpose_3 (Conv2DT  (None, 32, 32, 3)        3072      \n",
      " ranspose)                                                       \n",
      "                                                                 \n",
      "=================================================================\n",
      "Total params: 1,231,424\n",
      "Trainable params: 1,230,528\n",
      "Non-trainable params: 896\n",
      "_________________________________________________________________\n"
     ]
    }
   ],
   "source": [
    "G.summary()"
   ]
  },
  {
   "cell_type": "code",
   "execution_count": 19,
   "id": "427007b1",
   "metadata": {},
   "outputs": [
    {
     "name": "stdout",
     "output_type": "stream",
     "text": [
      "('You must install pydot (`pip install pydot`) and install graphviz (see instructions at https://graphviz.gitlab.io/download/) ', 'for plot_model/model_to_dot to work.')\n"
     ]
    }
   ],
   "source": [
    "tf.keras.utils.plot_model(model=G,show_shapes=True)"
   ]
  },
  {
   "cell_type": "code",
   "execution_count": 28,
   "id": "ea6adf25",
   "metadata": {},
   "outputs": [],
   "source": []
  },
  {
   "cell_type": "code",
   "execution_count": 30,
   "id": "e0494a20",
   "metadata": {},
   "outputs": [],
   "source": [
    "generated_image = G(random_noise)\n"
   ]
  },
  {
   "cell_type": "code",
   "execution_count": 35,
   "id": "43d7124b",
   "metadata": {},
   "outputs": [
    {
     "name": "stderr",
     "output_type": "stream",
     "text": [
      "Clipping input data to the valid range for imshow with RGB data ([0..1] for floats or [0..255] for integers).\n"
     ]
    },
    {
     "data": {
      "text/plain": [
       "<matplotlib.image.AxesImage at 0x2ea0477ab50>"
      ]
     },
     "execution_count": 35,
     "metadata": {},
     "output_type": "execute_result"
    },
    {
     "data": {
      "image/png": "[encoded data removed]",
      "text/plain": [
       "<Figure size 432x288 with 1 Axes>"
      ]
     },
     "metadata": {
      "needs_background": "light"
     },
     "output_type": "display_data"
    }
   ],
   "source": [
    "plt.imshow(generated_image[0,:,:,:])"
   ]
  },
  {
   "cell_type": "code",
   "execution_count": 37,
   "id": "84c25150",
   "metadata": {},
   "outputs": [
    {
     "name": "stdout",
     "output_type": "stream",
     "text": [
      "tf.Tensor([[0.5002174]], shape=(1, 1), dtype=float32)\n"
     ]
    }
   ],
   "source": [
    "posterior_prob_dis = D(generated_image)\n",
    "print(posterior_prob_dis)"
   ]
  },
  {
   "cell_type": "code",
   "execution_count": 40,
   "id": "94d0d062",
   "metadata": {},
   "outputs": [],
   "source": [
    "bce_loss = tf.keras.losses.BinaryCrossentropy(from_logits=False ,label_smoothing=0.05)"
   ]
  },
  {
   "cell_type": "code",
   "execution_count": 41,
   "id": "932ececa",
   "metadata": {},
   "outputs": [],
   "source": [
    "def Dis_loss(real_img , fake_img_preds):\n",
    "    real_img_labels = tf.ones_like(real_img)\n",
    "    fake_img_labels = tf.zeros_like(fake_img_preds)\n",
    "    \n",
    "    real_img_loss = bce_loss(y_true=real_img,y_pred=real_img_labels)\n",
    "    fake_img_pred_loss = bce_loss(y_true=fake_img_preds , y_pred=fake_img_labels)\n",
    "    \n",
    "    total_loss = real_img_loss + fake_img_pred_loss\n",
    "    return loss      "
   ]
  },
  {
   "cell_type": "code",
   "execution_count": 42,
   "id": "85f4931a",
   "metadata": {},
   "outputs": [],
   "source": [
    "def G_loss(fake_img_preds):\n",
    "    fake_img_labels = tf.zeros_like(fake_img_preds)\n",
    "    return bce_loss(y_true=fake_img_preds ,y_pred = fake_img_preds)"
   ]
  },
  {
   "cell_type": "code",
   "execution_count": 43,
   "id": "b30167c5",
   "metadata": {},
   "outputs": [],
   "source": [
    "D_optimizers = tf.keras.optimizers.Adam(learning_rate=0.008 ,beta_1 = 0.3)\n",
    "G_optimizers = tf.keras.optimizers.Adam(learning_rate=0.004 , beta_1 = 0.1 )"
   ]
  },
  {
   "cell_type": "code",
   "execution_count": 47,
   "id": "47b25dbe",
   "metadata": {},
   "outputs": [],
   "source": [
    "ckpt_dir_path = os.path.join(root_dir,\"Checkpoint\")\n",
    "# Gan_checkpoint_dir = os.mkdir(ckpt_dir_path)\n",
    "Gan_checkpoint_dir_prefix =os.path.join(ckpt_dir_path,\"ckpt\")\n",
    "GAN_ckeckpoint = tf.train.Checkpoint(optimizer = [D_optimizers,G_optimizers] , model = [D,G])"
   ]
  },
  {
   "cell_type": "code",
   "execution_count": 39,
   "id": "921fdb19",
   "metadata": {},
   "outputs": [],
   "source": [
    "random_noise = tf.random.normal(shape=(1,100),seed = 32,name = \"Random Noise\")\n",
    "epochs = 100\n",
    "batch_size = 256"
   ]
  },
  {
   "cell_type": "code",
   "execution_count": 48,
   "id": "15caa7a4",
   "metadata": {},
   "outputs": [],
   "source": [
    "@tf.function\n",
    "def time_step(real_img):\n",
    "    G.trainable = False\n",
    "    noise = tf.random.normal(shape=(batch_size,random_noise))\n",
    "    Fake_img_gen_mini_batch = G(noise,trainable = False)\n",
    "    \n",
    "    D.trainable = True\n",
    "    \n",
    "    with tf.GradientTape() as disc_tape ,tf.GradientTape() as gen_tape:\n",
    "        real_img_preds = D(real_img ,training =True)\n",
    "        fake_img_preds = D(Fake_img_gen_mini_batch ,training = True)\n",
    "        \n",
    "        D_loss = Dis_loss(real_img_preds , fake_img_preds)\n",
    "        gradient_of_disc = disc_tape.gradient(D_loss ,D.trainable_weights)\n",
    "        D_optimizers.apply_gradients(zip(gradient_of_disc,D.trainable_variables))\n",
    "        \n",
    "        G.trainable = True\n",
    "        D.trainable = False\n",
    "        \n",
    "        noise = tf.random.normal(shape = (batch_size,random_noise))\n",
    "        Fake_img_gen_mini_batch = G(noise,training = True)\n",
    "        \n",
    "        Gen_loss = G_loss(fake_img_preds= Fake_img_gen_mini_batch , training =True)\n",
    "        gradient_of_gen = gen_tape.gradient(Gen_loss , G.trainable_variables)\n",
    "        G_optimizers.apply_gradients(zip(Gen_loss ,G.trainable_variables))"
   ]
  },
  {
   "cell_type": "code",
   "execution_count": 56,
   "id": "0653419d",
   "metadata": {},
   "outputs": [
    {
     "name": "stdout",
     "output_type": "stream",
     "text": [
      "0099\n"
     ]
    }
   ],
   "source": [
    "num= 99\n",
    "print(\"{:04}\".format(num))\n",
    "%04"
   ]
  }
 ],
 "metadata": {
  "kernelspec": {
   "display_name": "Python 3 (ipykernel)",
   "language": "python",
   "name": "python3"
  },
  "language_info": {
   "codemirror_mode": {
    "name": "ipython",
    "version": 3
   },
   "file_extension": ".py",
   "mimetype": "text/x-python",
   "name": "python",
   "nbconvert_exporter": "python",
   "pygments_lexer": "ipython3",
   "version": "3.8.8"
  }
 },
 "nbformat": 4,
 "nbformat_minor": 5
}
